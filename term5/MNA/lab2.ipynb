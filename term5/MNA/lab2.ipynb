{
 "cells": [
  {
   "cell_type": "markdown",
   "metadata": {},
   "source": [
    "# Лаба 2\n",
    "\n",
    "# Решение краевых задач. Методы коллокаций, наименьших квадратов и Гелеркина"
   ]
  },
  {
   "cell_type": "markdown",
   "metadata": {},
   "source": [
    "## Задание\n",
    "\n",
    "Получить численное решение кревой задачи\n",
    "\n",
    "$$y''+(1 + x^2)y=-1, -1 \\le x \\le 1$$\n",
    "\n",
    "$$y'' + ( \\dfrac {1} {sin(7)} + \\dfrac {x^2} {tg(7)})y = \\dfrac {-1} {sin(7)}, -1 \\le x \\le 1$$\n"
   ]
  },
  {
   "cell_type": "markdown",
   "metadata": {},
   "source": [
    "## Краевые условия \n",
    "\n",
    "$$y(-1)=0$$\n",
    "\n",
    "$$y(1) = 0$$"
   ]
  },
  {
   "cell_type": "markdown",
   "metadata": {},
   "source": [
    "## Необходимые импорты"
   ]
  },
  {
   "cell_type": "code",
   "execution_count": 1,
   "metadata": {},
   "outputs": [],
   "source": [
    "import numpy as np\n",
    "import sympy as sp\n",
    "import matplotlib.pyplot as plot\n",
    "from time import time\n",
    "from math import sin, tan"
   ]
  },
  {
   "cell_type": "markdown",
   "metadata": {},
   "source": [
    "## Решение\n",
    "Рассматриваем дифференциальные уравнения второго порядка\n",
    "\n",
    "$$y''(x) + p(x)y'(x) + q(x)y(x) = f(x)$$\n",
    "\n",
    "В нашем случае имеем \n",
    "\n",
    "$$p(x)=0, q(x)=1 + x^2, f(x)=-1, -1 \\leq x \\leq 1$$\n",
    "\n",
    "$$p(x)=0, q(x)=\\dfrac {1} {sin(7)} + \\dfrac {x^2} {tg(7)}, f(x)=\\dfrac {-1} {sin(7)}, -1 \\leq x \\leq 1$$"
   ]
  },
  {
   "cell_type": "code",
   "execution_count": 2,
   "metadata": {},
   "outputs": [],
   "source": [
    "k = 7\n",
    "a = -1\n",
    "b = 1\n",
    "\n",
    "i = sp.Symbol('i')\n",
    "x = sp.Symbol('x')\n",
    "\n",
    "\n",
    "def q1():\n",
    "    return 1 + x**2\n",
    "\n",
    "\n",
    "def q2():\n",
    "    return 1 / sin(k) + x**2 / tan(k)\n",
    "\n",
    "\n",
    "def f1():\n",
    "    return -1\n",
    "\n",
    "\n",
    "def f2():\n",
    "    return -1 / sin(k)\n",
    "\n",
    "\n",
    "def basis():\n",
    "    return x**i - x**(2 + i)\n",
    "\n",
    "\n",
    "def basis_second_diff(x, i):\n",
    "    if i == 0:\n",
    "        return -2\n",
    "    elif i == 1:\n",
    "        return -6 * x\n",
    "    else:\n",
    "        return i * (i - 1) * x**(i - 2) - (2 + i) * (i + 1) * x**i "
   ]
  },
  {
   "cell_type": "code",
   "execution_count": 3,
   "metadata": {},
   "outputs": [],
   "source": [
    "def show_solution(solution, amount_of_basis_func):\n",
    "    phi = sp.lambdify(i, basis(), \"numpy\")\n",
    "    return sum([solution[i] * phi(i) for i in range(amount_of_basis_func)])"
   ]
  },
  {
   "cell_type": "code",
   "execution_count": 4,
   "metadata": {},
   "outputs": [],
   "source": [
    "implementation = \"numpy\"\n",
    "phi = sp.lambdify([x, i], basis(), implementation)\n",
    "q1_l = sp.lambdify(x, q1(), implementation)\n",
    "q2_l = sp.lambdify(x, q2(), implementation)"
   ]
  },
  {
   "cell_type": "markdown",
   "metadata": {},
   "source": [
    "### Метод коллокаций"
   ]
  },
  {
   "cell_type": "code",
   "execution_count": 5,
   "metadata": {},
   "outputs": [],
   "source": [
    "def colocation_method(phi, q, f, x, n):\n",
    "    matrix = np.array([\n",
    "        [\n",
    "            basis_second_diff(col_point, j) + q(col_point) * phi(col_point, j) for j in range(n)\n",
    "        ]\n",
    "        for col_point in x\n",
    "    ])\n",
    "    vector = [f()] * n\n",
    "    solution = np.linalg.solve(matrix, vector)\n",
    "    return solution"
   ]
  },
  {
   "cell_type": "markdown",
   "metadata": {},
   "source": [
    "#### Задание 1"
   ]
  },
  {
   "cell_type": "code",
   "execution_count": 6,
   "metadata": {},
   "outputs": [],
   "source": [
    "amount_of_points = 100\n",
    "points = np.linspace(a, b, amount_of_points)"
   ]
  },
  {
   "cell_type": "code",
   "execution_count": 7,
   "metadata": {},
   "outputs": [
    {
     "name": "stdout",
     "output_type": "stream",
     "text": [
      "129 ms ± 15 ms per loop (mean ± std. dev. of 7 runs, 10 loops each)\n"
     ]
    }
   ],
   "source": [
    "%%timeit\n",
    "colocation_method(phi, q1_l, f1, points, amount_of_points)"
   ]
  },
  {
   "cell_type": "code",
   "execution_count": 8,
   "metadata": {
    "scrolled": true
   },
   "outputs": [
    {
     "data": {
      "text/plain": [
       "[<matplotlib.lines.Line2D at 0x1182d2320>]"
      ]
     },
     "execution_count": 8,
     "metadata": {},
     "output_type": "execute_result"
    },
    {
     "data": {
      "image/png": "[encoded data removed]",
      "text/plain": [
       "<Figure size 432x288 with 1 Axes>"
      ]
     },
     "metadata": {
      "needs_background": "light"
     },
     "output_type": "display_data"
    }
   ],
   "source": [
    "result = colocation_method(phi, q1_l, f1, points, amount_of_points)\n",
    "beautiful_solution = show_solution(result, amount_of_points)\n",
    "# print(beautiful_solution)\n",
    "y = [beautiful_solution.subs(x, point) for point in points]\n",
    "plot.plot(points, y)"
   ]
  },
  {
   "cell_type": "code",
   "execution_count": 9,
   "metadata": {},
   "outputs": [
    {
     "data": {
      "text/latex": [
       "$\\displaystyle 0.932053718329716$"
      ],
      "text/plain": [
       "0.932053718329716"
      ]
     },
     "execution_count": 9,
     "metadata": {},
     "output_type": "execute_result"
    }
   ],
   "source": [
    "beautiful_solution.subs(x, 0)"
   ]
  },
  {
   "cell_type": "markdown",
   "metadata": {},
   "source": [
    "#### Задание 2"
   ]
  },
  {
   "cell_type": "code",
   "execution_count": 10,
   "metadata": {},
   "outputs": [],
   "source": [
    "amount_of_points = 100\n",
    "points = np.linspace(a, b, amount_of_points)"
   ]
  },
  {
   "cell_type": "code",
   "execution_count": 11,
   "metadata": {},
   "outputs": [
    {
     "name": "stdout",
     "output_type": "stream",
     "text": [
      "115 ms ± 16.6 ms per loop (mean ± std. dev. of 7 runs, 10 loops each)\n"
     ]
    }
   ],
   "source": [
    "%%timeit\n",
    "colocation_method(phi, q2_l, f2, points, amount_of_points)"
   ]
  },
  {
   "cell_type": "code",
   "execution_count": 12,
   "metadata": {},
   "outputs": [
    {
     "data": {
      "text/plain": [
       "[<matplotlib.lines.Line2D at 0x1185bca90>]"
      ]
     },
     "execution_count": 12,
     "metadata": {},
     "output_type": "execute_result"
    },
    {
     "data": {
      "image/png": "[encoded data removed]",
      "text/plain": [
       "<Figure size 432x288 with 1 Axes>"
      ]
     },
     "metadata": {
      "needs_background": "light"
     },
     "output_type": "display_data"
    }
   ],
   "source": [
    "result = colocation_method(phi, q2_l, f2, points, amount_of_points)\n",
    "beautiful_solution = show_solution(result, amount_of_points)\n",
    "# print(beautiful_solution)\n",
    "y = [beautiful_solution.subs(x, point) for point in points]\n",
    "plot.plot(points, y)"
   ]
  },
  {
   "cell_type": "code",
   "execution_count": 13,
   "metadata": {},
   "outputs": [
    {
     "data": {
      "text/latex": [
       "$\\displaystyle 2.40199204232917$"
      ],
      "text/plain": [
       "2.40199204232917"
      ]
     },
     "execution_count": 13,
     "metadata": {},
     "output_type": "execute_result"
    }
   ],
   "source": [
    "beautiful_solution.subs(x, 0)"
   ]
  },
  {
   "cell_type": "markdown",
   "metadata": {},
   "source": [
    "### Метод наименьших квадратов"
   ]
  },
  {
   "cell_type": "code",
   "execution_count": 14,
   "metadata": {},
   "outputs": [],
   "source": [
    "def least_square_method(phi, q, f, x, n):\n",
    "    a_xj = [[basis_second_diff(j, i) + q(j) * phi(j, i) for j in x] for i in range(n)]\n",
    "    matrix = []\n",
    "    for a_i in a_xj:\n",
    "        dsum_ai = []\n",
    "        for a_k in a_xj:\n",
    "            dsum_ai.append(sum(i * k for i, k in zip(a_i, a_k)))\n",
    "        matrix.append(dsum_ai)\n",
    "    vector = [f() * sum(a_i) for a_i in a_xj]\n",
    "    solution = np.linalg.solve(matrix, vector)\n",
    "    return solution"
   ]
  },
  {
   "cell_type": "markdown",
   "metadata": {},
   "source": [
    "#### Задание 1"
   ]
  },
  {
   "cell_type": "code",
   "execution_count": 15,
   "metadata": {},
   "outputs": [],
   "source": [
    "amount_of_points = 300\n",
    "amount_of_basis_func = 100\n",
    "points = np.linspace(-1, 1, amount_of_points)"
   ]
  },
  {
   "cell_type": "code",
   "execution_count": 16,
   "metadata": {
    "scrolled": true
   },
   "outputs": [
    {
     "name": "stdout",
     "output_type": "stream",
     "text": [
      "1.72 s ± 265 ms per loop (mean ± std. dev. of 7 runs, 1 loop each)\n"
     ]
    }
   ],
   "source": [
    "%%timeit\n",
    "least_square_method(phi, q1_l, f1, points, amount_of_basis_func)"
   ]
  },
  {
   "cell_type": "code",
   "execution_count": 17,
   "metadata": {
    "scrolled": true
   },
   "outputs": [
    {
     "data": {
      "text/plain": [
       "[<matplotlib.lines.Line2D at 0x118748f98>]"
      ]
     },
     "execution_count": 17,
     "metadata": {},
     "output_type": "execute_result"
    },
    {
     "data": {
      "image/png": "[encoded data removed]",
      "text/plain": [
       "<Figure size 432x288 with 1 Axes>"
      ]
     },
     "metadata": {
      "needs_background": "light"
     },
     "output_type": "display_data"
    }
   ],
   "source": [
    "result = least_square_method(phi, q1_l, f1, points, amount_of_basis_func)\n",
    "beautiful_solution = show_solution(result, amount_of_basis_func)\n",
    "# print(beautiful_solution)\n",
    "y = [beautiful_solution.subs(x, point) for point in points]\n",
    "plot.plot(points, y)"
   ]
  },
  {
   "cell_type": "code",
   "execution_count": 18,
   "metadata": {},
   "outputs": [
    {
     "data": {
      "text/latex": [
       "$\\displaystyle 0.932053718486132$"
      ],
      "text/plain": [
       "0.932053718486132"
      ]
     },
     "execution_count": 18,
     "metadata": {},
     "output_type": "execute_result"
    }
   ],
   "source": [
    "beautiful_solution.subs(x, 0)"
   ]
  },
  {
   "cell_type": "markdown",
   "metadata": {},
   "source": [
    "#### Задание 2"
   ]
  },
  {
   "cell_type": "code",
   "execution_count": 19,
   "metadata": {},
   "outputs": [],
   "source": [
    "amount_of_points = 300\n",
    "amount_of_basis_func = 100\n",
    "points = np.linspace(-1, 1, amount_of_points)"
   ]
  },
  {
   "cell_type": "code",
   "execution_count": 20,
   "metadata": {},
   "outputs": [
    {
     "name": "stdout",
     "output_type": "stream",
     "text": [
      "1.4 s ± 139 ms per loop (mean ± std. dev. of 7 runs, 1 loop each)\n"
     ]
    }
   ],
   "source": [
    "%%timeit\n",
    "least_square_method(phi, q2_l, f2, points, amount_of_basis_func)"
   ]
  },
  {
   "cell_type": "code",
   "execution_count": 21,
   "metadata": {
    "scrolled": true
   },
   "outputs": [
    {
     "data": {
      "text/plain": [
       "[<matplotlib.lines.Line2D at 0x1187ab978>]"
      ]
     },
     "execution_count": 21,
     "metadata": {},
     "output_type": "execute_result"
    },
    {
     "data": {
      "image/png": "[encoded data removed]",
      "text/plain": [
       "<Figure size 432x288 with 1 Axes>"
      ]
     },
     "metadata": {
      "needs_background": "light"
     },
     "output_type": "display_data"
    }
   ],
   "source": [
    "result = least_square_method(phi, q2_l, f2, points, amount_of_basis_func)\n",
    "beautiful_solution = show_solution(result, amount_of_basis_func)\n",
    "# print(beautiful_solution)\n",
    "y = [beautiful_solution.subs(x, point) for point in points]\n",
    "plot.plot(points, y)"
   ]
  },
  {
   "cell_type": "code",
   "execution_count": 22,
   "metadata": {},
   "outputs": [
    {
     "data": {
      "text/latex": [
       "$\\displaystyle 2.40199204287984$"
      ],
      "text/plain": [
       "2.40199204287984"
      ]
     },
     "execution_count": 22,
     "metadata": {},
     "output_type": "execute_result"
    }
   ],
   "source": [
    "beautiful_solution.subs(x, 0)"
   ]
  },
  {
   "cell_type": "markdown",
   "metadata": {},
   "source": [
    "### Метод Галеркина"
   ]
  },
  {
   "cell_type": "code",
   "execution_count": 23,
   "metadata": {},
   "outputs": [],
   "source": [
    "def galerkin_method(phi, q, f, n):\n",
    "    x_amount = n * n\n",
    "    dx = (b - a) / x_amount\n",
    "    x = np.linspace(a, b, x_amount)\n",
    "    basis_second_diffs = np.array([\n",
    "        basis_second_diff(x, i) for i in range(n)\n",
    "    ])\n",
    "    qs = q(x)\n",
    "    phis = np.array([\n",
    "        phi(x, i) for i in range(n)\n",
    "    ])\n",
    "    matrix = np.array([\n",
    "        np.array([np.trapz(phis[j] * (basis_second_diffs[i] + qs * phis[i]), dx=dx) for i in range(n)])\n",
    "        for j in range(n)\n",
    "    ])\n",
    "    vector = np.array([np.trapz(f() * phis[i], dx=dx) for i in range(n)])\n",
    "    solution = np.linalg.solve(matrix, vector)\n",
    "    return solution"
   ]
  },
  {
   "cell_type": "markdown",
   "metadata": {},
   "source": [
    "#### Задание 1"
   ]
  },
  {
   "cell_type": "code",
   "execution_count": 24,
   "metadata": {},
   "outputs": [],
   "source": [
    "amount_of_basis_func = 100"
   ]
  },
  {
   "cell_type": "code",
   "execution_count": 25,
   "metadata": {},
   "outputs": [
    {
     "name": "stdout",
     "output_type": "stream",
     "text": [
      "1.5 s ± 113 ms per loop (mean ± std. dev. of 7 runs, 1 loop each)\n"
     ]
    }
   ],
   "source": [
    "%%timeit\n",
    "galerkin_method(phi, q1_l, f1, amount_of_basis_func)"
   ]
  },
  {
   "cell_type": "code",
   "execution_count": 26,
   "metadata": {},
   "outputs": [
    {
     "data": {
      "text/plain": [
       "[<matplotlib.lines.Line2D at 0x118833e10>]"
      ]
     },
     "execution_count": 26,
     "metadata": {},
     "output_type": "execute_result"
    },
    {
     "data": {
      "image/png": "[encoded data removed]",
      "text/plain": [
       "<Figure size 432x288 with 1 Axes>"
      ]
     },
     "metadata": {
      "needs_background": "light"
     },
     "output_type": "display_data"
    }
   ],
   "source": [
    "result = galerkin_method(phi, q1_l, f1, amount_of_basis_func)\n",
    "beautiful_solution = show_solution(result, amount_of_basis_func)\n",
    "# print(beautiful_solution)\n",
    "y = [beautiful_solution.subs(x, point) for point in points]\n",
    "plot.plot(points, y)"
   ]
  },
  {
   "cell_type": "code",
   "execution_count": 27,
   "metadata": {},
   "outputs": [
    {
     "data": {
      "text/latex": [
       "$\\displaystyle 0.932053718342423$"
      ],
      "text/plain": [
       "0.932053718342423"
      ]
     },
     "execution_count": 27,
     "metadata": {},
     "output_type": "execute_result"
    }
   ],
   "source": [
    "beautiful_solution.subs(x, 0)"
   ]
  },
  {
   "cell_type": "markdown",
   "metadata": {},
   "source": [
    "#### Задание 2"
   ]
  },
  {
   "cell_type": "code",
   "execution_count": 28,
   "metadata": {},
   "outputs": [],
   "source": [
    "amount_of_basis_func = 100"
   ]
  },
  {
   "cell_type": "code",
   "execution_count": 29,
   "metadata": {},
   "outputs": [
    {
     "name": "stdout",
     "output_type": "stream",
     "text": [
      "1.23 s ± 62.6 ms per loop (mean ± std. dev. of 7 runs, 1 loop each)\n"
     ]
    }
   ],
   "source": [
    "%%timeit\n",
    "galerkin_method(phi, q2_l, f2, amount_of_basis_func)"
   ]
  },
  {
   "cell_type": "code",
   "execution_count": 30,
   "metadata": {},
   "outputs": [
    {
     "data": {
      "text/plain": [
       "[<matplotlib.lines.Line2D at 0x1182d28d0>]"
      ]
     },
     "execution_count": 30,
     "metadata": {},
     "output_type": "execute_result"
    },
    {
     "data": {
      "image/png": "[encoded data removed]",
      "text/plain": [
       "<Figure size 432x288 with 1 Axes>"
      ]
     },
     "metadata": {
      "needs_background": "light"
     },
     "output_type": "display_data"
    }
   ],
   "source": [
    "result = galerkin_method(phi, q2_l, f2, amount_of_basis_func)\n",
    "beautiful_solution = show_solution(result, amount_of_basis_func)\n",
    "# print(beautiful_solution)\n",
    "y = [beautiful_solution.subs(x, point) for point in points]\n",
    "plot.plot(points, y)"
   ]
  },
  {
   "cell_type": "code",
   "execution_count": 31,
   "metadata": {},
   "outputs": [
    {
     "data": {
      "text/latex": [
       "$\\displaystyle 2.40199204246966$"
      ],
      "text/plain": [
       "2.40199204246966"
      ]
     },
     "execution_count": 31,
     "metadata": {},
     "output_type": "execute_result"
    }
   ],
   "source": [
    "beautiful_solution.subs(x, 0)"
   ]
  }
 ],
 "metadata": {
  "kernelspec": {
   "display_name": "math_venv",
   "language": "python",
   "name": "math_venv"
  },
  "language_info": {
   "codemirror_mode": {
    "name": "ipython",
    "version": 3
   },
   "file_extension": ".py",
   "mimetype": "text/x-python",
   "name": "python",
   "nbconvert_exporter": "python",
   "pygments_lexer": "ipython3",
   "version": "3.7.2"
  }
 },
 "nbformat": 4,
 "nbformat_minor": 4
}
