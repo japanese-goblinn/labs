{
 "cells": [
  {
   "cell_type": "markdown",
   "metadata": {},
   "source": [
    "# Лаба 1\n",
    "\n",
    "# Решение краевых задач методом разностных аппроксимаций"
   ]
  },
  {
   "cell_type": "markdown",
   "metadata": {},
   "source": [
    "## Задание \n",
    "\n",
    "Составить разностную схему и получить численное решение краевой задачи с точностью $10^{-3}$"
   ]
  },
  {
   "cell_type": "markdown",
   "metadata": {},
   "source": [
    "### Краевые условия \n",
    "\n",
    "$y(-1)=0, y(1) = 0$"
   ]
  },
  {
   "cell_type": "markdown",
   "metadata": {},
   "source": [
    "## Необходимые импорты"
   ]
  },
  {
   "cell_type": "code",
   "execution_count": 1,
   "metadata": {
    "pycharm": {
     "is_executing": false
    }
   },
   "outputs": [],
   "source": [
    "import matplotlib.pyplot as plot\n",
    "import numpy as np\n",
    "from math import sin, cos, tan"
   ]
  },
  {
   "cell_type": "markdown",
   "metadata": {},
   "source": [
    "## Задание 1"
   ]
  },
  {
   "cell_type": "markdown",
   "metadata": {},
   "source": [
    "### Условие"
   ]
  },
  {
   "cell_type": "markdown",
   "metadata": {},
   "source": [
    "$y''+(1+x^2)y=-1, -1 \\leq x \\leq 1$"
   ]
  },
  {
   "cell_type": "markdown",
   "metadata": {},
   "source": [
    "### Решение"
   ]
  },
  {
   "cell_type": "markdown",
   "metadata": {},
   "source": [
    "Имеем частный случай линейной краевой задачи $y''-p(x)y=f(x)$, где $p(x)=-(1+x^2)$, а $f(x)=-1$"
   ]
  },
  {
   "cell_type": "code",
   "execution_count": 2,
   "metadata": {
    "pycharm": {
     "is_executing": false
    }
   },
   "outputs": [],
   "source": [
    "p = lambda x: -(1 + x**2)\n",
    "\n",
    "f = lambda x: -1\n",
    "\n",
    "a = -1; b = 1; A = 0; B = 0"
   ]
  },
  {
   "cell_type": "code",
   "execution_count": 3,
   "metadata": {
    "pycharm": {
     "is_executing": false
    }
   },
   "outputs": [],
   "source": [
    "def get_step(n):\n",
    "    return (b - a) / n\n",
    "\n",
    "def get_x(n, h):\n",
    "    return [a + k * h for k in range(n + 1)]\n",
    "\n",
    "def get_linear_system(n, h, x):\n",
    "    matrix = [\n",
    "        [0 for _ in range(n + 1)] for _ in range(n + 1)\n",
    "    ]\n",
    "    matrix[0][0] = matrix[n][n] = 1\n",
    "    for i in range(1, n):\n",
    "        matrix[i][i - 1] = 1\n",
    "        matrix[i][i] = -(2 + h**2 * p(x[i]))\n",
    "        matrix[i][i + 1] = 1\n",
    "    matrix = np.array(matrix)\n",
    "    vector = [0 for _ in range(n + 1)]\n",
    "    for i in range(1, n):\n",
    "        vector[i] = h**2 * f(x[i])\n",
    "    vector = np.array(vector)\n",
    "    return matrix, vector\n",
    "\n",
    "def solve_system(n, check_needed=None):\n",
    "    h = get_step(n)\n",
    "    x = get_x(n, h)\n",
    "    matrix, vector = get_linear_system(n, h, x)\n",
    "    y = list(np.linalg.solve(matrix, vector))\n",
    "    if check_needed:\n",
    "        print(np.allclose(np.dot(matrix, y), vector))\n",
    "    return x, y"
   ]
  },
  {
   "cell_type": "markdown",
   "metadata": {},
   "source": [
    "Выбираем $n$"
   ]
  },
  {
   "cell_type": "code",
   "execution_count": 4,
   "metadata": {
    "pycharm": {
     "is_executing": false
    }
   },
   "outputs": [
    {
     "data": {
      "text/plain": [
       "2"
      ]
     },
     "execution_count": 4,
     "metadata": {},
     "output_type": "execute_result"
    }
   ],
   "source": [
    "n = 2\n",
    "n"
   ]
  },
  {
   "cell_type": "markdown",
   "metadata": {},
   "source": [
    "Далее c точностью $10^{-3}$ находим решение краевой задачи"
   ]
  },
  {
   "cell_type": "code",
   "execution_count": 5,
   "metadata": {
    "pycharm": {
     "is_executing": false
    }
   },
   "outputs": [],
   "source": [
    "saved_x = []\n",
    "saved_y = []\n",
    "x0, y0 = solve_system(n)\n",
    "x1, y1 = solve_system(2*n)\n",
    "while True:\n",
    "    check_values = []\n",
    "    for i in range(0, n):\n",
    "        check_values.append(abs(y1[2*i] - y0[i]) < 0.001)\n",
    "    n *= 2\n",
    "    if all(check_values):\n",
    "        break\n",
    "    else:\n",
    "        saved_x.append(x0)\n",
    "        saved_y.append(y0)\n",
    "        x0, y0 = x1, y1\n",
    "        x1, y1 = solve_system(2*n)"
   ]
  },
  {
   "cell_type": "code",
   "execution_count": 6,
   "metadata": {
    "pycharm": {
     "is_executing": false
    }
   },
   "outputs": [
    {
     "data": {
      "text/plain": [
       "'Заданная точность достигается на 64 отрезках'"
      ]
     },
     "execution_count": 6,
     "metadata": {},
     "output_type": "execute_result"
    }
   ],
   "source": [
    "f\"Заданная точность достигается на {n} отрезках\""
   ]
  },
  {
   "cell_type": "code",
   "execution_count": 7,
   "metadata": {
    "pycharm": {
     "is_executing": false
    }
   },
   "outputs": [
    {
     "data": {
      "image/png": "[encoded data removed]",
      "text/plain": [
       "<Figure size 432x288 with 1 Axes>"
      ]
     },
     "metadata": {
      "needs_background": "light"
     },
     "output_type": "display_data"
    }
   ],
   "source": [
    "plot.plot(np.linspace(a, b, n + 1), y1)\n",
    "for i, j in zip(saved_x, saved_y):\n",
    "    plot.plot(np.linspace(a, b, len(i)), j)\n",
    "plot.show()"
   ]
  },
  {
   "cell_type": "markdown",
   "metadata": {},
   "source": [
    "Ордината при которой достигается заданная точность"
   ]
  },
  {
   "cell_type": "code",
   "execution_count": 8,
   "metadata": {
    "pycharm": {
     "is_executing": false
    }
   },
   "outputs": [
    {
     "data": {
      "text/plain": [
       "0.9322042384592321"
      ]
     },
     "execution_count": 8,
     "metadata": {},
     "output_type": "execute_result"
    }
   ],
   "source": [
    "max(y1)"
   ]
  },
  {
   "cell_type": "markdown",
   "metadata": {},
   "source": [
    "## Задание 2"
   ]
  },
  {
   "cell_type": "markdown",
   "metadata": {},
   "source": [
    "### Условие"
   ]
  },
  {
   "cell_type": "markdown",
   "metadata": {},
   "source": [
    "$ay''+(1+bx^2)y=-1, -1 \\leq x \\leq 1$"
   ]
  },
  {
   "cell_type": "markdown",
   "metadata": {},
   "source": [
    "### Решение\n",
    "\n",
    "Преобразуем исходное уравненение разделив все на $sin(k)$:\n",
    "\n",
    "$ y''+(\\dfrac{1}{sin(7)}+\\dfrac{1}{tg(7)}x^2)y=\\dfrac{-1}{sin(7)}, -1 \\leq x \\leq 1$"
   ]
  },
  {
   "cell_type": "code",
   "execution_count": 9,
   "metadata": {
    "pycharm": {
     "is_executing": false
    }
   },
   "outputs": [],
   "source": [
    "p = lambda x: -(1 / sin(7) + 1 / tan(7) * x**2)\n",
    "\n",
    "f = lambda x: -1 / sin(7)"
   ]
  },
  {
   "cell_type": "markdown",
   "metadata": {},
   "source": [
    "Выбираем $n$"
   ]
  },
  {
   "cell_type": "code",
   "execution_count": 10,
   "metadata": {
    "pycharm": {
     "is_executing": false
    }
   },
   "outputs": [
    {
     "data": {
      "text/plain": [
       "2"
      ]
     },
     "execution_count": 10,
     "metadata": {},
     "output_type": "execute_result"
    }
   ],
   "source": [
    "n = 2\n",
    "n"
   ]
  },
  {
   "cell_type": "markdown",
   "metadata": {},
   "source": [
    "Получаем точно такое же решение"
   ]
  },
  {
   "cell_type": "code",
   "execution_count": 11,
   "metadata": {
    "pycharm": {
     "is_executing": false
    }
   },
   "outputs": [],
   "source": [
    "saved_x = []\n",
    "saved_y = []\n",
    "x0, y0 = solve_system(n)\n",
    "x1, y1 = solve_system(2*n)\n",
    "while True:\n",
    "    check_values = []\n",
    "    for i in range(0, n):\n",
    "        check_values.append(abs(y1[2*i] - y0[i]) < 0.001)\n",
    "    n *= 2\n",
    "    if all(check_values):\n",
    "        break\n",
    "    else:\n",
    "        saved_x.append(x0)\n",
    "        saved_y.append(y0)\n",
    "        x0, y0 = x1, y1\n",
    "        x1, y1 = solve_system(2*n)"
   ]
  },
  {
   "cell_type": "code",
   "execution_count": 12,
   "metadata": {
    "pycharm": {
     "is_executing": false
    }
   },
   "outputs": [
    {
     "data": {
      "text/plain": [
       "'Заданная точность достигается на 128 отрезках'"
      ]
     },
     "execution_count": 12,
     "metadata": {},
     "output_type": "execute_result"
    }
   ],
   "source": [
    "f\"Заданная точность достигается на {n} отрезках\""
   ]
  },
  {
   "cell_type": "code",
   "execution_count": 13,
   "metadata": {
    "pycharm": {
     "is_executing": false
    }
   },
   "outputs": [
    {
     "data": {
      "image/png": "[encoded data removed]",
      "text/plain": [
       "<Figure size 432x288 with 1 Axes>"
      ]
     },
     "metadata": {
      "needs_background": "light"
     },
     "output_type": "display_data"
    }
   ],
   "source": [
    "plot.plot(np.linspace(a, b, n + 1), y1)\n",
    "for i, j in zip(saved_x, saved_y):\n",
    "    plot.plot(np.linspace(a, b, len(i)), j)\n",
    "plot.show()"
   ]
  },
  {
   "cell_type": "markdown",
   "metadata": {},
   "source": [
    "Ордината при которой достигается заданная точность"
   ]
  },
  {
   "cell_type": "code",
   "execution_count": 14,
   "metadata": {
    "pycharm": {
     "is_executing": false
    }
   },
   "outputs": [
    {
     "data": {
      "text/plain": [
       "2.4022421148184794"
      ]
     },
     "execution_count": 14,
     "metadata": {},
     "output_type": "execute_result"
    }
   ],
   "source": [
    "max(y1)"
   ]
  }
 ],
 "metadata": {
  "kernelspec": {
   "display_name": ".math_venv",
   "language": "python",
   "name": ".math_venv"
  },
  "language_info": {
   "codemirror_mode": {
    "name": "ipython",
    "version": 3
   },
   "file_extension": ".py",
   "mimetype": "text/x-python",
   "name": "python",
   "nbconvert_exporter": "python",
   "pygments_lexer": "ipython3",
   "version": "3.7.2"
  }
 },
 "nbformat": 4,
 "nbformat_minor": 4
}
