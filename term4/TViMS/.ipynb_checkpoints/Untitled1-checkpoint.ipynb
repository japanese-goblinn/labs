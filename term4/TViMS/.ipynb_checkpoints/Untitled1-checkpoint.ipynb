{
 "cells": [
  {
   "cell_type": "code",
   "execution_count": 1,
   "metadata": {},
   "outputs": [],
   "source": [
    "from random import uniform\n",
    "from tabulate import tabulate\n",
    "from collections import Counter\n",
    "import matplotlib.pyplot as plt\n",
    "import numpy as np"
   ]
  },
  {
   "cell_type": "code",
   "execution_count": 2,
   "metadata": {},
   "outputs": [],
   "source": [
    "def Y(x):\n",
    "    return x**2\n",
    "\n",
    "a = -2\n",
    "b = 2\n",
    "y0 = 1\n",
    "n = 10"
   ]
  },
  {
   "cell_type": "code",
   "execution_count": 3,
   "metadata": {},
   "outputs": [
    {
     "data": {
      "text/plain": [
       "[-1.89, -0.185, -0.164, -0.131, 0.2, 0.324, 0.553, 0.813, 1.352, 1.719]"
      ]
     },
     "execution_count": 3,
     "metadata": {},
     "output_type": "execute_result"
    }
   ],
   "source": [
    "X = sorted(round(uniform(0, 1) * (b - a) + a, 3) for _ in range(n))\n",
    "X"
   ]
  },
  {
   "cell_type": "code",
   "execution_count": 5,
   "metadata": {},
   "outputs": [
    {
     "data": {
      "text/plain": [
       "[0.017, 0.027, 0.034, 0.04, 0.105, 0.306, 0.661, 1.828, 2.955, 3.572]"
      ]
     },
     "execution_count": 5,
     "metadata": {},
     "output_type": "execute_result"
    }
   ],
   "source": [
    "y_list = sorted([round(Y(X[i]), 3) for i in range(n)])\n",
    "y_list"
   ]
  },
  {
   "cell_type": "code",
   "execution_count": 6,
   "metadata": {},
   "outputs": [
    {
     "data": {
      "text/plain": [
       "[0.0, 0.1, 0.2, 0.3, 0.4, 0.5, 0.6, 0.7, 0.8, 0.9, 1.0]"
      ]
     },
     "execution_count": 6,
     "metadata": {},
     "output_type": "execute_result"
    }
   ],
   "source": [
    "counts = dict(Counter(y_list))\n",
    "freq = [round(i / n, 3) for i in counts.values()]\n",
    "ys = [0]\n",
    "for k, i in enumerate(counts.values()):\n",
    "    ys.append(ys[k] + i)\n",
    "star_f = [round(i / n, 3) for i in ys]\n",
    "star_f"
   ]
  },
  {
   "cell_type": "code",
   "execution_count": 7,
   "metadata": {},
   "outputs": [],
   "source": [
    "x_list = sorted(list(set(y_list[:])))\n",
    "x_list.insert(0, -float('inf'))\n",
    "x_list.append(float('inf'))"
   ]
  },
  {
   "cell_type": "code",
   "execution_count": 11,
   "metadata": {},
   "outputs": [
    {
     "name": "stdout",
     "output_type": "stream",
     "text": [
      "[0.017, 0.027, 0.034, 0.04, 0.105, 0.306, 0.661, 1.828, 2.955, 3.572]\n",
      "[0.0, 0.1, 0.2, 0.3, 0.4, 0.5, 0.6, 0.7, 0.8, 0.9, 1.0]\n"
     ]
    },
    {
     "data": {
      "image/png": "[encoded data removed]",
      "text/plain": [
       "<Figure size 432x288 with 1 Axes>"
      ]
     },
     "metadata": {
      "needs_background": "light"
     },
     "output_type": "display_data"
    }
   ],
   "source": [
    "x_plot = x_list[1:-1]\n",
    "y_plot = star_f[:]\n",
    "print(x_plot)\n",
    "print(y_plot)\n",
    "x_plot.insert(0, a)\n",
    "x_plot.append(6)\n",
    "y_plot.insert(0, 0)\n",
    "plt.step(x_plot, y_plot)\n",
    "plt.plot(x_plot[1:-1], y_plot[1:-1], '.')\n",
    "plt.grid(True)\n",
    "plt.show()"
   ]
  }
 ],
 "metadata": {
  "kernelspec": {
   "display_name": "Python 3",
   "language": "python",
   "name": "python3"
  },
  "language_info": {
   "codemirror_mode": {
    "name": "ipython",
    "version": 3
   },
   "file_extension": ".py",
   "mimetype": "text/x-python",
   "name": "python",
   "nbconvert_exporter": "python",
   "pygments_lexer": "ipython3",
   "version": "3.7.2"
  }
 },
 "nbformat": 4,
 "nbformat_minor": 2
}
