{
 "cells": [
  {
   "cell_type": "markdown",
   "metadata": {},
   "source": [
    "# ЛР 1 (В8)\n",
    "## Основные понятия математической статистики. Вариационный ряд. Эмпирическая функция распределения."
   ]
  },
  {
   "cell_type": "code",
   "execution_count": 1,
   "metadata": {},
   "outputs": [],
   "source": [
    "from random import uniform\n",
    "from tabulate import tabulate\n",
    "from collections import Counter\n",
    "import matplotlib.pyplot as plt\n",
    "import numpy as np"
   ]
  },
  {
   "cell_type": "markdown",
   "metadata": {},
   "source": [
    "# 1"
   ]
  },
  {
   "cell_type": "code",
   "execution_count": 2,
   "metadata": {},
   "outputs": [],
   "source": [
    "def Y(x):\n",
    "    return 2 / (2 + x)\n",
    "\n",
    "a = -1\n",
    "b = 5\n",
    "y0 = 1\n",
    "n = 10"
   ]
  },
  {
   "cell_type": "code",
   "execution_count": 3,
   "metadata": {},
   "outputs": [
    {
     "data": {
      "text/plain": [
       "[-0.273, 0.95, 1.153, 1.157, 1.643, 2.074, 3.169, 3.413, 3.84, 4.049]"
      ]
     },
     "execution_count": 3,
     "metadata": {},
     "output_type": "execute_result"
    }
   ],
   "source": [
    "X = sorted(round(uniform(0, 1) * (b - a) + a, 3) for _ in range(n))\n",
    "X"
   ]
  },
  {
   "cell_type": "code",
   "execution_count": 4,
   "metadata": {},
   "outputs": [],
   "source": [
    "y_list = sorted([round(Y(X[i]), 3) for i in range(n)])"
   ]
  },
  {
   "cell_type": "markdown",
   "metadata": {},
   "source": [
    "# 2"
   ]
  },
  {
   "cell_type": "markdown",
   "metadata": {},
   "source": [
    "Вариационный ряд"
   ]
  },
  {
   "cell_type": "code",
   "execution_count": 5,
   "metadata": {},
   "outputs": [
    {
     "data": {
      "text/plain": [
       "[0.331, 0.342, 0.369, 0.387, 0.491, 0.549, 0.634, 0.634, 0.678, 1.158]"
      ]
     },
     "execution_count": 5,
     "metadata": {},
     "output_type": "execute_result"
    }
   ],
   "source": [
    "y_list"
   ]
  },
  {
   "cell_type": "markdown",
   "metadata": {},
   "source": [
    "Эмпирическая функция распределения"
   ]
  },
  {
   "cell_type": "code",
   "execution_count": 6,
   "metadata": {},
   "outputs": [
    {
     "data": {
      "text/plain": [
       "[0.0, 0.1, 0.2, 0.3, 0.4, 0.5, 0.6, 0.8, 0.9, 1.0]"
      ]
     },
     "execution_count": 6,
     "metadata": {},
     "output_type": "execute_result"
    }
   ],
   "source": [
    "counts = dict(Counter(y_list))\n",
    "freq = [round(i / n, 3) for i in counts.values()]\n",
    "ys = [0]\n",
    "for k, i in enumerate(counts.values()):\n",
    "    ys.append(ys[k] + i)\n",
    "star_f = [round(i / n, 3) for i in ys]\n",
    "star_f"
   ]
  },
  {
   "cell_type": "markdown",
   "metadata": {},
   "source": [
    "Таблица и график"
   ]
  },
  {
   "cell_type": "code",
   "execution_count": 7,
   "metadata": {},
   "outputs": [
    {
     "name": "stdout",
     "output_type": "stream",
     "text": [
      "╒════════════╤══════════════════════╤═══════════╤══════════════════════════════════╤═══════════════════════╕\n",
      "│   Значение │   Количество вариант │   Частота │   Накопленное количество вариант │   Накопленная частота │\n",
      "╞════════════╪══════════════════════╪═══════════╪══════════════════════════════════╪═══════════════════════╡\n",
      "│      0.331 │                    1 │       0.1 │                                1 │                   0.1 │\n",
      "├────────────┼──────────────────────┼───────────┼──────────────────────────────────┼───────────────────────┤\n",
      "│      0.342 │                    1 │       0.1 │                                2 │                   0.2 │\n",
      "├────────────┼──────────────────────┼───────────┼──────────────────────────────────┼───────────────────────┤\n",
      "│      0.369 │                    1 │       0.1 │                                3 │                   0.3 │\n",
      "├────────────┼──────────────────────┼───────────┼──────────────────────────────────┼───────────────────────┤\n",
      "│      0.387 │                    1 │       0.1 │                                4 │                   0.4 │\n",
      "├────────────┼──────────────────────┼───────────┼──────────────────────────────────┼───────────────────────┤\n",
      "│      0.491 │                    1 │       0.1 │                                5 │                   0.5 │\n",
      "├────────────┼──────────────────────┼───────────┼──────────────────────────────────┼───────────────────────┤\n",
      "│      0.549 │                    1 │       0.1 │                                6 │                   0.6 │\n",
      "├────────────┼──────────────────────┼───────────┼──────────────────────────────────┼───────────────────────┤\n",
      "│      0.634 │                    2 │       0.2 │                                8 │                   0.8 │\n",
      "├────────────┼──────────────────────┼───────────┼──────────────────────────────────┼───────────────────────┤\n",
      "│      0.678 │                    1 │       0.1 │                                9 │                   0.9 │\n",
      "├────────────┼──────────────────────┼───────────┼──────────────────────────────────┼───────────────────────┤\n",
      "│      1.158 │                    1 │       0.1 │                               10 │                   1   │\n",
      "╘════════════╧══════════════════════╧═══════════╧══════════════════════════════════╧═══════════════════════╛\n"
     ]
    }
   ],
   "source": [
    "x_list = sorted(list(set(y_list[:])))\n",
    "\n",
    "table = [list(item) for item in zip(x_list, counts.values(), freq, ys[1:], star_f[1:])]\n",
    "print(tabulate(table, headers=['Значение', 'Количество вариант', 'Частота',\n",
    "                               'Накопленное количество вариант', 'Накопленная частота'], tablefmt='fancy_grid'))"
   ]
  },
  {
   "cell_type": "code",
   "execution_count": 8,
   "metadata": {
    "scrolled": true
   },
   "outputs": [
    {
     "name": "stdout",
     "output_type": "stream",
     "text": [
      "╒════════════════╤════════════════════╕\n",
      "│ Промежуток     │   Значение функции │\n",
      "╞════════════════╪════════════════════╡\n",
      "│ (-inf, 0.331)  │                0   │\n",
      "├────────────────┼────────────────────┤\n",
      "│ (0.331, 0.342) │                0.1 │\n",
      "├────────────────┼────────────────────┤\n",
      "│ (0.342, 0.369) │                0.2 │\n",
      "├────────────────┼────────────────────┤\n",
      "│ (0.369, 0.387) │                0.3 │\n",
      "├────────────────┼────────────────────┤\n",
      "│ (0.387, 0.491) │                0.4 │\n",
      "├────────────────┼────────────────────┤\n",
      "│ (0.491, 0.549) │                0.5 │\n",
      "├────────────────┼────────────────────┤\n",
      "│ (0.549, 0.634) │                0.6 │\n",
      "├────────────────┼────────────────────┤\n",
      "│ (0.634, 0.678) │                0.8 │\n",
      "├────────────────┼────────────────────┤\n",
      "│ (0.678, 1.158) │                0.9 │\n",
      "├────────────────┼────────────────────┤\n",
      "│ (1.158, inf)   │                1   │\n",
      "╘════════════════╧════════════════════╛\n"
     ]
    }
   ],
   "source": [
    "x_list.insert(0, -float('inf'))\n",
    "x_list.append(float('inf'))\n",
    "x_interval = [(x_list[i], x_list[i+1]) for i in range(len(x_list) - 1)]\n",
    "table = [list(item) for item in zip(x_interval, star_f)]\n",
    "print(tabulate(table, headers=['Промежуток', 'Значение функции'], tablefmt='fancy_grid'))"
   ]
  },
  {
   "cell_type": "code",
   "execution_count": 9,
   "metadata": {},
   "outputs": [
    {
     "data": {
      "image/png": "[encoded data removed]",
      "text/plain": [
       "<Figure size 432x288 with 1 Axes>"
      ]
     },
     "metadata": {
      "needs_background": "light"
     },
     "output_type": "display_data"
    }
   ],
   "source": [
    "x_plot = x_list[1:-1]\n",
    "y_plot = star_f[:]\n",
    "x_plot.insert(0, a)\n",
    "x_plot.append(b)\n",
    "y_plot.insert(0, 0)\n",
    "plt.step(x_plot, y_plot)\n",
    "plt.plot(x_plot[1:-1], y_plot[1:-1], '.')\n",
    "plt.grid(True)\n",
    "plt.show()"
   ]
  },
  {
   "cell_type": "markdown",
   "metadata": {},
   "source": [
    "# 3"
   ]
  },
  {
   "cell_type": "markdown",
   "metadata": {},
   "source": [
    "Теоритическая функция распределения"
   ]
  },
  {
   "cell_type": "code",
   "execution_count": 10,
   "metadata": {},
   "outputs": [],
   "source": [
    "def G(y):\n",
    "    if y < 2 / 7:\n",
    "        return 0\n",
    "    elif y > 2:\n",
    "        return 1\n",
    "    else:\n",
    "        return 1 / 3 * (-(1 / y) + 3.5)"
   ]
  },
  {
   "cell_type": "markdown",
   "metadata": {},
   "source": [
    "График теоритической функции расределения"
   ]
  },
  {
   "cell_type": "code",
   "execution_count": 11,
   "metadata": {},
   "outputs": [
    {
     "data": {
      "image/png": "[encoded data removed]",
      "text/plain": [
       "<Figure size 432x288 with 1 Axes>"
      ]
     },
     "metadata": {
      "needs_background": "light"
     },
     "output_type": "display_data"
    }
   ],
   "source": [
    "x_lin = np.linspace(min(x_plot), max(x_plot), 50)\n",
    "plt.plot(x_lin, list(map(G, x_lin)))\n",
    "plt.grid(True)\n",
    "plt.show()"
   ]
  },
  {
   "cell_type": "markdown",
   "metadata": {},
   "source": [
    "График эмпирической и теоретической функции"
   ]
  },
  {
   "cell_type": "code",
   "execution_count": 12,
   "metadata": {
    "scrolled": true
   },
   "outputs": [
    {
     "data": {
      "image/png": "[encoded data removed]",
      "text/plain": [
       "<Figure size 432x288 with 1 Axes>"
      ]
     },
     "metadata": {
      "needs_background": "light"
     },
     "output_type": "display_data"
    }
   ],
   "source": [
    "plt.step(x_plot, y_plot)\n",
    "plt.plot(x_plot[1:-1], y_plot[1:-1], '.')\n",
    "plt.plot(x_lin, list(map(G, x_lin)))\n",
    "plt.grid(True)\n",
    "plt.show()"
   ]
  }
 ],
 "metadata": {
  "kernelspec": {
   "display_name": "Python 3",
   "language": "python",
   "name": "python3"
  },
  "language_info": {
   "codemirror_mode": {
    "name": "ipython",
    "version": 3
   },
   "file_extension": ".py",
   "mimetype": "text/x-python",
   "name": "python",
   "nbconvert_exporter": "python",
   "pygments_lexer": "ipython3",
   "version": "3.7.2"
  }
 },
 "nbformat": 4,
 "nbformat_minor": 2
}
