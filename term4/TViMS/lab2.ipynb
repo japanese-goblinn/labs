{
 "cells": [
  {
   "cell_type": "markdown",
   "metadata": {},
   "source": [
    "# ЛР 2"
   ]
  },
  {
   "cell_type": "markdown",
   "metadata": {},
   "source": [
    "# Статестический ряд. Построение гистограмм равноинтервальным и равновероятностным методами."
   ]
  },
  {
   "cell_type": "code",
   "execution_count": 1,
   "metadata": {},
   "outputs": [],
   "source": [
    "from random import uniform\n",
    "from tabulate import tabulate\n",
    "from collections import Counter\n",
    "import matplotlib.pyplot as plt\n",
    "import numpy as np"
   ]
  },
  {
   "cell_type": "markdown",
   "metadata": {},
   "source": [
    "## Вариационный ряд"
   ]
  },
  {
   "cell_type": "code",
   "execution_count": 2,
   "metadata": {},
   "outputs": [
    {
     "name": "stdout",
     "output_type": "stream",
     "text": [
      "[0.286, 0.286, 0.286, 0.287, 0.287, 0.287, 0.288, 0.288, 0.288, 0.289, 0.289, 0.289, 0.289, 0.29, 0.291, 0.291, 0.291, 0.291, 0.291, 0.291, 0.291, 0.291, 0.292, 0.292, 0.292, 0.292, 0.292, 0.293, 0.293, 0.293, 0.293, 0.293, 0.293, 0.294, 0.294, 0.294, 0.295, 0.295, 0.295, 0.296, 0.296, 0.297, 0.297, 0.297, 0.298, 0.298, 0.298, 0.298, 0.298, 0.299, 0.299, 0.299, 0.3, 0.3, 0.3, 0.3, 0.3, 0.3, 0.3, 0.3, 0.3, 0.3, 0.301, 0.301, 0.301, 0.302, 0.302, 0.302, 0.302, 0.303, 0.303, 0.303, 0.304, 0.304, 0.304, 0.305, 0.305, 0.305, 0.305, 0.305, 0.305, 0.306, 0.306, 0.306, 0.307, 0.307, 0.307, 0.307, 0.307, 0.308, 0.309, 0.309, 0.31, 0.31, 0.311, 0.312, 0.312, 0.313, 0.313, 0.313, 0.314, 0.314, 0.314, 0.315, 0.315, 0.315, 0.315, 0.315, 0.316, 0.316, 0.317, 0.317, 0.317, 0.317, 0.317, 0.318, 0.318, 0.319, 0.319, 0.32, 0.321, 0.321, 0.321, 0.322, 0.323, 0.323, 0.323, 0.324, 0.324, 0.325, 0.325, 0.326, 0.326, 0.328, 0.329, 0.329, 0.329, 0.329, 0.329, 0.329, 0.33, 0.33, 0.33, 0.33, 0.33, 0.33, 0.331, 0.331, 0.331, 0.332, 0.333, 0.333, 0.333, 0.334, 0.334, 0.334, 0.334, 0.334, 0.335, 0.335, 0.336, 0.336, 0.336, 0.337, 0.337, 0.337, 0.337, 0.338, 0.339, 0.339, 0.339, 0.34, 0.34, 0.34, 0.341, 0.341, 0.341, 0.342, 0.342, 0.344, 0.344, 0.344, 0.344, 0.345, 0.346, 0.346, 0.346, 0.347, 0.347, 0.348, 0.348, 0.349, 0.349, 0.35, 0.35, 0.351, 0.352, 0.352, 0.352, 0.353, 0.353, 0.353, 0.353, 0.355, 0.356, 0.356, 0.357, 0.357, 0.357, 0.358, 0.358, 0.36, 0.36, 0.36, 0.36, 0.36, 0.36, 0.361, 0.361, 0.362, 0.362, 0.362, 0.364, 0.364, 0.364, 0.364, 0.364, 0.364, 0.364, 0.365, 0.365, 0.365, 0.366, 0.366, 0.367, 0.368, 0.368, 0.368, 0.369, 0.369, 0.369, 0.37, 0.37, 0.37, 0.37, 0.371, 0.371, 0.371, 0.371, 0.371, 0.371, 0.372, 0.372, 0.373, 0.373, 0.373, 0.373, 0.373, 0.373, 0.374, 0.374, 0.374, 0.374, 0.374, 0.375, 0.376, 0.376, 0.376, 0.377, 0.377, 0.378, 0.378, 0.378, 0.378, 0.379, 0.379, 0.379, 0.379, 0.38, 0.381, 0.381, 0.381, 0.382, 0.382, 0.384, 0.384, 0.384, 0.385, 0.385, 0.385, 0.386, 0.386, 0.386, 0.387, 0.387, 0.388, 0.388, 0.39, 0.39, 0.39, 0.391, 0.391, 0.392, 0.392, 0.392, 0.393, 0.393, 0.393, 0.394, 0.394, 0.394, 0.395, 0.395, 0.395, 0.395, 0.396, 0.397, 0.397, 0.397, 0.398, 0.398, 0.399, 0.399, 0.399, 0.4, 0.4, 0.4, 0.401, 0.401, 0.402, 0.403, 0.403, 0.403, 0.403, 0.404, 0.405, 0.406, 0.406, 0.407, 0.407, 0.408, 0.409, 0.411, 0.412, 0.412, 0.413, 0.414, 0.415, 0.415, 0.415, 0.415, 0.416, 0.417, 0.417, 0.417, 0.418, 0.418, 0.418, 0.419, 0.419, 0.42, 0.421, 0.421, 0.422, 0.422, 0.422, 0.422, 0.424, 0.424, 0.425, 0.425, 0.425, 0.425, 0.427, 0.427, 0.427, 0.428, 0.429, 0.429, 0.431, 0.432, 0.433, 0.433, 0.434, 0.434, 0.434, 0.434, 0.435, 0.436, 0.437, 0.437, 0.437, 0.438, 0.438, 0.438, 0.438, 0.438, 0.439, 0.439, 0.439, 0.44, 0.44, 0.441, 0.441, 0.441, 0.442, 0.443, 0.443, 0.443, 0.444, 0.445, 0.445, 0.446, 0.446, 0.446, 0.447, 0.447, 0.449, 0.45, 0.45, 0.451, 0.452, 0.452, 0.452, 0.452, 0.453, 0.453, 0.453, 0.454, 0.454, 0.455, 0.456, 0.456, 0.456, 0.457, 0.457, 0.457, 0.458, 0.459, 0.459, 0.459, 0.46, 0.461, 0.461, 0.461, 0.461, 0.461, 0.462, 0.463, 0.463, 0.464, 0.464, 0.464, 0.464, 0.465, 0.465, 0.465, 0.466, 0.468, 0.468, 0.469, 0.469, 0.471, 0.473, 0.473, 0.474, 0.474, 0.475, 0.475, 0.476, 0.477, 0.478, 0.478, 0.48, 0.481, 0.484, 0.484, 0.484, 0.485, 0.486, 0.487, 0.488, 0.489, 0.49, 0.493, 0.493, 0.495, 0.495, 0.495, 0.495, 0.496, 0.496, 0.496, 0.497, 0.498, 0.499, 0.501, 0.502, 0.503, 0.503, 0.504, 0.504, 0.505, 0.507, 0.508, 0.508, 0.509, 0.509, 0.509, 0.511, 0.511, 0.511, 0.512, 0.514, 0.516, 0.517, 0.517, 0.517, 0.52, 0.522, 0.524, 0.524, 0.524, 0.525, 0.525, 0.526, 0.526, 0.526, 0.527, 0.527, 0.527, 0.528, 0.528, 0.529, 0.529, 0.53, 0.53, 0.53, 0.531, 0.532, 0.535, 0.535, 0.537, 0.538, 0.541, 0.542, 0.542, 0.543, 0.544, 0.545, 0.545, 0.547, 0.548, 0.548, 0.548, 0.549, 0.549, 0.55, 0.55, 0.55, 0.551, 0.552, 0.553, 0.555, 0.556, 0.559, 0.559, 0.559, 0.559, 0.56, 0.564, 0.566, 0.568, 0.569, 0.571, 0.571, 0.573, 0.574, 0.574, 0.574, 0.575, 0.576, 0.577, 0.578, 0.578, 0.579, 0.579, 0.58, 0.581, 0.581, 0.581, 0.582, 0.582, 0.584, 0.585, 0.586, 0.587, 0.588, 0.589, 0.589, 0.591, 0.595, 0.595, 0.596, 0.596, 0.597, 0.597, 0.601, 0.601, 0.603, 0.603, 0.603, 0.605, 0.606, 0.606, 0.606, 0.607, 0.607, 0.608, 0.61, 0.611, 0.612, 0.614, 0.615, 0.615, 0.615, 0.616, 0.617, 0.618, 0.618, 0.618, 0.62, 0.624, 0.626, 0.627, 0.629, 0.631, 0.631, 0.632, 0.634, 0.635, 0.64, 0.64, 0.64, 0.64, 0.641, 0.642, 0.645, 0.646, 0.647, 0.649, 0.652, 0.653, 0.653, 0.654, 0.655, 0.656, 0.658, 0.662, 0.662, 0.663, 0.664, 0.666, 0.668, 0.67, 0.671, 0.672, 0.678, 0.678, 0.679, 0.68, 0.681, 0.683, 0.683, 0.683, 0.684, 0.688, 0.688, 0.689, 0.69, 0.69, 0.692, 0.692, 0.693, 0.694, 0.698, 0.699, 0.701, 0.701, 0.704, 0.705, 0.705, 0.706, 0.708, 0.708, 0.708, 0.709, 0.71, 0.714, 0.718, 0.719, 0.72, 0.723, 0.723, 0.727, 0.727, 0.729, 0.732, 0.732, 0.734, 0.74, 0.744, 0.746, 0.748, 0.749, 0.752, 0.752, 0.753, 0.755, 0.762, 0.767, 0.769, 0.77, 0.772, 0.772, 0.776, 0.781, 0.782, 0.785, 0.789, 0.791, 0.794, 0.795, 0.796, 0.796, 0.8, 0.801, 0.804, 0.81, 0.811, 0.822, 0.823, 0.824, 0.826, 0.83, 0.831, 0.831, 0.831, 0.834, 0.84, 0.84, 0.84, 0.841, 0.843, 0.844, 0.847, 0.847, 0.848, 0.852, 0.853, 0.858, 0.86, 0.861, 0.862, 0.863, 0.87, 0.87, 0.871, 0.872, 0.872, 0.879, 0.88, 0.88, 0.883, 0.885, 0.886, 0.886, 0.888, 0.889, 0.892, 0.892, 0.893, 0.896, 0.897, 0.899, 0.901, 0.902, 0.903, 0.905, 0.906, 0.907, 0.91, 0.911, 0.912, 0.912, 0.915, 0.918, 0.919, 0.924, 0.924, 0.925, 0.925, 0.926, 0.927, 0.928, 0.931, 0.935, 0.937, 0.94, 0.943, 0.943, 0.943, 0.944, 0.944, 0.948, 0.948, 0.951, 0.953, 0.956, 0.956, 0.958, 0.961, 0.966, 0.966, 0.972, 0.98, 0.982, 0.985, 0.993, 1.002, 1.004, 1.007, 1.009, 1.01, 1.012, 1.017, 1.022, 1.026, 1.027, 1.038, 1.042, 1.056, 1.059, 1.062, 1.064, 1.072, 1.076, 1.079, 1.081, 1.081, 1.086, 1.094, 1.095, 1.098, 1.101, 1.102, 1.116, 1.136, 1.137, 1.138, 1.14, 1.141, 1.142, 1.144, 1.144, 1.146, 1.147, 1.149, 1.156, 1.157, 1.158, 1.159, 1.162, 1.167, 1.182, 1.184, 1.187, 1.187, 1.191, 1.198, 1.2, 1.201, 1.219, 1.223, 1.227, 1.247, 1.258, 1.259, 1.262, 1.264, 1.265, 1.266, 1.268, 1.272, 1.276, 1.282, 1.292, 1.297, 1.3, 1.3, 1.301, 1.303, 1.303, 1.311, 1.313, 1.315, 1.319, 1.321, 1.325, 1.331, 1.339, 1.343, 1.345, 1.346, 1.35, 1.352, 1.356, 1.358, 1.358, 1.365, 1.368, 1.377, 1.379, 1.39, 1.394, 1.398, 1.406, 1.412, 1.431, 1.432, 1.444, 1.446, 1.449, 1.466, 1.469, 1.47, 1.471, 1.472, 1.497, 1.507, 1.519, 1.53, 1.545, 1.548, 1.548, 1.555, 1.565, 1.569, 1.577, 1.578, 1.58, 1.583, 1.597, 1.599, 1.6, 1.614, 1.625, 1.63, 1.638, 1.638, 1.641, 1.65, 1.655, 1.663, 1.671, 1.674, 1.678, 1.686, 1.691, 1.696, 1.708, 1.712, 1.718, 1.719, 1.727, 1.728, 1.742, 1.753, 1.755, 1.756, 1.771, 1.775, 1.8, 1.802, 1.806, 1.815, 1.818, 1.823, 1.828, 1.83, 1.831, 1.844, 1.859, 1.878, 1.884, 1.907, 1.909, 1.968, 1.974, 1.976]\n"
     ]
    }
   ],
   "source": [
    "def Y(x):\n",
    "    return 2 / (2 + x)\n",
    "\n",
    "A = -1\n",
    "B = 5\n",
    "n = 1000\n",
    "X = sorted(round(uniform(0, 1) * (B - A) + A, 4) for _ in range(n))\n",
    "x_list = sorted([round(Y(X[i]), 3) for i in range(n)])\n",
    "print(x_list)"
   ]
  },
  {
   "cell_type": "markdown",
   "metadata": {},
   "source": [
    "## Задание 1"
   ]
  },
  {
   "cell_type": "markdown",
   "metadata": {},
   "source": [
    "### Равноинтервальный метод"
   ]
  },
  {
   "cell_type": "code",
   "execution_count": 3,
   "metadata": {},
   "outputs": [
    {
     "data": {
      "text/plain": [
       "31"
      ]
     },
     "execution_count": 3,
     "metadata": {},
     "output_type": "execute_result"
    }
   ],
   "source": [
    "m = int(np.sqrt(n))\n",
    "m"
   ]
  },
  {
   "cell_type": "markdown",
   "metadata": {},
   "source": [
    "Шаг"
   ]
  },
  {
   "cell_type": "code",
   "execution_count": 4,
   "metadata": {},
   "outputs": [
    {
     "data": {
      "text/plain": [
       "0.05451612903225806"
      ]
     },
     "execution_count": 4,
     "metadata": {},
     "output_type": "execute_result"
    }
   ],
   "source": [
    "h = (max(x_list) - min(x_list)) / m\n",
    "h"
   ]
  },
  {
   "cell_type": "code",
   "execution_count": 5,
   "metadata": {},
   "outputs": [
    {
     "data": {
      "text/plain": [
       "[0.286,\n",
       " 0.3405,\n",
       " 0.395,\n",
       " 0.4505,\n",
       " 0.5051,\n",
       " 0.5596,\n",
       " 0.6151,\n",
       " 0.6696,\n",
       " 0.7241,\n",
       " 0.7796,\n",
       " 0.8342,\n",
       " 0.8887,\n",
       " 0.9432,\n",
       " 0.9987,\n",
       " 1.0542,\n",
       " 1.1087,\n",
       " 1.1633,\n",
       " 1.2178,\n",
       " 1.2723,\n",
       " 1.3268,\n",
       " 1.3813,\n",
       " 1.4358,\n",
       " 1.4914,\n",
       " 1.5459,\n",
       " 1.6004,\n",
       " 1.6549,\n",
       " 1.7094,\n",
       " 1.7649,\n",
       " 1.8195,\n",
       " 1.874,\n",
       " 1.9285,\n",
       " 1.983]"
      ]
     },
     "execution_count": 5,
     "metadata": {},
     "output_type": "execute_result"
    }
   ],
   "source": [
    "a = [round(x_list[i] + i * h, 4) for i in range(m + 1)]\n",
    "a"
   ]
  },
  {
   "cell_type": "code",
   "execution_count": 6,
   "metadata": {},
   "outputs": [
    {
     "data": {
      "text/plain": [
       "[(0.286, 0.3405),\n",
       " (0.3405, 0.395),\n",
       " (0.395, 0.4505),\n",
       " (0.4505, 0.5051),\n",
       " (0.5051, 0.5596),\n",
       " (0.5596, 0.6151),\n",
       " (0.6151, 0.6696),\n",
       " (0.6696, 0.7241),\n",
       " (0.7241, 0.7796),\n",
       " (0.7796, 0.8342),\n",
       " (0.8342, 0.8887),\n",
       " (0.8887, 0.9432),\n",
       " (0.9432, 0.9987),\n",
       " (0.9987, 1.0542),\n",
       " (1.0542, 1.1087),\n",
       " (1.1087, 1.1633),\n",
       " (1.1633, 1.2178),\n",
       " (1.2178, 1.2723),\n",
       " (1.2723, 1.3268),\n",
       " (1.3268, 1.3813),\n",
       " (1.3813, 1.4358),\n",
       " (1.4358, 1.4914),\n",
       " (1.4914, 1.5459),\n",
       " (1.5459, 1.6004),\n",
       " (1.6004, 1.6549),\n",
       " (1.6549, 1.7094),\n",
       " (1.7094, 1.7649),\n",
       " (1.7649, 1.8195),\n",
       " (1.8195, 1.874),\n",
       " (1.874, 1.9285),\n",
       " (1.9285, 1.983)]"
      ]
     },
     "execution_count": 6,
     "metadata": {},
     "output_type": "execute_result"
    }
   ],
   "source": [
    "intervals = [(a, b) for (a, b) in zip(a, a[1:])]\n",
    "intervals"
   ]
  },
  {
   "cell_type": "code",
   "execution_count": 7,
   "metadata": {},
   "outputs": [
    {
     "data": {
      "text/plain": [
       "[174,\n",
       " 141,\n",
       " 109,\n",
       " 83,\n",
       " 66,\n",
       " 57,\n",
       " 38,\n",
       " 40,\n",
       " 22,\n",
       " 23,\n",
       " 29,\n",
       " 34,\n",
       " 17,\n",
       " 12,\n",
       " 15,\n",
       " 17,\n",
       " 9,\n",
       " 12,\n",
       " 15,\n",
       " 14,\n",
       " 7,\n",
       " 8,\n",
       " 5,\n",
       " 12,\n",
       " 7,\n",
       " 9,\n",
       " 9,\n",
       " 7,\n",
       " 6,\n",
       " 4,\n",
       " 3]"
      ]
     },
     "execution_count": 7,
     "metadata": {},
     "output_type": "execute_result"
    }
   ],
   "source": [
    "v = []\n",
    "for interval in intervals:\n",
    "    left_bound, right_bound = interval\n",
    "    count = 0\n",
    "    for i in x_list:\n",
    "        if left_bound <= i <= right_bound:\n",
    "            count += 1\n",
    "    v.append(count)\n",
    "v"
   ]
  },
  {
   "cell_type": "code",
   "execution_count": 8,
   "metadata": {
    "scrolled": false
   },
   "outputs": [
    {
     "data": {
      "text/plain": [
       "[3.191715976331361,\n",
       " 2.5863905325443786,\n",
       " 1.9994082840236687,\n",
       " 1.5224852071005917,\n",
       " 1.2106508875739646,\n",
       " 1.0455621301775149,\n",
       " 0.6970414201183432,\n",
       " 0.7337278106508875,\n",
       " 0.4035502958579882,\n",
       " 0.42189349112426033,\n",
       " 0.5319526627218935,\n",
       " 0.6236686390532544,\n",
       " 0.3118343195266272,\n",
       " 0.22011834319526627,\n",
       " 0.27514792899408286,\n",
       " 0.3118343195266272,\n",
       " 0.1650887573964497,\n",
       " 0.22011834319526627,\n",
       " 0.27514792899408286,\n",
       " 0.25680473372781065,\n",
       " 0.12840236686390533,\n",
       " 0.1467455621301775,\n",
       " 0.09171597633136094,\n",
       " 0.22011834319526627,\n",
       " 0.12840236686390533,\n",
       " 0.1650887573964497,\n",
       " 0.1650887573964497,\n",
       " 0.12840236686390533,\n",
       " 0.11005917159763313,\n",
       " 0.07337278106508875,\n",
       " 0.05502958579881657]"
      ]
     },
     "execution_count": 8,
     "metadata": {},
     "output_type": "execute_result"
    }
   ],
   "source": [
    "f_star = [i / (h * n) for i in v]\n",
    "f_star"
   ]
  },
  {
   "cell_type": "code",
   "execution_count": 9,
   "metadata": {},
   "outputs": [
    {
     "name": "stdout",
     "output_type": "stream",
     "text": [
      "[0.174, 0.141, 0.109, 0.083, 0.066, 0.057, 0.038, 0.04, 0.022, 0.023, 0.029, 0.034, 0.017, 0.012, 0.015, 0.017, 0.009, 0.012, 0.015, 0.014, 0.007, 0.008, 0.005, 0.012, 0.007, 0.009, 0.009, 0.007, 0.006, 0.004, 0.003]\n",
      "[0, 0.174, 0.315, 0.424, 0.507, 0.573, 0.63, 0.668, 0.708, 0.73, 0.753, 0.782, 0.816, 0.833, 0.845, 0.86, 0.877, 0.886, 0.898, 0.913, 0.927, 0.934, 0.942, 0.947, 0.959, 0.966, 0.975, 0.984, 0.991, 0.997, 1.001, 1.004]\n"
     ]
    }
   ],
   "source": [
    "w = [round(i / n, 4) for i in v]\n",
    "wi = [0]\n",
    "for k, i in enumerate(w):\n",
    "    wi.append(round(wi[k] + i, 4))\n",
    "print(w)\n",
    "print(wi)"
   ]
  },
  {
   "cell_type": "markdown",
   "metadata": {},
   "source": [
    "### Таблица"
   ]
  },
  {
   "cell_type": "code",
   "execution_count": 10,
   "metadata": {},
   "outputs": [
    {
     "name": "stdout",
     "output_type": "stream",
     "text": [
      "╒══════════════════╤════════════════════╤══════════════════════╤═══════════╤═══════════════════════╕\n",
      "│ Интервал         │   Значение функции │   Количество вариант │   Частота │   Накопленная частота │\n",
      "╞══════════════════╪════════════════════╪══════════════════════╪═══════════╪═══════════════════════╡\n",
      "│ (0.286, 0.3405)  │          3.19172   │                  174 │     0.174 │                 0.174 │\n",
      "├──────────────────┼────────────────────┼──────────────────────┼───────────┼───────────────────────┤\n",
      "│ (0.3405, 0.395)  │          2.58639   │                  141 │     0.141 │                 0.315 │\n",
      "├──────────────────┼────────────────────┼──────────────────────┼───────────┼───────────────────────┤\n",
      "│ (0.395, 0.4505)  │          1.99941   │                  109 │     0.109 │                 0.424 │\n",
      "├──────────────────┼────────────────────┼──────────────────────┼───────────┼───────────────────────┤\n",
      "│ (0.4505, 0.5051) │          1.52249   │                   83 │     0.083 │                 0.507 │\n",
      "├──────────────────┼────────────────────┼──────────────────────┼───────────┼───────────────────────┤\n",
      "│ (0.5051, 0.5596) │          1.21065   │                   66 │     0.066 │                 0.573 │\n",
      "├──────────────────┼────────────────────┼──────────────────────┼───────────┼───────────────────────┤\n",
      "│ (0.5596, 0.6151) │          1.04556   │                   57 │     0.057 │                 0.63  │\n",
      "├──────────────────┼────────────────────┼──────────────────────┼───────────┼───────────────────────┤\n",
      "│ (0.6151, 0.6696) │          0.697041  │                   38 │     0.038 │                 0.668 │\n",
      "├──────────────────┼────────────────────┼──────────────────────┼───────────┼───────────────────────┤\n",
      "│ (0.6696, 0.7241) │          0.733728  │                   40 │     0.04  │                 0.708 │\n",
      "├──────────────────┼────────────────────┼──────────────────────┼───────────┼───────────────────────┤\n",
      "│ (0.7241, 0.7796) │          0.40355   │                   22 │     0.022 │                 0.73  │\n",
      "├──────────────────┼────────────────────┼──────────────────────┼───────────┼───────────────────────┤\n",
      "│ (0.7796, 0.8342) │          0.421893  │                   23 │     0.023 │                 0.753 │\n",
      "├──────────────────┼────────────────────┼──────────────────────┼───────────┼───────────────────────┤\n",
      "│ (0.8342, 0.8887) │          0.531953  │                   29 │     0.029 │                 0.782 │\n",
      "├──────────────────┼────────────────────┼──────────────────────┼───────────┼───────────────────────┤\n",
      "│ (0.8887, 0.9432) │          0.623669  │                   34 │     0.034 │                 0.816 │\n",
      "├──────────────────┼────────────────────┼──────────────────────┼───────────┼───────────────────────┤\n",
      "│ (0.9432, 0.9987) │          0.311834  │                   17 │     0.017 │                 0.833 │\n",
      "├──────────────────┼────────────────────┼──────────────────────┼───────────┼───────────────────────┤\n",
      "│ (0.9987, 1.0542) │          0.220118  │                   12 │     0.012 │                 0.845 │\n",
      "├──────────────────┼────────────────────┼──────────────────────┼───────────┼───────────────────────┤\n",
      "│ (1.0542, 1.1087) │          0.275148  │                   15 │     0.015 │                 0.86  │\n",
      "├──────────────────┼────────────────────┼──────────────────────┼───────────┼───────────────────────┤\n",
      "│ (1.1087, 1.1633) │          0.311834  │                   17 │     0.017 │                 0.877 │\n",
      "├──────────────────┼────────────────────┼──────────────────────┼───────────┼───────────────────────┤\n",
      "│ (1.1633, 1.2178) │          0.165089  │                    9 │     0.009 │                 0.886 │\n",
      "├──────────────────┼────────────────────┼──────────────────────┼───────────┼───────────────────────┤\n",
      "│ (1.2178, 1.2723) │          0.220118  │                   12 │     0.012 │                 0.898 │\n",
      "├──────────────────┼────────────────────┼──────────────────────┼───────────┼───────────────────────┤\n",
      "│ (1.2723, 1.3268) │          0.275148  │                   15 │     0.015 │                 0.913 │\n",
      "├──────────────────┼────────────────────┼──────────────────────┼───────────┼───────────────────────┤\n",
      "│ (1.3268, 1.3813) │          0.256805  │                   14 │     0.014 │                 0.927 │\n",
      "├──────────────────┼────────────────────┼──────────────────────┼───────────┼───────────────────────┤\n",
      "│ (1.3813, 1.4358) │          0.128402  │                    7 │     0.007 │                 0.934 │\n",
      "├──────────────────┼────────────────────┼──────────────────────┼───────────┼───────────────────────┤\n",
      "│ (1.4358, 1.4914) │          0.146746  │                    8 │     0.008 │                 0.942 │\n",
      "├──────────────────┼────────────────────┼──────────────────────┼───────────┼───────────────────────┤\n",
      "│ (1.4914, 1.5459) │          0.091716  │                    5 │     0.005 │                 0.947 │\n",
      "├──────────────────┼────────────────────┼──────────────────────┼───────────┼───────────────────────┤\n",
      "│ (1.5459, 1.6004) │          0.220118  │                   12 │     0.012 │                 0.959 │\n",
      "├──────────────────┼────────────────────┼──────────────────────┼───────────┼───────────────────────┤\n",
      "│ (1.6004, 1.6549) │          0.128402  │                    7 │     0.007 │                 0.966 │\n",
      "├──────────────────┼────────────────────┼──────────────────────┼───────────┼───────────────────────┤\n",
      "│ (1.6549, 1.7094) │          0.165089  │                    9 │     0.009 │                 0.975 │\n",
      "├──────────────────┼────────────────────┼──────────────────────┼───────────┼───────────────────────┤\n",
      "│ (1.7094, 1.7649) │          0.165089  │                    9 │     0.009 │                 0.984 │\n",
      "├──────────────────┼────────────────────┼──────────────────────┼───────────┼───────────────────────┤\n",
      "│ (1.7649, 1.8195) │          0.128402  │                    7 │     0.007 │                 0.991 │\n",
      "├──────────────────┼────────────────────┼──────────────────────┼───────────┼───────────────────────┤\n",
      "│ (1.8195, 1.874)  │          0.110059  │                    6 │     0.006 │                 0.997 │\n",
      "├──────────────────┼────────────────────┼──────────────────────┼───────────┼───────────────────────┤\n",
      "│ (1.874, 1.9285)  │          0.0733728 │                    4 │     0.004 │                 1.001 │\n",
      "├──────────────────┼────────────────────┼──────────────────────┼───────────┼───────────────────────┤\n",
      "│ (1.9285, 1.983)  │          0.0550296 │                    3 │     0.003 │                 1.004 │\n",
      "╘══════════════════╧════════════════════╧══════════════════════╧═══════════╧═══════════════════════╛\n"
     ]
    }
   ],
   "source": [
    "table = [list(item) for item in zip(intervals, f_star, v, w, wi[1:])]\n",
    "print(tabulate(table, headers=['Интервал', 'Значение функции', 'Количество вариант', 'Частота', 'Накопленная частота'], tablefmt='fancy_grid'))"
   ]
  },
  {
   "cell_type": "markdown",
   "metadata": {},
   "source": [
    "### Гистограмма"
   ]
  },
  {
   "cell_type": "code",
   "execution_count": 11,
   "metadata": {
    "scrolled": false
   },
   "outputs": [
    {
     "data": {
      "image/png": "[encoded data removed]",
      "text/plain": [
       "<Figure size 432x288 with 1 Axes>"
      ]
     },
     "metadata": {
      "needs_background": "light"
     },
     "output_type": "display_data"
    }
   ],
   "source": [
    "x_plot = a[:]\n",
    "y_plot = f_star[:]\n",
    "y_plot.insert(0, 0)\n",
    "plt.step(x_plot, y_plot)\n",
    "plt.vlines(x_plot, min(y_plot), y_plot, colors='C0')\n",
    "plt.grid(True)\n",
    "plt.show()"
   ]
  },
  {
   "cell_type": "markdown",
   "metadata": {},
   "source": [
    "### Полигон распредления"
   ]
  },
  {
   "cell_type": "code",
   "execution_count": 12,
   "metadata": {},
   "outputs": [
    {
     "data": {
      "image/png": "[encoded data removed]",
      "text/plain": [
       "<Figure size 432x288 with 1 Axes>"
      ]
     },
     "metadata": {
      "needs_background": "light"
     },
     "output_type": "display_data"
    }
   ],
   "source": [
    "x_plot = a[:]\n",
    "y_plot = f_star[:]\n",
    "x_middles = [(i + j) / 2 for (i, j) in intervals]\n",
    "y_plot.insert(0, 0)\n",
    "plt.step(x_plot, y_plot)\n",
    "plt.vlines(x_plot, min(y_plot), y_plot, colors='C0')\n",
    "plt.plot(x_middles, y_plot[1:], '.')\n",
    "plt.plot(x_middles, y_plot[1:])\n",
    "plt.grid(True)\n",
    "plt.show()"
   ]
  },
  {
   "cell_type": "markdown",
   "metadata": {},
   "source": [
    "### Эмпирическая функция распредления"
   ]
  },
  {
   "cell_type": "code",
   "execution_count": 13,
   "metadata": {},
   "outputs": [
    {
     "data": {
      "image/png": "[encoded data removed]",
      "text/plain": [
       "<Figure size 432x288 with 1 Axes>"
      ]
     },
     "metadata": {
      "needs_background": "light"
     },
     "output_type": "display_data"
    }
   ],
   "source": [
    "y_plot = wi[:]\n",
    "x_plot = a[:]\n",
    "x_plot.insert(0, A)\n",
    "y_plot.insert(0, 0)\n",
    "x_plot.append(B)\n",
    "y_plot.append(1)\n",
    "plt.plot(x_plot, y_plot)\n",
    "plt.plot(x_plot[1:-1], y_plot[1:-1], '.')\n",
    "plt.grid(True)\n",
    "plt.show()"
   ]
  },
  {
   "cell_type": "markdown",
   "metadata": {},
   "source": [
    "### Теоретическая плотность распредления"
   ]
  },
  {
   "cell_type": "code",
   "execution_count": 14,
   "metadata": {},
   "outputs": [],
   "source": [
    "def f(x):\n",
    "    if A <= x <= B:\n",
    "        return 1 / (B - A)\n",
    "    else:\n",
    "        return 0\n",
    "\n",
    "def g(y):\n",
    "    return f(2 / y - 2) * (2 / y**2) "
   ]
  },
  {
   "cell_type": "code",
   "execution_count": 15,
   "metadata": {
    "scrolled": true
   },
   "outputs": [
    {
     "data": {
      "image/png": "[encoded data removed]",
      "text/plain": [
       "<Figure size 432x288 with 1 Axes>"
      ]
     },
     "metadata": {
      "needs_background": "light"
     },
     "output_type": "display_data"
    }
   ],
   "source": [
    "x_lin = np.linspace(min(a[:]), max(a[:]), 70)\n",
    "plt.plot(x_lin, list(map(g, x_lin)))\n",
    "plt.grid(True)\n",
    "plt.show()"
   ]
  },
  {
   "cell_type": "markdown",
   "metadata": {},
   "source": [
    "### График теоретической и эмпирической плотностей распределения"
   ]
  },
  {
   "cell_type": "code",
   "execution_count": 16,
   "metadata": {},
   "outputs": [
    {
     "data": {
      "image/png": "[encoded data removed]",
      "text/plain": [
       "<Figure size 432x288 with 1 Axes>"
      ]
     },
     "metadata": {
      "needs_background": "light"
     },
     "output_type": "display_data"
    }
   ],
   "source": [
    "x_plot = a[:]\n",
    "y_plot = f_star[:]\n",
    "y_plot.insert(0, 0)\n",
    "plt.step(x_plot, y_plot)\n",
    "plt.vlines(x_plot, min(y_plot), y_plot, colors='C0')\n",
    "x_lin = np.linspace(min(x_plot), max(x_plot), 70)\n",
    "plt.plot(x_lin, list(map(g, x_lin)))\n",
    "plt.grid(True)\n",
    "plt.show()"
   ]
  },
  {
   "cell_type": "markdown",
   "metadata": {},
   "source": [
    "## Задание 2"
   ]
  },
  {
   "cell_type": "markdown",
   "metadata": {},
   "source": [
    "### Равновероятностный метод"
   ]
  },
  {
   "cell_type": "code",
   "execution_count": 17,
   "metadata": {},
   "outputs": [
    {
     "data": {
      "text/plain": [
       "31"
      ]
     },
     "execution_count": 17,
     "metadata": {},
     "output_type": "execute_result"
    }
   ],
   "source": [
    "m = int(np.sqrt(n))\n",
    "m"
   ]
  },
  {
   "cell_type": "markdown",
   "metadata": {},
   "source": [
    "Количество вариант в интервале"
   ]
  },
  {
   "cell_type": "code",
   "execution_count": 18,
   "metadata": {},
   "outputs": [
    {
     "data": {
      "text/plain": [
       "32"
      ]
     },
     "execution_count": 18,
     "metadata": {},
     "output_type": "execute_result"
    }
   ],
   "source": [
    "v = n // m\n",
    "v"
   ]
  },
  {
   "cell_type": "code",
   "execution_count": 19,
   "metadata": {},
   "outputs": [
    {
     "data": {
      "text/plain": [
       "[(0.286, 0.293),\n",
       " (0.293, 0.301),\n",
       " (0.301, 0.312),\n",
       " (0.312, 0.324),\n",
       " (0.324, 0.335),\n",
       " (0.336, 0.349),\n",
       " (0.349, 0.364),\n",
       " (0.364, 0.373),\n",
       " (0.373, 0.385),\n",
       " (0.385, 0.398),\n",
       " (0.398, 0.416),\n",
       " (0.417, 0.434),\n",
       " (0.434, 0.447),\n",
       " (0.447, 0.462),\n",
       " (0.463, 0.486),\n",
       " (0.487, 0.511),\n",
       " (0.512, 0.538),\n",
       " (0.541, 0.571),\n",
       " (0.573, 0.601),\n",
       " (0.601, 0.634),\n",
       " (0.635, 0.681),\n",
       " (0.683, 0.723),\n",
       " (0.727, 0.8),\n",
       " (0.801, 0.871),\n",
       " (0.872, 0.924),\n",
       " (0.925, 1.007),\n",
       " (1.009, 1.144),\n",
       " (1.144, 1.282),\n",
       " (1.292, 1.412),\n",
       " (1.431, 1.638),\n",
       " (1.641, 1.844)]"
      ]
     },
     "execution_count": 19,
     "metadata": {},
     "output_type": "execute_result"
    }
   ],
   "source": [
    "a = []\n",
    "b = []\n",
    "i = 0\n",
    "for _ in range(m):\n",
    "    a.append(x_list[i])\n",
    "    b.append(x_list[i + v - 1])\n",
    "    i += v\n",
    "intervals = [(i, j) for (i, j) in zip(a, b)]\n",
    "intervals"
   ]
  },
  {
   "cell_type": "code",
   "execution_count": 20,
   "metadata": {
    "scrolled": true
   },
   "outputs": [
    {
     "data": {
      "text/plain": [
       "[0.007000000000000006,\n",
       " 0.008000000000000007,\n",
       " 0.01100000000000001,\n",
       " 0.01200000000000001,\n",
       " 0.01100000000000001,\n",
       " 0.012999999999999956,\n",
       " 0.015000000000000013,\n",
       " 0.009000000000000008,\n",
       " 0.01200000000000001,\n",
       " 0.013000000000000012,\n",
       " 0.01799999999999996,\n",
       " 0.017000000000000015,\n",
       " 0.013000000000000012,\n",
       " 0.015000000000000013,\n",
       " 0.022999999999999965,\n",
       " 0.02400000000000002,\n",
       " 0.026000000000000023,\n",
       " 0.029999999999999916,\n",
       " 0.028000000000000025,\n",
       " 0.03300000000000003,\n",
       " 0.04600000000000004,\n",
       " 0.039999999999999925,\n",
       " 0.07300000000000006,\n",
       " 0.06999999999999995,\n",
       " 0.052000000000000046,\n",
       " 0.08199999999999985,\n",
       " 0.135,\n",
       " 0.13800000000000012,\n",
       " 0.11999999999999988,\n",
       " 0.20699999999999985,\n",
       " 0.20300000000000007]"
      ]
     },
     "execution_count": 20,
     "metadata": {},
     "output_type": "execute_result"
    }
   ],
   "source": [
    "h = [j - i for (i, j) in zip(a, b)]\n",
    "h"
   ]
  },
  {
   "cell_type": "code",
   "execution_count": 21,
   "metadata": {},
   "outputs": [
    {
     "data": {
      "text/plain": [
       "[4.571428571428568,\n",
       " 3.9999999999999964,\n",
       " 2.909090909090906,\n",
       " 2.6666666666666643,\n",
       " 2.909090909090906,\n",
       " 2.46153846153847,\n",
       " 2.1333333333333315,\n",
       " 3.5555555555555527,\n",
       " 2.6666666666666643,\n",
       " 2.4615384615384595,\n",
       " 1.7777777777777817,\n",
       " 1.882352941176469,\n",
       " 2.4615384615384595,\n",
       " 2.1333333333333315,\n",
       " 1.3913043478260891,\n",
       " 1.3333333333333321,\n",
       " 1.2307692307692297,\n",
       " 1.0666666666666698,\n",
       " 1.142857142857142,\n",
       " 0.9696969696969688,\n",
       " 0.6956521739130428,\n",
       " 0.8000000000000016,\n",
       " 0.43835616438356123,\n",
       " 0.4571428571428574,\n",
       " 0.6153846153846149,\n",
       " 0.39024390243902507,\n",
       " 0.23703703703703705,\n",
       " 0.2318840579710143,\n",
       " 0.26666666666666694,\n",
       " 0.15458937198067643,\n",
       " 0.1576354679802955]"
      ]
     },
     "execution_count": 21,
     "metadata": {},
     "output_type": "execute_result"
    }
   ],
   "source": [
    "f_star = [v / (n * i) for i in h]\n",
    "f_star"
   ]
  },
  {
   "cell_type": "code",
   "execution_count": 22,
   "metadata": {},
   "outputs": [
    {
     "data": {
      "text/plain": [
       "[0,\n",
       " 0.032,\n",
       " 0.064,\n",
       " 0.096,\n",
       " 0.128,\n",
       " 0.16,\n",
       " 0.192,\n",
       " 0.224,\n",
       " 0.256,\n",
       " 0.288,\n",
       " 0.32,\n",
       " 0.352,\n",
       " 0.384,\n",
       " 0.416,\n",
       " 0.448,\n",
       " 0.48,\n",
       " 0.512,\n",
       " 0.544,\n",
       " 0.576,\n",
       " 0.608,\n",
       " 0.64,\n",
       " 0.672,\n",
       " 0.704,\n",
       " 0.736,\n",
       " 0.768,\n",
       " 0.8,\n",
       " 0.832,\n",
       " 0.864,\n",
       " 0.896,\n",
       " 0.928,\n",
       " 0.96,\n",
       " 0.992]"
      ]
     },
     "execution_count": 22,
     "metadata": {},
     "output_type": "execute_result"
    }
   ],
   "source": [
    "wi = [0]\n",
    "for i in range(m):\n",
    "    wi.append(round(wi[i] + v / n, 4))\n",
    "wi"
   ]
  },
  {
   "cell_type": "markdown",
   "metadata": {},
   "source": [
    "### Таблица"
   ]
  },
  {
   "cell_type": "code",
   "execution_count": 23,
   "metadata": {},
   "outputs": [
    {
     "name": "stdout",
     "output_type": "stream",
     "text": [
      "╒════════════════╤════════════════════╤═══════╤═══════════════════════╕\n",
      "│ Интервал       │   Значение функции │   Шаг │   Накопленная частота │\n",
      "╞════════════════╪════════════════════╪═══════╪═══════════════════════╡\n",
      "│ (0.286, 0.293) │           4.57143  │ 0.007 │                 0.032 │\n",
      "├────────────────┼────────────────────┼───────┼───────────────────────┤\n",
      "│ (0.293, 0.301) │           4        │ 0.008 │                 0.064 │\n",
      "├────────────────┼────────────────────┼───────┼───────────────────────┤\n",
      "│ (0.301, 0.312) │           2.90909  │ 0.011 │                 0.096 │\n",
      "├────────────────┼────────────────────┼───────┼───────────────────────┤\n",
      "│ (0.312, 0.324) │           2.66667  │ 0.012 │                 0.128 │\n",
      "├────────────────┼────────────────────┼───────┼───────────────────────┤\n",
      "│ (0.324, 0.335) │           2.90909  │ 0.011 │                 0.16  │\n",
      "├────────────────┼────────────────────┼───────┼───────────────────────┤\n",
      "│ (0.336, 0.349) │           2.46154  │ 0.013 │                 0.192 │\n",
      "├────────────────┼────────────────────┼───────┼───────────────────────┤\n",
      "│ (0.349, 0.364) │           2.13333  │ 0.015 │                 0.224 │\n",
      "├────────────────┼────────────────────┼───────┼───────────────────────┤\n",
      "│ (0.364, 0.373) │           3.55556  │ 0.009 │                 0.256 │\n",
      "├────────────────┼────────────────────┼───────┼───────────────────────┤\n",
      "│ (0.373, 0.385) │           2.66667  │ 0.012 │                 0.288 │\n",
      "├────────────────┼────────────────────┼───────┼───────────────────────┤\n",
      "│ (0.385, 0.398) │           2.46154  │ 0.013 │                 0.32  │\n",
      "├────────────────┼────────────────────┼───────┼───────────────────────┤\n",
      "│ (0.398, 0.416) │           1.77778  │ 0.018 │                 0.352 │\n",
      "├────────────────┼────────────────────┼───────┼───────────────────────┤\n",
      "│ (0.417, 0.434) │           1.88235  │ 0.017 │                 0.384 │\n",
      "├────────────────┼────────────────────┼───────┼───────────────────────┤\n",
      "│ (0.434, 0.447) │           2.46154  │ 0.013 │                 0.416 │\n",
      "├────────────────┼────────────────────┼───────┼───────────────────────┤\n",
      "│ (0.447, 0.462) │           2.13333  │ 0.015 │                 0.448 │\n",
      "├────────────────┼────────────────────┼───────┼───────────────────────┤\n",
      "│ (0.463, 0.486) │           1.3913   │ 0.023 │                 0.48  │\n",
      "├────────────────┼────────────────────┼───────┼───────────────────────┤\n",
      "│ (0.487, 0.511) │           1.33333  │ 0.024 │                 0.512 │\n",
      "├────────────────┼────────────────────┼───────┼───────────────────────┤\n",
      "│ (0.512, 0.538) │           1.23077  │ 0.026 │                 0.544 │\n",
      "├────────────────┼────────────────────┼───────┼───────────────────────┤\n",
      "│ (0.541, 0.571) │           1.06667  │ 0.03  │                 0.576 │\n",
      "├────────────────┼────────────────────┼───────┼───────────────────────┤\n",
      "│ (0.573, 0.601) │           1.14286  │ 0.028 │                 0.608 │\n",
      "├────────────────┼────────────────────┼───────┼───────────────────────┤\n",
      "│ (0.601, 0.634) │           0.969697 │ 0.033 │                 0.64  │\n",
      "├────────────────┼────────────────────┼───────┼───────────────────────┤\n",
      "│ (0.635, 0.681) │           0.695652 │ 0.046 │                 0.672 │\n",
      "├────────────────┼────────────────────┼───────┼───────────────────────┤\n",
      "│ (0.683, 0.723) │           0.8      │ 0.04  │                 0.704 │\n",
      "├────────────────┼────────────────────┼───────┼───────────────────────┤\n",
      "│ (0.727, 0.8)   │           0.438356 │ 0.073 │                 0.736 │\n",
      "├────────────────┼────────────────────┼───────┼───────────────────────┤\n",
      "│ (0.801, 0.871) │           0.457143 │ 0.07  │                 0.768 │\n",
      "├────────────────┼────────────────────┼───────┼───────────────────────┤\n",
      "│ (0.872, 0.924) │           0.615385 │ 0.052 │                 0.8   │\n",
      "├────────────────┼────────────────────┼───────┼───────────────────────┤\n",
      "│ (0.925, 1.007) │           0.390244 │ 0.082 │                 0.832 │\n",
      "├────────────────┼────────────────────┼───────┼───────────────────────┤\n",
      "│ (1.009, 1.144) │           0.237037 │ 0.135 │                 0.864 │\n",
      "├────────────────┼────────────────────┼───────┼───────────────────────┤\n",
      "│ (1.144, 1.282) │           0.231884 │ 0.138 │                 0.896 │\n",
      "├────────────────┼────────────────────┼───────┼───────────────────────┤\n",
      "│ (1.292, 1.412) │           0.266667 │ 0.12  │                 0.928 │\n",
      "├────────────────┼────────────────────┼───────┼───────────────────────┤\n",
      "│ (1.431, 1.638) │           0.154589 │ 0.207 │                 0.96  │\n",
      "├────────────────┼────────────────────┼───────┼───────────────────────┤\n",
      "│ (1.641, 1.844) │           0.157635 │ 0.203 │                 0.992 │\n",
      "╘════════════════╧════════════════════╧═══════╧═══════════════════════╛\n"
     ]
    }
   ],
   "source": [
    "table = [list(item) for item in zip(intervals, f_star, h, wi[1:])]\n",
    "print(tabulate(table, headers=['Интервал', 'Значение функции', 'Шаг', \n",
    "                               'Накопленная частота'], tablefmt='fancy_grid'))"
   ]
  },
  {
   "cell_type": "markdown",
   "metadata": {},
   "source": [
    "### Гистограмма"
   ]
  },
  {
   "cell_type": "code",
   "execution_count": 24,
   "metadata": {},
   "outputs": [
    {
     "data": {
      "image/png": "[encoded data removed]",
      "text/plain": [
       "<Figure size 432x288 with 1 Axes>"
      ]
     },
     "metadata": {
      "needs_background": "light"
     },
     "output_type": "display_data"
    }
   ],
   "source": [
    "x_plot = a[:]\n",
    "x_plot.append(b[-1])\n",
    "y_plot = f_star[:]\n",
    "y_plot.insert(0, 0)\n",
    "plt.step(x_plot, y_plot)\n",
    "plt.vlines(x_plot, min(y_plot), y_plot, colors='C0')\n",
    "plt.grid(True)\n",
    "plt.show()"
   ]
  },
  {
   "cell_type": "markdown",
   "metadata": {},
   "source": [
    "### Полигон распределения"
   ]
  },
  {
   "cell_type": "code",
   "execution_count": 25,
   "metadata": {},
   "outputs": [
    {
     "data": {
      "image/png": "[encoded data removed]",
      "text/plain": [
       "<Figure size 432x288 with 1 Axes>"
      ]
     },
     "metadata": {
      "needs_background": "light"
     },
     "output_type": "display_data"
    }
   ],
   "source": [
    "x_plot = a[:]\n",
    "x_plot.append(b[-1])\n",
    "y_plot = f_star[:]\n",
    "x_middles = [(i + j) / 2 for (i, j) in intervals]\n",
    "y_plot.insert(0, 0)\n",
    "plt.step(x_plot, y_plot)\n",
    "plt.vlines(x_plot, min(y_plot), y_plot, colors='C0')\n",
    "plt.plot(x_middles, y_plot[1:], '.')\n",
    "plt.plot(x_middles, y_plot[1:])\n",
    "plt.grid(True)\n",
    "plt.show()"
   ]
  },
  {
   "cell_type": "markdown",
   "metadata": {},
   "source": [
    "### Эмпирическая функция распределения"
   ]
  },
  {
   "cell_type": "code",
   "execution_count": 26,
   "metadata": {},
   "outputs": [
    {
     "data": {
      "image/png": "[encoded data removed]",
      "text/plain": [
       "<Figure size 432x288 with 1 Axes>"
      ]
     },
     "metadata": {
      "needs_background": "light"
     },
     "output_type": "display_data"
    }
   ],
   "source": [
    "y_plot = wi[:]\n",
    "x_plot = a[:]\n",
    "x_plot.append(b[-1])\n",
    "x_plot.insert(0, A)\n",
    "y_plot.insert(0, 0)\n",
    "x_plot.append(B)\n",
    "y_plot.append(1)\n",
    "plt.plot(x_plot, y_plot)\n",
    "plt.plot(x_plot[1:-1], y_plot[1:-1], '.')\n",
    "plt.grid(True)\n",
    "plt.show()"
   ]
  },
  {
   "cell_type": "markdown",
   "metadata": {},
   "source": [
    "### График теоретической и эмпирической плотностей распределения"
   ]
  },
  {
   "cell_type": "code",
   "execution_count": 27,
   "metadata": {},
   "outputs": [
    {
     "data": {
      "image/png": "[encoded data removed]",
      "text/plain": [
       "<Figure size 432x288 with 1 Axes>"
      ]
     },
     "metadata": {
      "needs_background": "light"
     },
     "output_type": "display_data"
    }
   ],
   "source": [
    "x_plot = a[:]\n",
    "x_plot.append(b[-1])\n",
    "y_plot = f_star[:]\n",
    "y_plot.insert(0, 0)\n",
    "plt.step(x_plot, y_plot)\n",
    "plt.vlines(x_plot, min(y_plot), y_plot, colors='C0')\n",
    "x_lin = np.linspace(min(a[:]), max(b[:]), 70)\n",
    "plt.plot(x_lin, list(map(g, x_lin)))\n",
    "plt.grid(True)\n",
    "plt.show()"
   ]
  }
 ],
 "metadata": {
  "kernelspec": {
   "display_name": "Python 3",
   "language": "python",
   "name": "python3"
  },
  "language_info": {
   "codemirror_mode": {
    "name": "ipython",
    "version": 3
   },
   "file_extension": ".py",
   "mimetype": "text/x-python",
   "name": "python",
   "nbconvert_exporter": "python",
   "pygments_lexer": "ipython3",
   "version": "3.7.2"
  }
 },
 "nbformat": 4,
 "nbformat_minor": 2
}
