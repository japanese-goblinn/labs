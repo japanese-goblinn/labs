{
 "cells": [
  {
   "cell_type": "markdown",
   "metadata": {},
   "source": [
    "# ЛР 2"
   ]
  },
  {
   "cell_type": "markdown",
   "metadata": {},
   "source": [
    "# Статестический ряд. Построение гистограмм равноинтервальным и равновероятностным методами."
   ]
  },
  {
   "cell_type": "code",
   "execution_count": 1,
   "metadata": {},
   "outputs": [],
   "source": [
    "from random import uniform\n",
    "from tabulate import tabulate\n",
    "from collections import Counter\n",
    "import matplotlib.pyplot as plt\n",
    "import numpy as np"
   ]
  },
  {
   "cell_type": "markdown",
   "metadata": {},
   "source": [
    "## Вариационный ряд"
   ]
  },
  {
   "cell_type": "code",
   "execution_count": 2,
   "metadata": {},
   "outputs": [
    {
     "name": "stdout",
     "output_type": "stream",
     "text": [
      "[0.288, 0.289, 0.289, 0.29, 0.291, 0.294, 0.3, 0.314, 0.315, 0.315, 0.321, 0.328, 0.329, 0.335, 0.345, 0.349, 0.349, 0.36, 0.362, 0.364, 0.365, 0.366, 0.371, 0.378, 0.386, 0.394, 0.401, 0.404, 0.412, 0.416, 0.417, 0.421, 0.435, 0.443, 0.449, 0.45, 0.45, 0.451, 0.453, 0.466, 0.469, 0.502, 0.513, 0.552, 0.555, 0.562, 0.584, 0.592, 0.594, 0.595, 0.599, 0.613, 0.619, 0.619, 0.624, 0.669, 0.672, 0.672, 0.681, 0.697, 0.711, 0.712, 0.73, 0.733, 0.739, 0.741, 0.76, 0.764, 0.764, 0.789, 0.799, 0.841, 0.87, 0.882, 0.898, 0.915, 0.926, 0.927, 0.96, 0.97, 0.978, 1.091, 1.151, 1.162, 1.178, 1.216, 1.217, 1.223, 1.225, 1.231, 1.297, 1.46, 1.471, 1.499, 1.648, 1.763, 1.858, 1.861, 1.879, 1.929]\n"
     ]
    }
   ],
   "source": [
    "def Y(x):\n",
    "    return 2 / (2 + x)\n",
    "\n",
    "A = -1\n",
    "B = 5\n",
    "n = 100\n",
    "X = sorted(round(uniform(0, 1) * (B - A) + A, 4) for _ in range(n))\n",
    "x_list = sorted([round(Y(X[i]), 3) for i in range(n)])\n",
    "print(x_list)"
   ]
  },
  {
   "cell_type": "markdown",
   "metadata": {},
   "source": [
    "## Задание 1"
   ]
  },
  {
   "cell_type": "markdown",
   "metadata": {},
   "source": [
    "### Равноинтервальный метод"
   ]
  },
  {
   "cell_type": "code",
   "execution_count": 3,
   "metadata": {},
   "outputs": [
    {
     "data": {
      "text/plain": [
       "10"
      ]
     },
     "execution_count": 3,
     "metadata": {},
     "output_type": "execute_result"
    }
   ],
   "source": [
    "m = int(np.sqrt(n))\n",
    "m"
   ]
  },
  {
   "cell_type": "markdown",
   "metadata": {},
   "source": [
    "Шаг"
   ]
  },
  {
   "cell_type": "code",
   "execution_count": 4,
   "metadata": {},
   "outputs": [
    {
     "data": {
      "text/plain": [
       "0.1641"
      ]
     },
     "execution_count": 4,
     "metadata": {},
     "output_type": "execute_result"
    }
   ],
   "source": [
    "h = (max(x_list) - min(x_list)) / m\n",
    "h"
   ]
  },
  {
   "cell_type": "code",
   "execution_count": 5,
   "metadata": {},
   "outputs": [
    {
     "data": {
      "text/plain": [
       "[0.288,\n",
       " 0.4531,\n",
       " 0.6172,\n",
       " 0.7823,\n",
       " 0.9474,\n",
       " 1.1145,\n",
       " 1.2846,\n",
       " 1.4627,\n",
       " 1.6278,\n",
       " 1.7919,\n",
       " 1.962]"
      ]
     },
     "execution_count": 5,
     "metadata": {},
     "output_type": "execute_result"
    }
   ],
   "source": [
    "a = [round(x_list[i] + i * h, 4) for i in range(m + 1)]\n",
    "a"
   ]
  },
  {
   "cell_type": "code",
   "execution_count": 6,
   "metadata": {},
   "outputs": [
    {
     "data": {
      "text/plain": [
       "[(0.288, 0.4531),\n",
       " (0.4531, 0.6172),\n",
       " (0.6172, 0.7823),\n",
       " (0.7823, 0.9474),\n",
       " (0.9474, 1.1145),\n",
       " (1.1145, 1.2846),\n",
       " (1.2846, 1.4627),\n",
       " (1.4627, 1.6278),\n",
       " (1.6278, 1.7919),\n",
       " (1.7919, 1.962)]"
      ]
     },
     "execution_count": 6,
     "metadata": {},
     "output_type": "execute_result"
    }
   ],
   "source": [
    "intervals = [(a, b) for (a, b) in zip(a, a[1:])]\n",
    "intervals"
   ]
  },
  {
   "cell_type": "code",
   "execution_count": 7,
   "metadata": {},
   "outputs": [
    {
     "data": {
      "text/plain": [
       "[39, 13, 17, 9, 4, 8, 2, 2, 2, 4]"
      ]
     },
     "execution_count": 7,
     "metadata": {},
     "output_type": "execute_result"
    }
   ],
   "source": [
    "v = []\n",
    "for interval in intervals:\n",
    "    left_bound, right_bound = interval\n",
    "    count = 0\n",
    "    for i in x_list:\n",
    "        if left_bound <= i <= right_bound:\n",
    "            count += 1\n",
    "    v.append(count)\n",
    "v"
   ]
  },
  {
   "cell_type": "code",
   "execution_count": 8,
   "metadata": {
    "scrolled": false
   },
   "outputs": [
    {
     "data": {
      "text/plain": [
       "[2.376599634369287,\n",
       " 0.7921998781230957,\n",
       " 1.035953686776356,\n",
       " 0.5484460694698354,\n",
       " 0.2437538086532602,\n",
       " 0.4875076173065204,\n",
       " 0.1218769043266301,\n",
       " 0.1218769043266301,\n",
       " 0.1218769043266301,\n",
       " 0.2437538086532602]"
      ]
     },
     "execution_count": 8,
     "metadata": {},
     "output_type": "execute_result"
    }
   ],
   "source": [
    "f_star = [i / (h * n) for i in v]\n",
    "f_star"
   ]
  },
  {
   "cell_type": "code",
   "execution_count": 9,
   "metadata": {},
   "outputs": [
    {
     "name": "stdout",
     "output_type": "stream",
     "text": [
      "[0.39, 0.13, 0.17, 0.09, 0.04, 0.08, 0.02, 0.02, 0.02, 0.04]\n",
      "[0, 0.39, 0.52, 0.69, 0.78, 0.82, 0.9, 0.92, 0.94, 0.96, 1.0]\n"
     ]
    }
   ],
   "source": [
    "w = [round(i / n, 4) for i in v]\n",
    "wi = [0]\n",
    "for k, i in enumerate(w):\n",
    "    wi.append(round(wi[k] + i, 4))\n",
    "print(w)\n",
    "print(wi)"
   ]
  },
  {
   "cell_type": "markdown",
   "metadata": {},
   "source": [
    "### Таблица"
   ]
  },
  {
   "cell_type": "code",
   "execution_count": 10,
   "metadata": {},
   "outputs": [
    {
     "name": "stdout",
     "output_type": "stream",
     "text": [
      "╒══════════════════╤════════════════════╤══════════════════════╤═══════════╤═══════════════════════╕\n",
      "│ Интервал         │   Значение функции │   Количество вариант │   Частота │   Накопленная частота │\n",
      "╞══════════════════╪════════════════════╪══════════════════════╪═══════════╪═══════════════════════╡\n",
      "│ (0.288, 0.4531)  │           2.3766   │                   39 │      0.39 │                  0.39 │\n",
      "├──────────────────┼────────────────────┼──────────────────────┼───────────┼───────────────────────┤\n",
      "│ (0.4531, 0.6172) │           0.7922   │                   13 │      0.13 │                  0.52 │\n",
      "├──────────────────┼────────────────────┼──────────────────────┼───────────┼───────────────────────┤\n",
      "│ (0.6172, 0.7823) │           1.03595  │                   17 │      0.17 │                  0.69 │\n",
      "├──────────────────┼────────────────────┼──────────────────────┼───────────┼───────────────────────┤\n",
      "│ (0.7823, 0.9474) │           0.548446 │                    9 │      0.09 │                  0.78 │\n",
      "├──────────────────┼────────────────────┼──────────────────────┼───────────┼───────────────────────┤\n",
      "│ (0.9474, 1.1145) │           0.243754 │                    4 │      0.04 │                  0.82 │\n",
      "├──────────────────┼────────────────────┼──────────────────────┼───────────┼───────────────────────┤\n",
      "│ (1.1145, 1.2846) │           0.487508 │                    8 │      0.08 │                  0.9  │\n",
      "├──────────────────┼────────────────────┼──────────────────────┼───────────┼───────────────────────┤\n",
      "│ (1.2846, 1.4627) │           0.121877 │                    2 │      0.02 │                  0.92 │\n",
      "├──────────────────┼────────────────────┼──────────────────────┼───────────┼───────────────────────┤\n",
      "│ (1.4627, 1.6278) │           0.121877 │                    2 │      0.02 │                  0.94 │\n",
      "├──────────────────┼────────────────────┼──────────────────────┼───────────┼───────────────────────┤\n",
      "│ (1.6278, 1.7919) │           0.121877 │                    2 │      0.02 │                  0.96 │\n",
      "├──────────────────┼────────────────────┼──────────────────────┼───────────┼───────────────────────┤\n",
      "│ (1.7919, 1.962)  │           0.243754 │                    4 │      0.04 │                  1    │\n",
      "╘══════════════════╧════════════════════╧══════════════════════╧═══════════╧═══════════════════════╛\n"
     ]
    }
   ],
   "source": [
    "table = [list(item) for item in zip(intervals, f_star, v, w, wi[1:])]\n",
    "print(tabulate(table, headers=['Интервал', 'Значение функции', 'Количество вариант', 'Частота', 'Накопленная частота'], tablefmt='fancy_grid'))"
   ]
  },
  {
   "cell_type": "markdown",
   "metadata": {},
   "source": [
    "### Гистограмма"
   ]
  },
  {
   "cell_type": "code",
   "execution_count": 11,
   "metadata": {
    "scrolled": false
   },
   "outputs": [
    {
     "data": {
      "image/png": "[encoded data removed]",
      "text/plain": [
       "<Figure size 432x288 with 1 Axes>"
      ]
     },
     "metadata": {
      "needs_background": "light"
     },
     "output_type": "display_data"
    }
   ],
   "source": [
    "x_plot = a[:]\n",
    "y_plot = f_star[:]\n",
    "y_plot.insert(0, 0)\n",
    "plt.step(x_plot, y_plot)\n",
    "plt.vlines(x_plot, min(y_plot), y_plot, colors='C0')\n",
    "plt.grid(True)\n",
    "plt.show()"
   ]
  },
  {
   "cell_type": "markdown",
   "metadata": {},
   "source": [
    "### Полигон распредления"
   ]
  },
  {
   "cell_type": "code",
   "execution_count": 12,
   "metadata": {},
   "outputs": [
    {
     "data": {
      "image/png": "[encoded data removed]",
      "text/plain": [
       "<Figure size 432x288 with 1 Axes>"
      ]
     },
     "metadata": {
      "needs_background": "light"
     },
     "output_type": "display_data"
    }
   ],
   "source": [
    "x_plot = a[:]\n",
    "y_plot = f_star[:]\n",
    "x_middles = [(i + j) / 2 for (i, j) in intervals]\n",
    "y_plot.insert(0, 0)\n",
    "plt.step(x_plot, y_plot)\n",
    "plt.vlines(x_plot, min(y_plot), y_plot, colors='C0')\n",
    "plt.plot(x_middles, y_plot[1:], '.')\n",
    "plt.plot(x_middles, y_plot[1:])\n",
    "plt.grid(True)\n",
    "plt.show()"
   ]
  },
  {
   "cell_type": "markdown",
   "metadata": {},
   "source": [
    "### Эмпирическая функция распредления"
   ]
  },
  {
   "cell_type": "code",
   "execution_count": 13,
   "metadata": {},
   "outputs": [
    {
     "data": {
      "image/png": "[encoded data removed]",
      "text/plain": [
       "<Figure size 432x288 with 1 Axes>"
      ]
     },
     "metadata": {
      "needs_background": "light"
     },
     "output_type": "display_data"
    }
   ],
   "source": [
    "y_plot = wi[:]\n",
    "x_plot = a[:]\n",
    "x_plot.insert(0, A)\n",
    "y_plot.insert(0, 0)\n",
    "x_plot.append(B)\n",
    "y_plot.append(1)\n",
    "plt.plot(x_plot, y_plot)\n",
    "plt.plot(x_plot[1:-1], y_plot[1:-1], '.')\n",
    "plt.grid(True)\n",
    "plt.show()"
   ]
  },
  {
   "cell_type": "markdown",
   "metadata": {},
   "source": [
    "### Теоретическая плотность распредления"
   ]
  },
  {
   "cell_type": "code",
   "execution_count": 14,
   "metadata": {},
   "outputs": [],
   "source": [
    "def f(x):\n",
    "    if A <= x <= B:\n",
    "        return 1 / (B - A)\n",
    "    else:\n",
    "        return 0\n",
    "\n",
    "def g(y):\n",
    "    return f(2 / y - 2) * (2 / y**2) "
   ]
  },
  {
   "cell_type": "code",
   "execution_count": 15,
   "metadata": {
    "scrolled": true
   },
   "outputs": [
    {
     "data": {
      "image/png": "[encoded data removed]",
      "text/plain": [
       "<Figure size 432x288 with 1 Axes>"
      ]
     },
     "metadata": {
      "needs_background": "light"
     },
     "output_type": "display_data"
    }
   ],
   "source": [
    "x_lin = np.linspace(min(a[:]), max(a[:]), 70)\n",
    "plt.plot(x_lin, list(map(g, x_lin)))\n",
    "plt.grid(True)\n",
    "plt.show()"
   ]
  },
  {
   "cell_type": "markdown",
   "metadata": {},
   "source": [
    "### График теоретической и эмпирической плотностей распределения"
   ]
  },
  {
   "cell_type": "code",
   "execution_count": 16,
   "metadata": {},
   "outputs": [
    {
     "data": {
      "image/png": "[encoded data removed]",
      "text/plain": [
       "<Figure size 432x288 with 1 Axes>"
      ]
     },
     "metadata": {
      "needs_background": "light"
     },
     "output_type": "display_data"
    }
   ],
   "source": [
    "x_plot = a[:]\n",
    "y_plot = f_star[:]\n",
    "y_plot.insert(0, 0)\n",
    "plt.step(x_plot, y_plot)\n",
    "plt.vlines(x_plot, min(y_plot), y_plot, colors='C0')\n",
    "x_lin = np.linspace(min(x_plot), max(x_plot), 70)\n",
    "plt.plot(x_lin, list(map(g, x_lin)))\n",
    "plt.grid(True)\n",
    "plt.show()"
   ]
  },
  {
   "cell_type": "markdown",
   "metadata": {},
   "source": [
    "## Задание 2"
   ]
  },
  {
   "cell_type": "markdown",
   "metadata": {},
   "source": [
    "### Равновероятностный метод"
   ]
  },
  {
   "cell_type": "code",
   "execution_count": 17,
   "metadata": {},
   "outputs": [
    {
     "data": {
      "text/plain": [
       "10"
      ]
     },
     "execution_count": 17,
     "metadata": {},
     "output_type": "execute_result"
    }
   ],
   "source": [
    "m = int(np.sqrt(n))\n",
    "m"
   ]
  },
  {
   "cell_type": "markdown",
   "metadata": {},
   "source": [
    "Количество вариант в интервале"
   ]
  },
  {
   "cell_type": "code",
   "execution_count": 18,
   "metadata": {},
   "outputs": [
    {
     "data": {
      "text/plain": [
       "10"
      ]
     },
     "execution_count": 18,
     "metadata": {},
     "output_type": "execute_result"
    }
   ],
   "source": [
    "v = n // m\n",
    "v"
   ]
  },
  {
   "cell_type": "code",
   "execution_count": 19,
   "metadata": {},
   "outputs": [
    {
     "data": {
      "text/plain": [
       "[(0.288, 0.315),\n",
       " (0.321, 0.364),\n",
       " (0.365, 0.416),\n",
       " (0.417, 0.466),\n",
       " (0.469, 0.595),\n",
       " (0.599, 0.697),\n",
       " (0.711, 0.789),\n",
       " (0.799, 0.97),\n",
       " (0.978, 1.231),\n",
       " (1.297, 1.929)]"
      ]
     },
     "execution_count": 19,
     "metadata": {},
     "output_type": "execute_result"
    }
   ],
   "source": [
    "a = []\n",
    "b = []\n",
    "i = 0\n",
    "for _ in range(m):\n",
    "    a.append(x_list[i])\n",
    "    b.append(x_list[i + v - 1])\n",
    "    i += v\n",
    "intervals = [(i, j) for (i, j) in zip(a, b)]\n",
    "intervals"
   ]
  },
  {
   "cell_type": "code",
   "execution_count": 20,
   "metadata": {
    "scrolled": true
   },
   "outputs": [
    {
     "data": {
      "text/plain": [
       "[0.027000000000000024,\n",
       " 0.04299999999999998,\n",
       " 0.05099999999999999,\n",
       " 0.049000000000000044,\n",
       " 0.126,\n",
       " 0.09799999999999998,\n",
       " 0.07800000000000007,\n",
       " 0.17099999999999993,\n",
       " 0.2530000000000001,\n",
       " 0.6320000000000001]"
      ]
     },
     "execution_count": 20,
     "metadata": {},
     "output_type": "execute_result"
    }
   ],
   "source": [
    "h = [j - i for (i, j) in zip(a, b)]\n",
    "h"
   ]
  },
  {
   "cell_type": "code",
   "execution_count": 21,
   "metadata": {},
   "outputs": [
    {
     "data": {
      "text/plain": [
       "[3.7037037037037006,\n",
       " 2.3255813953488382,\n",
       " 1.9607843137254908,\n",
       " 2.0408163265306105,\n",
       " 0.7936507936507937,\n",
       " 1.0204081632653064,\n",
       " 1.2820512820512808,\n",
       " 0.5847953216374271,\n",
       " 0.39525691699604726,\n",
       " 0.1582278481012658]"
      ]
     },
     "execution_count": 21,
     "metadata": {},
     "output_type": "execute_result"
    }
   ],
   "source": [
    "f_star = [v / (n * i) for i in h]\n",
    "f_star"
   ]
  },
  {
   "cell_type": "code",
   "execution_count": 22,
   "metadata": {},
   "outputs": [
    {
     "data": {
      "text/plain": [
       "[0, 0.1, 0.2, 0.3, 0.4, 0.5, 0.6, 0.7, 0.8, 0.9, 1.0]"
      ]
     },
     "execution_count": 22,
     "metadata": {},
     "output_type": "execute_result"
    }
   ],
   "source": [
    "wi = [0]\n",
    "for i in range(m):\n",
    "    wi.append(round(wi[i] + v / n, 4))\n",
    "wi"
   ]
  },
  {
   "cell_type": "markdown",
   "metadata": {},
   "source": [
    "### Таблица"
   ]
  },
  {
   "cell_type": "code",
   "execution_count": 23,
   "metadata": {},
   "outputs": [
    {
     "name": "stdout",
     "output_type": "stream",
     "text": [
      "╒════════════════╤════════════════════╤═══════╤═══════════════════════╕\n",
      "│ Интервал       │   Значение функции │   Шаг │   Накопленная частота │\n",
      "╞════════════════╪════════════════════╪═══════╪═══════════════════════╡\n",
      "│ (0.288, 0.315) │           3.7037   │ 0.027 │                   0.1 │\n",
      "├────────────────┼────────────────────┼───────┼───────────────────────┤\n",
      "│ (0.321, 0.364) │           2.32558  │ 0.043 │                   0.2 │\n",
      "├────────────────┼────────────────────┼───────┼───────────────────────┤\n",
      "│ (0.365, 0.416) │           1.96078  │ 0.051 │                   0.3 │\n",
      "├────────────────┼────────────────────┼───────┼───────────────────────┤\n",
      "│ (0.417, 0.466) │           2.04082  │ 0.049 │                   0.4 │\n",
      "├────────────────┼────────────────────┼───────┼───────────────────────┤\n",
      "│ (0.469, 0.595) │           0.793651 │ 0.126 │                   0.5 │\n",
      "├────────────────┼────────────────────┼───────┼───────────────────────┤\n",
      "│ (0.599, 0.697) │           1.02041  │ 0.098 │                   0.6 │\n",
      "├────────────────┼────────────────────┼───────┼───────────────────────┤\n",
      "│ (0.711, 0.789) │           1.28205  │ 0.078 │                   0.7 │\n",
      "├────────────────┼────────────────────┼───────┼───────────────────────┤\n",
      "│ (0.799, 0.97)  │           0.584795 │ 0.171 │                   0.8 │\n",
      "├────────────────┼────────────────────┼───────┼───────────────────────┤\n",
      "│ (0.978, 1.231) │           0.395257 │ 0.253 │                   0.9 │\n",
      "├────────────────┼────────────────────┼───────┼───────────────────────┤\n",
      "│ (1.297, 1.929) │           0.158228 │ 0.632 │                   1   │\n",
      "╘════════════════╧════════════════════╧═══════╧═══════════════════════╛\n"
     ]
    }
   ],
   "source": [
    "table = [list(item) for item in zip(intervals, f_star, h, wi[1:])]\n",
    "print(tabulate(table, headers=['Интервал', 'Значение функции', 'Шаг', \n",
    "                               'Накопленная частота'], tablefmt='fancy_grid'))"
   ]
  },
  {
   "cell_type": "markdown",
   "metadata": {},
   "source": [
    "### Гистограмма"
   ]
  },
  {
   "cell_type": "code",
   "execution_count": 24,
   "metadata": {},
   "outputs": [
    {
     "data": {
      "image/png": "[encoded data removed]",
      "text/plain": [
       "<Figure size 432x288 with 1 Axes>"
      ]
     },
     "metadata": {
      "needs_background": "light"
     },
     "output_type": "display_data"
    }
   ],
   "source": [
    "x_plot = a[:]\n",
    "x_plot.append(b[-1])\n",
    "y_plot = f_star[:]\n",
    "y_plot.insert(0, 0)\n",
    "plt.step(x_plot, y_plot)\n",
    "plt.vlines(x_plot, min(y_plot), y_plot, colors='C0')\n",
    "plt.grid(True)\n",
    "plt.show()"
   ]
  },
  {
   "cell_type": "markdown",
   "metadata": {},
   "source": [
    "### Полигон распределения"
   ]
  },
  {
   "cell_type": "code",
   "execution_count": 25,
   "metadata": {},
   "outputs": [
    {
     "data": {
      "image/png": "[encoded data removed]",
      "text/plain": [
       "<Figure size 432x288 with 1 Axes>"
      ]
     },
     "metadata": {
      "needs_background": "light"
     },
     "output_type": "display_data"
    }
   ],
   "source": [
    "x_plot = a[:]\n",
    "x_plot.append(b[-1])\n",
    "y_plot = f_star[:]\n",
    "x_middles = [(i + j) / 2 for (i, j) in intervals]\n",
    "y_plot.insert(0, 0)\n",
    "plt.step(x_plot, y_plot)\n",
    "plt.vlines(x_plot, min(y_plot), y_plot, colors='C0')\n",
    "plt.plot(x_middles, y_plot[1:], '.')\n",
    "plt.plot(x_middles, y_plot[1:])\n",
    "plt.grid(True)\n",
    "plt.show()"
   ]
  },
  {
   "cell_type": "markdown",
   "metadata": {},
   "source": [
    "### Эмпирическая функция распределения"
   ]
  },
  {
   "cell_type": "code",
   "execution_count": 26,
   "metadata": {},
   "outputs": [
    {
     "data": {
      "image/png": "[encoded data removed]",
      "text/plain": [
       "<Figure size 432x288 with 1 Axes>"
      ]
     },
     "metadata": {
      "needs_background": "light"
     },
     "output_type": "display_data"
    }
   ],
   "source": [
    "y_plot = wi[:]\n",
    "x_plot = a[:]\n",
    "x_plot.append(b[-1])\n",
    "x_plot.insert(0, A)\n",
    "y_plot.insert(0, 0)\n",
    "x_plot.append(B)\n",
    "y_plot.append(1)\n",
    "plt.plot(x_plot, y_plot)\n",
    "plt.plot(x_plot[1:-1], y_plot[1:-1], '.')\n",
    "plt.grid(True)\n",
    "plt.show()"
   ]
  },
  {
   "cell_type": "markdown",
   "metadata": {},
   "source": [
    "### График теоретической и эмпирической плотностей распределения"
   ]
  },
  {
   "cell_type": "code",
   "execution_count": 27,
   "metadata": {},
   "outputs": [
    {
     "data": {
      "image/png": "[encoded data removed]",
      "text/plain": [
       "<Figure size 432x288 with 1 Axes>"
      ]
     },
     "metadata": {
      "needs_background": "light"
     },
     "output_type": "display_data"
    }
   ],
   "source": [
    "x_plot = a[:]\n",
    "x_plot.append(b[-1])\n",
    "y_plot = f_star[:]\n",
    "y_plot.insert(0, 0)\n",
    "plt.step(x_plot, y_plot)\n",
    "plt.vlines(x_plot, min(y_plot), y_plot, colors='C0')\n",
    "x_lin = np.linspace(min(a[:]), max(b[:]), 70)\n",
    "plt.plot(x_lin, list(map(g, x_lin)))\n",
    "plt.grid(True)\n",
    "plt.show()"
   ]
  }
 ],
 "metadata": {
  "kernelspec": {
   "display_name": "Python 3",
   "language": "python",
   "name": "python3"
  },
  "language_info": {
   "codemirror_mode": {
    "name": "ipython",
    "version": 3
   },
   "file_extension": ".py",
   "mimetype": "text/x-python",
   "name": "python",
   "nbconvert_exporter": "python",
   "pygments_lexer": "ipython3",
   "version": "3.7.2"
  }
 },
 "nbformat": 4,
 "nbformat_minor": 2
}
