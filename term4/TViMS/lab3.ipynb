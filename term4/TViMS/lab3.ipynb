{
 "cells": [
  {
   "cell_type": "markdown",
   "metadata": {},
   "source": [
    "# ЛР3"
   ]
  },
  {
   "cell_type": "markdown",
   "metadata": {},
   "source": [
    "# Проверка статистических гипотез о виде закона распределения"
   ]
  },
  {
   "cell_type": "code",
   "execution_count": 3,
   "metadata": {},
   "outputs": [],
   "source": [
    "from random import uniform\n",
    "from tabulate import tabulate\n",
    "from collections import Counter\n",
    "import matplotlib.pyplot as plt\n",
    "import numpy as np"
   ]
  },
  {
   "cell_type": "code",
   "execution_count": 1,
   "metadata": {},
   "outputs": [],
   "source": [
    "def Y(x):\n",
    "    return 2 / (2 + x)\n",
    "\n",
    "A = -1\n",
    "B = 5"
   ]
  },
  {
   "cell_type": "markdown",
   "metadata": {},
   "source": [
    "## 1"
   ]
  },
  {
   "cell_type": "code",
   "execution_count": 7,
   "metadata": {},
   "outputs": [
    {
     "name": "stdout",
     "output_type": "stream",
     "text": [
      "[0.287, 0.29, 0.29, 0.292, 0.294, 0.298, 0.298, 0.298, 0.3, 0.303, 0.304, 0.308, 0.311, 0.313, 0.314, 0.314, 0.314, 0.318, 0.318, 0.318, 0.319, 0.321, 0.326, 0.326, 0.327, 0.327, 0.33, 0.335, 0.335, 0.338, 0.339, 0.339, 0.344, 0.345, 0.346, 0.346, 0.349, 0.352, 0.352, 0.353, 0.358, 0.359, 0.361, 0.362, 0.362, 0.363, 0.365, 0.369, 0.372, 0.374, 0.38, 0.384, 0.385, 0.388, 0.388, 0.39, 0.392, 0.394, 0.398, 0.4, 0.405, 0.411, 0.413, 0.415, 0.416, 0.417, 0.418, 0.424, 0.424, 0.43, 0.431, 0.431, 0.438, 0.439, 0.439, 0.441, 0.441, 0.441, 0.441, 0.444, 0.447, 0.449, 0.451, 0.452, 0.464, 0.467, 0.471, 0.479, 0.481, 0.486, 0.486, 0.488, 0.488, 0.49, 0.491, 0.492, 0.5, 0.502, 0.504, 0.504, 0.508, 0.508, 0.511, 0.514, 0.516, 0.518, 0.52, 0.52, 0.525, 0.53, 0.535, 0.537, 0.542, 0.543, 0.545, 0.55, 0.553, 0.555, 0.558, 0.561, 0.569, 0.571, 0.573, 0.573, 0.586, 0.59, 0.594, 0.596, 0.599, 0.6, 0.605, 0.627, 0.638, 0.657, 0.661, 0.661, 0.664, 0.676, 0.677, 0.681, 0.685, 0.693, 0.694, 0.703, 0.72, 0.724, 0.732, 0.743, 0.76, 0.761, 0.762, 0.767, 0.773, 0.779, 0.787, 0.787, 0.791, 0.804, 0.83, 0.831, 0.843, 0.846, 0.849, 0.865, 0.87, 0.881, 0.883, 0.899, 0.911, 0.919, 0.928, 0.928, 0.937, 0.938, 1.011, 1.021, 1.042, 1.049, 1.088, 1.095, 1.096, 1.141, 1.148, 1.188, 1.198, 1.199, 1.239, 1.24, 1.267, 1.297, 1.367, 1.463, 1.513, 1.679, 1.708, 1.725, 1.761, 1.837, 1.868, 2.0]\n"
     ]
    }
   ],
   "source": [
    "n = 200\n",
    "X = sorted(round(uniform(0, 1) * (B - A) + A, 4) for _ in range(n))\n",
    "x_list = sorted([round(Y(X[i]), 3) for i in range(n)])\n",
    "print(x_list)"
   ]
  },
  {
   "cell_type": "code",
   "execution_count": null,
   "metadata": {},
   "outputs": [],
   "source": []
  },
  {
   "cell_type": "markdown",
   "metadata": {},
   "source": [
    "## 2"
   ]
  },
  {
   "cell_type": "code",
   "execution_count": 5,
   "metadata": {},
   "outputs": [
    {
     "name": "stdout",
     "output_type": "stream",
     "text": [
      "[0.292, 0.292, 0.304, 0.307, 0.308, 0.318, 0.338, 0.356, 0.358, 0.372, 0.376, 0.387, 0.391, 0.535, 0.54, 0.565, 0.59, 0.6, 0.633, 0.753, 0.794, 0.796, 0.831, 0.855, 0.976, 1.117, 1.124, 1.229, 1.505, 1.523]\n"
     ]
    }
   ],
   "source": [
    "n = 30\n",
    "X = sorted(round(uniform(0, 1) * (B - A) + A, 4) for _ in range(n))\n",
    "x_list = sorted([round(Y(X[i]), 3) for i in range(n)])\n",
    "print(x_list)"
   ]
  },
  {
   "cell_type": "code",
   "execution_count": null,
   "metadata": {},
   "outputs": [],
   "source": []
  },
  {
   "cell_type": "markdown",
   "metadata": {},
   "source": [
    "## 3"
   ]
  },
  {
   "cell_type": "code",
   "execution_count": 6,
   "metadata": {
    "scrolled": true
   },
   "outputs": [
    {
     "name": "stdout",
     "output_type": "stream",
     "text": [
      "[0.288, 0.31, 0.313, 0.318, 0.324, 0.325, 0.326, 0.348, 0.35, 0.351, 0.36, 0.361, 0.362, 0.363, 0.368, 0.374, 0.378, 0.407, 0.407, 0.408, 0.414, 0.427, 0.43, 0.434, 0.44, 0.469, 0.492, 0.495, 0.5, 0.512, 0.522, 0.526, 0.602, 0.622, 0.643, 0.656, 0.71, 0.726, 0.761, 0.817, 0.93, 1.023, 1.05, 1.079, 1.344, 1.444, 1.582, 1.637, 1.776, 1.87]\n"
     ]
    }
   ],
   "source": [
    "n = 50\n",
    "X = sorted(round(uniform(0, 1) * (B - A) + A, 4) for _ in range(n))\n",
    "x_list = sorted([round(Y(X[i]), 3) for i in range(n)])\n",
    "print(x_list)"
   ]
  },
  {
   "cell_type": "code",
   "execution_count": null,
   "metadata": {},
   "outputs": [],
   "source": []
  }
 ],
 "metadata": {
  "kernelspec": {
   "display_name": "Python 3",
   "language": "python",
   "name": "python3"
  },
  "language_info": {
   "codemirror_mode": {
    "name": "ipython",
    "version": 3
   },
   "file_extension": ".py",
   "mimetype": "text/x-python",
   "name": "python",
   "nbconvert_exporter": "python",
   "pygments_lexer": "ipython3",
   "version": "3.7.2"
  }
 },
 "nbformat": 4,
 "nbformat_minor": 2
}
