{
 "cells": [
  {
   "cell_type": "markdown",
   "metadata": {},
   "source": [
    "# ЛР3"
   ]
  },
  {
   "cell_type": "markdown",
   "metadata": {},
   "source": [
    "# Проверка статистических гипотез о виде закона распределения"
   ]
  },
  {
   "cell_type": "code",
   "execution_count": 1,
   "metadata": {},
   "outputs": [],
   "source": [
    "from random import uniform\n",
    "from collections import Counter\n",
    "import pandas as pd\n",
    "import matplotlib.pyplot as plt\n",
    "import numpy as np"
   ]
  },
  {
   "cell_type": "code",
   "execution_count": 2,
   "metadata": {},
   "outputs": [],
   "source": [
    "def Y(x):\n",
    "    return 2 / (2 + x)\n",
    "\n",
    "A = -1\n",
    "B = 5"
   ]
  },
  {
   "cell_type": "markdown",
   "metadata": {},
   "source": [
    "Теоритическая плотность распределения "
   ]
  },
  {
   "cell_type": "code",
   "execution_count": 3,
   "metadata": {},
   "outputs": [],
   "source": [
    "def f(x):\n",
    "    if A <= x <= B:\n",
    "        return 1 / (B - A)\n",
    "    else:\n",
    "        return 0\n",
    "\n",
    "def g(y):\n",
    "    return f(2 / y - 2) * (2 / y**2) "
   ]
  },
  {
   "cell_type": "markdown",
   "metadata": {},
   "source": [
    "Теоритическая функция распределения"
   ]
  },
  {
   "cell_type": "code",
   "execution_count": 4,
   "metadata": {},
   "outputs": [],
   "source": [
    "def G(y):\n",
    "    if y < 2 / 7:\n",
    "        return 0\n",
    "    elif y > 2:\n",
    "        return 1\n",
    "    else:\n",
    "        return 1 / 3 * (-(1 / y) + 3.5)"
   ]
  },
  {
   "cell_type": "markdown",
   "metadata": {},
   "source": [
    "## 1"
   ]
  },
  {
   "cell_type": "markdown",
   "metadata": {},
   "source": [
    "## Критерий Пирсона"
   ]
  },
  {
   "cell_type": "code",
   "execution_count": 5,
   "metadata": {},
   "outputs": [
    {
     "name": "stdout",
     "output_type": "stream",
     "text": [
      "[0.2873, 0.2879, 0.2889, 0.2913, 0.2913, 0.2917, 0.293, 0.2934, 0.294, 0.2941, 0.2945, 0.2948, 0.2949, 0.2953, 0.2966, 0.2973, 0.2986, 0.2988, 0.2993, 0.3009, 0.3014, 0.3028, 0.3029, 0.3032, 0.3036, 0.3058, 0.3067, 0.3118, 0.3128, 0.313, 0.313, 0.3133, 0.3168, 0.3171, 0.3207, 0.3229, 0.3297, 0.3339, 0.334, 0.3374, 0.3376, 0.3385, 0.339, 0.3401, 0.3427, 0.3428, 0.3467, 0.3533, 0.3545, 0.3553, 0.3568, 0.3599, 0.3607, 0.3622, 0.3625, 0.3632, 0.3643, 0.3651, 0.3681, 0.3697, 0.3732, 0.3744, 0.3744, 0.3751, 0.3818, 0.3847, 0.3848, 0.3859, 0.3874, 0.3885, 0.3898, 0.39, 0.3919, 0.3925, 0.3962, 0.4006, 0.4015, 0.4041, 0.4049, 0.41, 0.4135, 0.4159, 0.4256, 0.4257, 0.4388, 0.4394, 0.4402, 0.4427, 0.4447, 0.4464, 0.4474, 0.4482, 0.4556, 0.4581, 0.4617, 0.4637, 0.4642, 0.4734, 0.475, 0.4802, 0.4819, 0.4863, 0.4877, 0.4907, 0.4918, 0.492, 0.5025, 0.5082, 0.5152, 0.5175, 0.5187, 0.5238, 0.5316, 0.5318, 0.5322, 0.5329, 0.5397, 0.5457, 0.5468, 0.5526, 0.5549, 0.555, 0.5554, 0.5612, 0.5654, 0.5696, 0.5902, 0.5969, 0.6011, 0.6014, 0.6122, 0.6133, 0.6198, 0.6352, 0.6355, 0.649, 0.6617, 0.667, 0.6765, 0.6958, 0.6989, 0.7111, 0.7238, 0.7272, 0.7306, 0.7386, 0.7403, 0.7515, 0.7547, 0.7613, 0.7789, 0.7842, 0.8016, 0.8305, 0.8313, 0.8318, 0.8339, 0.8695, 0.8695, 0.8695, 0.8879, 0.9462, 0.9465, 0.9577, 0.9596, 0.9801, 0.9972, 1.0715, 1.0762, 1.079, 1.1042, 1.1133, 1.1177, 1.205, 1.2179, 1.2278, 1.2314, 1.2733, 1.3056, 1.3134, 1.3312, 1.3435, 1.4254, 1.4454, 1.4713, 1.5102, 1.679, 1.7364, 1.7599, 1.7666, 1.8025, 1.81, 1.8553, 1.9166, 1.9257, 1.929, 1.9369, 1.9459, 1.951, 1.9928]\n"
     ]
    }
   ],
   "source": [
    "n = 200\n",
    "X = sorted(round(uniform(0, 1) * (B - A) + A, 4) for _ in range(n))\n",
    "x_list = sorted([round(Y(X[i]), 4) for i in range(n)])\n",
    "print(x_list)"
   ]
  },
  {
   "cell_type": "code",
   "execution_count": 6,
   "metadata": {},
   "outputs": [
    {
     "data": {
      "text/plain": [
       "8"
      ]
     },
     "execution_count": 6,
     "metadata": {},
     "output_type": "execute_result"
    }
   ],
   "source": [
    "m = int(np.log2(n)) + 1\n",
    "m"
   ]
  },
  {
   "cell_type": "code",
   "execution_count": 7,
   "metadata": {},
   "outputs": [
    {
     "data": {
      "text/plain": [
       "25"
      ]
     },
     "execution_count": 7,
     "metadata": {},
     "output_type": "execute_result"
    }
   ],
   "source": [
    "v = n // m\n",
    "v"
   ]
  },
  {
   "cell_type": "code",
   "execution_count": 8,
   "metadata": {},
   "outputs": [
    {
     "data": {
      "text/html": [
       "<div>\n",
       "<style scoped>\n",
       "    .dataframe tbody tr th:only-of-type {\n",
       "        vertical-align: middle;\n",
       "    }\n",
       "\n",
       "    .dataframe tbody tr th {\n",
       "        vertical-align: top;\n",
       "    }\n",
       "\n",
       "    .dataframe thead th {\n",
       "        text-align: right;\n",
       "    }\n",
       "</style>\n",
       "<table border=\"1\" class=\"dataframe\">\n",
       "  <thead>\n",
       "    <tr style=\"text-align: right;\">\n",
       "      <th></th>\n",
       "      <th>Ai</th>\n",
       "      <th>Bi</th>\n",
       "      <th>h</th>\n",
       "      <th>f*</th>\n",
       "      <th>w</th>\n",
       "    </tr>\n",
       "  </thead>\n",
       "  <tbody>\n",
       "    <tr>\n",
       "      <th>0</th>\n",
       "      <td>0.2873</td>\n",
       "      <td>0.3036</td>\n",
       "      <td>0.0163</td>\n",
       "      <td>7.668712</td>\n",
       "      <td>0.125</td>\n",
       "    </tr>\n",
       "    <tr>\n",
       "      <th>1</th>\n",
       "      <td>0.3036</td>\n",
       "      <td>0.3545</td>\n",
       "      <td>0.0509</td>\n",
       "      <td>2.455796</td>\n",
       "      <td>0.250</td>\n",
       "    </tr>\n",
       "    <tr>\n",
       "      <th>2</th>\n",
       "      <td>0.3545</td>\n",
       "      <td>0.3919</td>\n",
       "      <td>0.0374</td>\n",
       "      <td>3.342246</td>\n",
       "      <td>0.375</td>\n",
       "    </tr>\n",
       "    <tr>\n",
       "      <th>3</th>\n",
       "      <td>0.3919</td>\n",
       "      <td>0.4642</td>\n",
       "      <td>0.0723</td>\n",
       "      <td>1.728907</td>\n",
       "      <td>0.500</td>\n",
       "    </tr>\n",
       "    <tr>\n",
       "      <th>4</th>\n",
       "      <td>0.4642</td>\n",
       "      <td>0.5549</td>\n",
       "      <td>0.0907</td>\n",
       "      <td>1.378170</td>\n",
       "      <td>0.625</td>\n",
       "    </tr>\n",
       "    <tr>\n",
       "      <th>5</th>\n",
       "      <td>0.5549</td>\n",
       "      <td>0.7306</td>\n",
       "      <td>0.1757</td>\n",
       "      <td>0.711440</td>\n",
       "      <td>0.750</td>\n",
       "    </tr>\n",
       "    <tr>\n",
       "      <th>6</th>\n",
       "      <td>0.7306</td>\n",
       "      <td>1.0762</td>\n",
       "      <td>0.3456</td>\n",
       "      <td>0.361690</td>\n",
       "      <td>0.875</td>\n",
       "    </tr>\n",
       "    <tr>\n",
       "      <th>7</th>\n",
       "      <td>1.0762</td>\n",
       "      <td>1.8553</td>\n",
       "      <td>0.7791</td>\n",
       "      <td>0.160442</td>\n",
       "      <td>1.000</td>\n",
       "    </tr>\n",
       "  </tbody>\n",
       "</table>\n",
       "</div>"
      ],
      "text/plain": [
       "       Ai      Bi       h        f*      w\n",
       "0  0.2873  0.3036  0.0163  7.668712  0.125\n",
       "1  0.3036  0.3545  0.0509  2.455796  0.250\n",
       "2  0.3545  0.3919  0.0374  3.342246  0.375\n",
       "3  0.3919  0.4642  0.0723  1.728907  0.500\n",
       "4  0.4642  0.5549  0.0907  1.378170  0.625\n",
       "5  0.5549  0.7306  0.1757  0.711440  0.750\n",
       "6  0.7306  1.0762  0.3456  0.361690  0.875\n",
       "7  1.0762  1.8553  0.7791  0.160442  1.000"
      ]
     },
     "execution_count": 8,
     "metadata": {},
     "output_type": "execute_result"
    }
   ],
   "source": [
    "a = []\n",
    "b = []\n",
    "i = 0\n",
    "for _ in range(m):\n",
    "        a.append(x_list[i])\n",
    "        b.append(x_list[i + v - 1])\n",
    "        i += v - 1\n",
    "intervals = [(i, j) for (i, j) in zip(a, b)]\n",
    "\n",
    "h = [j - i for (i, j) in zip(a, b)]\n",
    "\n",
    "f_star = [v / (n * i) for i in h]\n",
    "\n",
    "wi = [0]\n",
    "for i in range(m):\n",
    "    wi.append(round(wi[i] + v / n, 4))\n",
    "    \n",
    "data = {\n",
    "    'Ai': a,\n",
    "    'Bi': b,\n",
    "    'h': h,\n",
    "    'f*': f_star,\n",
    "    'w': wi[1:]\n",
    "}\n",
    "pd.DataFrame(data)"
   ]
  },
  {
   "cell_type": "code",
   "execution_count": 9,
   "metadata": {},
   "outputs": [
    {
     "data": {
      "image/png": "[encoded data removed]",
      "text/plain": [
       "<Figure size 432x288 with 1 Axes>"
      ]
     },
     "metadata": {
      "needs_background": "light"
     },
     "output_type": "display_data"
    }
   ],
   "source": [
    "x_plot = a[:]\n",
    "x_plot.append(b[-1])\n",
    "y_plot = f_star[:]\n",
    "y_plot.insert(0, 0)\n",
    "plt.step(x_plot, y_plot)\n",
    "plt.vlines(x_plot, min(y_plot), y_plot, colors='C0')\n",
    "x_lin = np.linspace(min(x_plot), max(x_plot), 70)\n",
    "plt.plot(x_lin, list(map(g, x_lin)))\n",
    "plt.grid(True)\n",
    "plt.show()"
   ]
  },
  {
   "cell_type": "code",
   "execution_count": 10,
   "metadata": {},
   "outputs": [
    {
     "data": {
      "text/plain": [
       "0.125"
      ]
     },
     "execution_count": 10,
     "metadata": {},
     "output_type": "execute_result"
    }
   ],
   "source": [
    "p_star = v / n\n",
    "p_star"
   ]
  },
  {
   "cell_type": "code",
   "execution_count": 11,
   "metadata": {},
   "outputs": [
    {
     "data": {
      "text/plain": [
       "[0.06229152402671959,\n",
       " 0.1576443901825641,\n",
       " 0.08973437545174612,\n",
       " 0.1324758281086001,\n",
       " 0.11737245037468208,\n",
       " 0.14446282857955262,\n",
       " 0.1465142355622303,\n",
       " 0.1300663093771358]"
      ]
     },
     "execution_count": 11,
     "metadata": {},
     "output_type": "execute_result"
    }
   ],
   "source": [
    "p = [G(b) - G(a) for a, b in intervals]\n",
    "p"
   ]
  },
  {
   "cell_type": "code",
   "execution_count": 12,
   "metadata": {},
   "outputs": [
    {
     "data": {
      "text/plain": [
       "18.128737844477147"
      ]
     },
     "execution_count": 12,
     "metadata": {},
     "output_type": "execute_result"
    }
   ],
   "source": [
    "chi_square = sum((v - n * pi)**2 / (n * pi) for pi in p)\n",
    "chi_square"
   ]
  },
  {
   "cell_type": "code",
   "execution_count": 13,
   "metadata": {},
   "outputs": [
    {
     "data": {
      "text/plain": [
       "7"
      ]
     },
     "execution_count": 13,
     "metadata": {},
     "output_type": "execute_result"
    }
   ],
   "source": [
    "alpha = 0.01\n",
    "k = m - 1\n",
    "k"
   ]
  },
  {
   "cell_type": "code",
   "execution_count": 14,
   "metadata": {},
   "outputs": [
    {
     "data": {
      "text/plain": [
       "18.475306906582365"
      ]
     },
     "execution_count": 14,
     "metadata": {},
     "output_type": "execute_result"
    }
   ],
   "source": [
    "from scipy.stats import chi2\n",
    "t_chi = chi2.isf(alpha, k)\n",
    "t_chi"
   ]
  },
  {
   "cell_type": "code",
   "execution_count": 15,
   "metadata": {},
   "outputs": [
    {
     "name": "stdout",
     "output_type": "stream",
     "text": [
      "Нет основнаний отклонять гипотезу\n"
     ]
    }
   ],
   "source": [
    "# за гипотезу принимаем f(x) = f0(x), где f0 плотность вероятности теоретического закона распределения\n",
    "if t_chi > chi_square:\n",
    "    print(\"Нет основнаний отклонять гипотезу\")\n",
    "else:\n",
    "    print(\"Гипотизу следует оклонить\")"
   ]
  },
  {
   "cell_type": "markdown",
   "metadata": {},
   "source": [
    "## 2"
   ]
  },
  {
   "cell_type": "markdown",
   "metadata": {},
   "source": [
    "## Критерий Колмогорова"
   ]
  },
  {
   "cell_type": "code",
   "execution_count": 16,
   "metadata": {},
   "outputs": [
    {
     "name": "stdout",
     "output_type": "stream",
     "text": [
      "[0.303, 0.404, 0.406, 0.526, 0.658]\n"
     ]
    }
   ],
   "source": [
    "n = 5\n",
    "X = sorted(round(uniform(0, 1) * (B - A) + A, 4) for _ in range(n))\n",
    "x_list = sorted([round(Y(X[i]), 3) for i in range(n)])\n",
    "print(x_list)"
   ]
  },
  {
   "cell_type": "code",
   "execution_count": 17,
   "metadata": {},
   "outputs": [
    {
     "name": "stdout",
     "output_type": "stream",
     "text": [
      "[0.0, 0.2, 0.4, 0.6, 0.8, 1.0]\n"
     ]
    }
   ],
   "source": [
    "counts = dict(Counter(x_list))\n",
    "freq = [round(i / n, 3) for i in counts.values()]\n",
    "ys = [0]\n",
    "for k, i in enumerate(counts.values()):\n",
    "    ys.append(ys[k] + i)\n",
    "star_f = [round(i / n, 3) for i in ys]\n",
    "print(star_f)"
   ]
  },
  {
   "cell_type": "code",
   "execution_count": 18,
   "metadata": {},
   "outputs": [
    {
     "data": {
      "image/png": "[encoded data removed]",
      "text/plain": [
       "<Figure size 432x288 with 1 Axes>"
      ]
     },
     "metadata": {
      "needs_background": "light"
     },
     "output_type": "display_data"
    }
   ],
   "source": [
    "x_listt = sorted(list(set(x_list[:])))\n",
    "x_plot = x_listt[:]\n",
    "y_plot = star_f[:]\n",
    "x_plot.insert(0, A)\n",
    "x_plot.append(B)\n",
    "y_plot.insert(0, 0)\n",
    "plt.step(x_plot, y_plot)\n",
    "plt.plot(x_plot[1:-1], y_plot[1:-1], '.')\n",
    "x_lin = np.linspace(min(x_plot), max(x_plot), 50)\n",
    "plt.plot(x_lin, list(map(G, x_lin)))\n",
    "plt.grid(True)\n",
    "plt.show()"
   ]
  },
  {
   "cell_type": "code",
   "execution_count": 19,
   "metadata": {},
   "outputs": [
    {
     "data": {
      "text/plain": [
       "0.34"
      ]
     },
     "execution_count": 19,
     "metadata": {},
     "output_type": "execute_result"
    }
   ],
   "source": [
    "result = []\n",
    "for i, x in enumerate(x_list):\n",
    "    d_plus = abs(G(x) - star_f[i])\n",
    "    d_minus = abs(G(x) - star_f[i + 1])\n",
    "    result.append(max(d_plus, d_minus))\n",
    "max_delta = round(max(result), 2)\n",
    "max_delta"
   ]
  },
  {
   "cell_type": "code",
   "execution_count": 20,
   "metadata": {},
   "outputs": [
    {
     "data": {
      "text/plain": [
       "0.76"
      ]
     },
     "execution_count": 20,
     "metadata": {},
     "output_type": "execute_result"
    }
   ],
   "source": [
    "e_lambda = round(np.sqrt(n) * max_delta, 2)\n",
    "e_lambda"
   ]
  },
  {
   "cell_type": "markdown",
   "metadata": {},
   "source": [
    "![table](img/kolmogorov.png)"
   ]
  },
  {
   "cell_type": "code",
   "execution_count": 21,
   "metadata": {
    "scrolled": true
   },
   "outputs": [
    {
     "name": "stdout",
     "output_type": "stream",
     "text": [
      "Гипотеза принимается, но она может быть не верна\n"
     ]
    }
   ],
   "source": [
    "# за гипотезу принимаем F(x) = F0(x), где F0 - теоретическая функция распределения\n",
    "t_lambda = 1.60\n",
    "if e_lambda < t_lambda:\n",
    "    print(\"Гипотеза принимается, но она может быть не верна\")\n",
    "else:\n",
    "    print(\"Гипотеза отклоняется\")"
   ]
  },
  {
   "cell_type": "markdown",
   "metadata": {},
   "source": [
    "## 3"
   ]
  },
  {
   "cell_type": "markdown",
   "metadata": {},
   "source": [
    "## Критерий Мизеса"
   ]
  },
  {
   "cell_type": "code",
   "execution_count": 22,
   "metadata": {
    "scrolled": true
   },
   "outputs": [
    {
     "name": "stdout",
     "output_type": "stream",
     "text": [
      "[0.289, 0.291, 0.292, 0.295, 0.299, 0.31, 0.318, 0.32, 0.328, 0.339, 0.34, 0.352, 0.353, 0.36, 0.386, 0.405, 0.416, 0.439, 0.451, 0.456, 0.507, 0.51, 0.537, 0.538, 0.548, 0.583, 0.623, 0.695, 0.727, 0.791, 0.797, 0.83, 0.874, 0.889, 0.905, 0.911, 0.92, 0.994, 1.002, 1.06, 1.074, 1.09, 1.234, 1.346, 1.371, 1.384, 1.41, 1.573, 1.645, 1.889]\n"
     ]
    }
   ],
   "source": [
    "n = 50\n",
    "X = sorted(round(uniform(0, 1) * (B - A) + A, 4) for _ in range(n))\n",
    "x_list = sorted([round(Y(X[i]), 3) for i in range(n)])\n",
    "print(x_list)"
   ]
  },
  {
   "cell_type": "code",
   "execution_count": 23,
   "metadata": {},
   "outputs": [],
   "source": [
    "# alpha: n*omega^2\n",
    "mizes_table = {\n",
    "    0.2: 0.241,\n",
    "    0.1: 0.347,\n",
    "    0.05: 0.461,\n",
    "    0.03: 0.548,\n",
    "    0.02: 0.62,\n",
    "    0.01: 0.744,\n",
    "    0.001: 1.168\n",
    "}"
   ]
  },
  {
   "cell_type": "code",
   "execution_count": 24,
   "metadata": {},
   "outputs": [
    {
     "name": "stdout",
     "output_type": "stream",
     "text": [
      "[0.01, 0.03, 0.05, 0.07, 0.09, 0.11, 0.13, 0.15, 0.17, 0.19, 0.21, 0.23, 0.25, 0.27, 0.29, 0.31, 0.33, 0.35, 0.37, 0.39, 0.41, 0.43, 0.45, 0.47, 0.49, 0.51, 0.53, 0.55, 0.57, 0.59, 0.61, 0.63, 0.65, 0.67, 0.69, 0.71, 0.73, 0.75, 0.77, 0.79, 0.81, 0.83, 0.85, 0.87, 0.89, 0.91, 0.93, 0.95, 0.97, 0.99]\n"
     ]
    }
   ],
   "source": [
    "fn = [(i - 0.5) / n for i in range(1, len(x_list) + 1)]\n",
    "print(fn)"
   ]
  },
  {
   "cell_type": "code",
   "execution_count": 25,
   "metadata": {},
   "outputs": [
    {
     "data": {
      "text/plain": [
       "0.2557826457088585"
      ]
     },
     "execution_count": 25,
     "metadata": {},
     "output_type": "execute_result"
    }
   ],
   "source": [
    "n_omega_square = 1 / (12 * n) + sum((G(i) - fn[k])**2 for k, i in enumerate(x_list))\n",
    "n_omega_square"
   ]
  },
  {
   "cell_type": "code",
   "execution_count": 26,
   "metadata": {},
   "outputs": [
    {
     "name": "stdout",
     "output_type": "stream",
     "text": [
      "Нет оснований отклонять гипотезу\n"
     ]
    }
   ],
   "source": [
    "if n_omega_square < mizes_table[alpha]:\n",
    "    print(\"Нет оснований отклонять гипотезу\")\n",
    "else:\n",
    "    print(\"Гипотезу следует оклонить\")"
   ]
  }
 ],
 "metadata": {
  "kernelspec": {
   "display_name": "Python 3",
   "language": "python",
   "name": "python3"
  },
  "language_info": {
   "codemirror_mode": {
    "name": "ipython",
    "version": 3
   },
   "file_extension": ".py",
   "mimetype": "text/x-python",
   "name": "python",
   "nbconvert_exporter": "python",
   "pygments_lexer": "ipython3",
   "version": "3.7.2"
  }
 },
 "nbformat": 4,
 "nbformat_minor": 2
}
