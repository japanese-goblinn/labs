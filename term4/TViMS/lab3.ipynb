{
 "cells": [
  {
   "cell_type": "markdown",
   "metadata": {},
   "source": [
    "# ЛР3"
   ]
  },
  {
   "cell_type": "markdown",
   "metadata": {},
   "source": [
    "# Проверка статистических гипотез о виде закона распределения"
   ]
  },
  {
   "cell_type": "code",
   "execution_count": 1,
   "metadata": {},
   "outputs": [],
   "source": [
    "from random import uniform\n",
    "from collections import Counter\n",
    "import pandas as pd\n",
    "import matplotlib.pyplot as plt\n",
    "import numpy as np"
   ]
  },
  {
   "cell_type": "code",
   "execution_count": 2,
   "metadata": {},
   "outputs": [],
   "source": [
    "def Y(x):\n",
    "    return 2 / (2 + x)\n",
    "\n",
    "A = -1\n",
    "B = 5"
   ]
  },
  {
   "cell_type": "markdown",
   "metadata": {},
   "source": [
    "Теоритическая плотность распределения "
   ]
  },
  {
   "cell_type": "code",
   "execution_count": 3,
   "metadata": {},
   "outputs": [],
   "source": [
    "def f(x):\n",
    "    if A <= x <= B:\n",
    "        return 1 / (B - A)\n",
    "    else:\n",
    "        return 0\n",
    "\n",
    "def g(y):\n",
    "    return f(2 / y - 2) * (2 / y**2) "
   ]
  },
  {
   "cell_type": "markdown",
   "metadata": {},
   "source": [
    "Теоритическая функция распределения"
   ]
  },
  {
   "cell_type": "code",
   "execution_count": 4,
   "metadata": {},
   "outputs": [],
   "source": [
    "def G(y):\n",
    "    if y < 2 / 7:\n",
    "        return 0\n",
    "    elif y > 2:\n",
    "        return 1\n",
    "    else:\n",
    "        return 1 / 3 * (-(1 / y) + 3.5)"
   ]
  },
  {
   "cell_type": "markdown",
   "metadata": {},
   "source": [
    "## 1"
   ]
  },
  {
   "cell_type": "markdown",
   "metadata": {},
   "source": [
    "## Критерий Пирсона"
   ]
  },
  {
   "cell_type": "code",
   "execution_count": 5,
   "metadata": {},
   "outputs": [
    {
     "name": "stdout",
     "output_type": "stream",
     "text": [
      "[0.2893, 0.2899, 0.2902, 0.2905, 0.2913, 0.2918, 0.2932, 0.3016, 0.3017, 0.303, 0.303, 0.3036, 0.3047, 0.3058, 0.3065, 0.3071, 0.3103, 0.3108, 0.3108, 0.3117, 0.3117, 0.3128, 0.3145, 0.3147, 0.3164, 0.3172, 0.3248, 0.3255, 0.3268, 0.3281, 0.3306, 0.3319, 0.3336, 0.3344, 0.3372, 0.3375, 0.344, 0.3476, 0.3513, 0.3536, 0.3574, 0.358, 0.3589, 0.3605, 0.361, 0.3617, 0.3629, 0.3638, 0.3641, 0.3645, 0.3682, 0.3689, 0.371, 0.3726, 0.3777, 0.3815, 0.3938, 0.3994, 0.4023, 0.4048, 0.4054, 0.4058, 0.4086, 0.4174, 0.4179, 0.4191, 0.4204, 0.4235, 0.4311, 0.4325, 0.4348, 0.436, 0.4363, 0.4371, 0.4381, 0.4382, 0.4385, 0.439, 0.4446, 0.4466, 0.4479, 0.4483, 0.4488, 0.451, 0.4535, 0.4538, 0.4558, 0.4587, 0.463, 0.4645, 0.4685, 0.4694, 0.475, 0.4848, 0.4897, 0.4926, 0.4934, 0.5023, 0.5029, 0.5158, 0.5167, 0.5226, 0.5234, 0.5301, 0.5303, 0.5324, 0.5376, 0.5422, 0.5444, 0.5542, 0.5565, 0.5672, 0.5704, 0.5707, 0.5759, 0.583, 0.5938, 0.5997, 0.6031, 0.6071, 0.6074, 0.6174, 0.6184, 0.6245, 0.6322, 0.6325, 0.6343, 0.6399, 0.6422, 0.6637, 0.6644, 0.6741, 0.6883, 0.6884, 0.6978, 0.703, 0.7039, 0.7054, 0.7305, 0.7305, 0.7319, 0.7386, 0.7488, 0.7814, 0.7951, 0.8282, 0.8318, 0.8679, 0.8772, 0.8911, 0.9068, 0.9273, 0.947, 0.948, 0.9494, 0.951, 0.9931, 0.9967, 0.9971, 1.007, 1.0146, 1.0363, 1.0397, 1.0452, 1.0536, 1.0593, 1.1106, 1.1209, 1.1366, 1.1423, 1.1674, 1.1773, 1.1918, 1.1923, 1.205, 1.2308, 1.2462, 1.247, 1.2682, 1.2764, 1.3033, 1.3279, 1.3297, 1.3689, 1.3695, 1.3767, 1.3859, 1.439, 1.5452, 1.5598, 1.5862, 1.5934, 1.6031, 1.6205, 1.6418, 1.6649, 1.7875, 1.9161, 1.967, 1.9885]\n"
     ]
    }
   ],
   "source": [
    "n = 200\n",
    "X = sorted(round(uniform(0, 1) * (B - A) + A, 4) for _ in range(n))\n",
    "x_list = sorted([round(Y(X[i]), 4) for i in range(n)])\n",
    "print(x_list)"
   ]
  },
  {
   "cell_type": "code",
   "execution_count": 6,
   "metadata": {},
   "outputs": [
    {
     "data": {
      "text/plain": [
       "8"
      ]
     },
     "execution_count": 6,
     "metadata": {},
     "output_type": "execute_result"
    }
   ],
   "source": [
    "m = int(np.log2(n)) + 1\n",
    "m"
   ]
  },
  {
   "cell_type": "code",
   "execution_count": 7,
   "metadata": {},
   "outputs": [
    {
     "data": {
      "text/plain": [
       "25"
      ]
     },
     "execution_count": 7,
     "metadata": {},
     "output_type": "execute_result"
    }
   ],
   "source": [
    "v = n // m\n",
    "v"
   ]
  },
  {
   "cell_type": "code",
   "execution_count": 8,
   "metadata": {},
   "outputs": [
    {
     "data": {
      "text/html": [
       "<div>\n",
       "<style scoped>\n",
       "    .dataframe tbody tr th:only-of-type {\n",
       "        vertical-align: middle;\n",
       "    }\n",
       "\n",
       "    .dataframe tbody tr th {\n",
       "        vertical-align: top;\n",
       "    }\n",
       "\n",
       "    .dataframe thead th {\n",
       "        text-align: right;\n",
       "    }\n",
       "</style>\n",
       "<table border=\"1\" class=\"dataframe\">\n",
       "  <thead>\n",
       "    <tr style=\"text-align: right;\">\n",
       "      <th></th>\n",
       "      <th>Ai</th>\n",
       "      <th>Bi</th>\n",
       "      <th>h</th>\n",
       "      <th>f*</th>\n",
       "      <th>w</th>\n",
       "    </tr>\n",
       "  </thead>\n",
       "  <tbody>\n",
       "    <tr>\n",
       "      <th>0</th>\n",
       "      <td>0.2893</td>\n",
       "      <td>0.3164</td>\n",
       "      <td>0.0271</td>\n",
       "      <td>4.612546</td>\n",
       "      <td>0.125</td>\n",
       "    </tr>\n",
       "    <tr>\n",
       "      <th>1</th>\n",
       "      <td>0.3164</td>\n",
       "      <td>0.3641</td>\n",
       "      <td>0.0477</td>\n",
       "      <td>2.620545</td>\n",
       "      <td>0.250</td>\n",
       "    </tr>\n",
       "    <tr>\n",
       "      <th>2</th>\n",
       "      <td>0.3641</td>\n",
       "      <td>0.4363</td>\n",
       "      <td>0.0722</td>\n",
       "      <td>1.731302</td>\n",
       "      <td>0.375</td>\n",
       "    </tr>\n",
       "    <tr>\n",
       "      <th>3</th>\n",
       "      <td>0.4363</td>\n",
       "      <td>0.4934</td>\n",
       "      <td>0.0571</td>\n",
       "      <td>2.189142</td>\n",
       "      <td>0.500</td>\n",
       "    </tr>\n",
       "    <tr>\n",
       "      <th>4</th>\n",
       "      <td>0.4934</td>\n",
       "      <td>0.6074</td>\n",
       "      <td>0.1140</td>\n",
       "      <td>1.096491</td>\n",
       "      <td>0.625</td>\n",
       "    </tr>\n",
       "    <tr>\n",
       "      <th>5</th>\n",
       "      <td>0.6074</td>\n",
       "      <td>0.7951</td>\n",
       "      <td>0.1877</td>\n",
       "      <td>0.665956</td>\n",
       "      <td>0.750</td>\n",
       "    </tr>\n",
       "    <tr>\n",
       "      <th>6</th>\n",
       "      <td>0.7951</td>\n",
       "      <td>1.1366</td>\n",
       "      <td>0.3415</td>\n",
       "      <td>0.366032</td>\n",
       "      <td>0.875</td>\n",
       "    </tr>\n",
       "    <tr>\n",
       "      <th>7</th>\n",
       "      <td>1.1366</td>\n",
       "      <td>1.6031</td>\n",
       "      <td>0.4665</td>\n",
       "      <td>0.267953</td>\n",
       "      <td>1.000</td>\n",
       "    </tr>\n",
       "  </tbody>\n",
       "</table>\n",
       "</div>"
      ],
      "text/plain": [
       "       Ai      Bi       h        f*      w\n",
       "0  0.2893  0.3164  0.0271  4.612546  0.125\n",
       "1  0.3164  0.3641  0.0477  2.620545  0.250\n",
       "2  0.3641  0.4363  0.0722  1.731302  0.375\n",
       "3  0.4363  0.4934  0.0571  2.189142  0.500\n",
       "4  0.4934  0.6074  0.1140  1.096491  0.625\n",
       "5  0.6074  0.7951  0.1877  0.665956  0.750\n",
       "6  0.7951  1.1366  0.3415  0.366032  0.875\n",
       "7  1.1366  1.6031  0.4665  0.267953  1.000"
      ]
     },
     "execution_count": 8,
     "metadata": {},
     "output_type": "execute_result"
    }
   ],
   "source": [
    "a = []\n",
    "b = []\n",
    "i = 0\n",
    "for _ in range(m):\n",
    "        a.append(x_list[i])\n",
    "        b.append(x_list[i + v - 1])\n",
    "        i += v - 1\n",
    "intervals = [(i, j) for (i, j) in zip(a, b)]\n",
    "\n",
    "h = [j - i for (i, j) in zip(a, b)]\n",
    "\n",
    "f_star = [v / (n * i) for i in h]\n",
    "\n",
    "wi = [0]\n",
    "for i in range(m):\n",
    "    wi.append(round(wi[i] + v / n, 4))\n",
    "    \n",
    "data = {\n",
    "    'Ai': a,\n",
    "    'Bi': b,\n",
    "    'h': h,\n",
    "    'f*': f_star,\n",
    "    'w': wi[1:]\n",
    "}\n",
    "pd.DataFrame(data)"
   ]
  },
  {
   "cell_type": "code",
   "execution_count": 9,
   "metadata": {},
   "outputs": [
    {
     "data": {
      "image/png": "[encoded data removed]",
      "text/plain": [
       "<Figure size 432x288 with 1 Axes>"
      ]
     },
     "metadata": {
      "needs_background": "light"
     },
     "output_type": "display_data"
    }
   ],
   "source": [
    "x_plot = a[:]\n",
    "x_plot.append(b[-1])\n",
    "y_plot = f_star[:]\n",
    "y_plot.insert(0, 0)\n",
    "plt.step(x_plot, y_plot)\n",
    "plt.vlines(x_plot, min(y_plot), y_plot, colors='C0')\n",
    "plt.grid(True)\n",
    "plt.show()"
   ]
  },
  {
   "cell_type": "code",
   "execution_count": 10,
   "metadata": {},
   "outputs": [
    {
     "data": {
      "text/plain": [
       "0.125"
      ]
     },
     "execution_count": 10,
     "metadata": {},
     "output_type": "execute_result"
    }
   ],
   "source": [
    "p_star = v / n\n",
    "p_star"
   ]
  },
  {
   "cell_type": "code",
   "execution_count": 11,
   "metadata": {},
   "outputs": [
    {
     "data": {
      "text/plain": [
       "[0.09868772276659483,\n",
       " 0.13801934770840996,\n",
       " 0.15149909932526473,\n",
       " 0.0884159251109991,\n",
       " 0.12679720015765572,\n",
       " 0.12955270248800943,\n",
       " 0.12596214515532367,\n",
       " 0.08534186463665061]"
      ]
     },
     "execution_count": 11,
     "metadata": {},
     "output_type": "execute_result"
    }
   ],
   "source": [
    "p = [G(b) - G(a) for a, b in intervals]\n",
    "p"
   ]
  },
  {
   "cell_type": "code",
   "execution_count": 12,
   "metadata": {},
   "outputs": [
    {
     "data": {
      "text/plain": [
       "False"
      ]
     },
     "execution_count": 12,
     "metadata": {},
     "output_type": "execute_result"
    }
   ],
   "source": [
    "abs(1 - sum(p)) <= 0.01"
   ]
  },
  {
   "cell_type": "code",
   "execution_count": 13,
   "metadata": {},
   "outputs": [
    {
     "data": {
      "text/plain": [
       "9.32757687415091"
      ]
     },
     "execution_count": 13,
     "metadata": {},
     "output_type": "execute_result"
    }
   ],
   "source": [
    "chi_square = sum((v - n * pi)**2 / (n * pi) for pi in p)\n",
    "chi_square"
   ]
  },
  {
   "cell_type": "code",
   "execution_count": 14,
   "metadata": {},
   "outputs": [
    {
     "data": {
      "text/plain": [
       "7"
      ]
     },
     "execution_count": 14,
     "metadata": {},
     "output_type": "execute_result"
    }
   ],
   "source": [
    "alpha = 0.01\n",
    "k = m - 1\n",
    "k"
   ]
  },
  {
   "cell_type": "code",
   "execution_count": 15,
   "metadata": {},
   "outputs": [
    {
     "data": {
      "text/plain": [
       "18.475306906582365"
      ]
     },
     "execution_count": 15,
     "metadata": {},
     "output_type": "execute_result"
    }
   ],
   "source": [
    "from scipy.stats import chi2\n",
    "t_chi = chi2.isf(alpha, k)\n",
    "t_chi"
   ]
  },
  {
   "cell_type": "code",
   "execution_count": 16,
   "metadata": {},
   "outputs": [
    {
     "name": "stdout",
     "output_type": "stream",
     "text": [
      "Нет основнаний отклонять гипотезу\n"
     ]
    }
   ],
   "source": [
    "# за гипотезу принимаем f(x) = f0(x), где f0 плотность вероятности теоретического закона распределения\n",
    "if t_chi > chi_square:\n",
    "    print(\"Нет основнаний отклонять гипотезу\")\n",
    "else:\n",
    "    print(\"Гипотизу следует оклонить\")"
   ]
  },
  {
   "cell_type": "markdown",
   "metadata": {},
   "source": [
    "## 2"
   ]
  },
  {
   "cell_type": "markdown",
   "metadata": {},
   "source": [
    "## Критерий Колмогорова"
   ]
  },
  {
   "cell_type": "code",
   "execution_count": 17,
   "metadata": {},
   "outputs": [
    {
     "name": "stdout",
     "output_type": "stream",
     "text": [
      "[0.29, 0.329, 0.332, 0.344, 0.347, 0.353, 0.38, 0.388, 0.407, 0.446, 0.451, 0.46, 0.46, 0.462, 0.47, 0.499, 0.534, 0.547, 0.551, 0.558, 0.697, 0.725, 0.796, 0.813, 0.979, 1.018, 1.097, 1.435, 1.444, 1.514]\n"
     ]
    }
   ],
   "source": [
    "n = 30\n",
    "X = sorted(round(uniform(0, 1) * (B - A) + A, 4) for _ in range(n))\n",
    "x_list = sorted([round(Y(X[i]), 3) for i in range(n)])\n",
    "print(x_list)"
   ]
  },
  {
   "cell_type": "code",
   "execution_count": 18,
   "metadata": {},
   "outputs": [
    {
     "name": "stdout",
     "output_type": "stream",
     "text": [
      "[0.0, 0.033, 0.067, 0.1, 0.133, 0.167, 0.2, 0.233, 0.267, 0.3, 0.333, 0.367, 0.433, 0.467, 0.5, 0.533, 0.567, 0.6, 0.633, 0.667, 0.7, 0.733, 0.767, 0.8, 0.833, 0.867, 0.9, 0.933, 0.967, 1.0]\n"
     ]
    }
   ],
   "source": [
    "counts = dict(Counter(x_list))\n",
    "freq = [round(i / n, 3) for i in counts.values()]\n",
    "ys = [0]\n",
    "for k, i in enumerate(counts.values()):\n",
    "    ys.append(ys[k] + i)\n",
    "star_f = [round(i / n, 3) for i in ys]\n",
    "print(star_f)"
   ]
  },
  {
   "cell_type": "code",
   "execution_count": 19,
   "metadata": {},
   "outputs": [
    {
     "data": {
      "image/png": "[encoded data removed]",
      "text/plain": [
       "<Figure size 432x288 with 1 Axes>"
      ]
     },
     "metadata": {
      "needs_background": "light"
     },
     "output_type": "display_data"
    }
   ],
   "source": [
    "x_listt = sorted(list(set(x_list[:])))\n",
    "x_listt.insert(0, -float('inf'))\n",
    "x_listt.append(float('inf'))\n",
    "x_plot = x_listt[1:-1]\n",
    "y_plot = star_f[:]\n",
    "x_plot.insert(0, A)\n",
    "x_plot.append(B)\n",
    "y_plot.insert(0, 0)\n",
    "plt.step(x_plot, y_plot)\n",
    "plt.plot(x_plot[1:-1], y_plot[1:-1], '.')\n",
    "plt.grid(True)\n",
    "plt.show()"
   ]
  },
  {
   "cell_type": "code",
   "execution_count": 20,
   "metadata": {},
   "outputs": [
    {
     "data": {
      "image/png": "[encoded data removed]",
      "text/plain": [
       "<Figure size 432x288 with 1 Axes>"
      ]
     },
     "metadata": {
      "needs_background": "light"
     },
     "output_type": "display_data"
    }
   ],
   "source": [
    "x_lin = np.linspace(min(x_plot), max(x_plot), 50)\n",
    "plt.step(x_plot, y_plot)\n",
    "plt.plot(x_plot[1:-1], y_plot[1:-1], '.')\n",
    "plt.plot(x_lin, list(map(G, x_lin)))\n",
    "plt.grid(True)\n",
    "plt.show()"
   ]
  },
  {
   "cell_type": "code",
   "execution_count": 21,
   "metadata": {},
   "outputs": [
    {
     "data": {
      "text/plain": [
       "0.12"
      ]
     },
     "execution_count": 21,
     "metadata": {},
     "output_type": "execute_result"
    }
   ],
   "source": [
    "max_delta = round(max(abs(G(i) - j) for i, j in zip(x_list, star_f)), 2)\n",
    "max_delta"
   ]
  },
  {
   "cell_type": "code",
   "execution_count": 22,
   "metadata": {},
   "outputs": [
    {
     "data": {
      "text/plain": [
       "0.66"
      ]
     },
     "execution_count": 22,
     "metadata": {},
     "output_type": "execute_result"
    }
   ],
   "source": [
    "e_lambda = round(np.sqrt(n) * max_delta, 2)\n",
    "e_lambda"
   ]
  },
  {
   "cell_type": "markdown",
   "metadata": {},
   "source": [
    "![table](kolmogorov.png)"
   ]
  },
  {
   "cell_type": "code",
   "execution_count": 23,
   "metadata": {
    "scrolled": true
   },
   "outputs": [
    {
     "name": "stdout",
     "output_type": "stream",
     "text": [
      "Гипотеза принимается, но она может быть не верна\n"
     ]
    }
   ],
   "source": [
    "# за гипотезу принимаем F(x) = F0(x), где F0 - теоретическая функция распределения\n",
    "t_lambda = 1.60\n",
    "if e_lambda > t_lambda:\n",
    "    print(\"Гипотеза отклоняется\")\n",
    "else:\n",
    "    print(\"Гипотеза принимается, но она может быть не верна\")"
   ]
  },
  {
   "cell_type": "markdown",
   "metadata": {},
   "source": [
    "## 3"
   ]
  },
  {
   "cell_type": "markdown",
   "metadata": {},
   "source": [
    "## Критерий Мизеса"
   ]
  },
  {
   "cell_type": "code",
   "execution_count": 24,
   "metadata": {
    "scrolled": true
   },
   "outputs": [
    {
     "name": "stdout",
     "output_type": "stream",
     "text": [
      "[0.287, 0.287, 0.289, 0.306, 0.321, 0.325, 0.325, 0.329, 0.341, 0.349, 0.352, 0.362, 0.385, 0.39, 0.391, 0.395, 0.396, 0.396, 0.422, 0.443, 0.444, 0.445, 0.455, 0.459, 0.462, 0.464, 0.466, 0.482, 0.483, 0.495, 0.501, 0.528, 0.548, 0.574, 0.584, 0.708, 0.722, 0.755, 0.772, 0.778, 0.82, 1.065, 1.082, 1.198, 1.214, 1.256, 1.299, 1.586, 1.668, 1.741]\n"
     ]
    }
   ],
   "source": [
    "n = 50\n",
    "X = sorted(round(uniform(0, 1) * (B - A) + A, 4) for _ in range(n))\n",
    "x_list = sorted([round(Y(X[i]), 3) for i in range(n)])\n",
    "print(x_list)"
   ]
  },
  {
   "cell_type": "code",
   "execution_count": 25,
   "metadata": {},
   "outputs": [],
   "source": [
    "# alpha: n*omega^2\n",
    "mizes_table = {\n",
    "    0.2: 0.241,\n",
    "    0.1: 0.347,\n",
    "    0.05: 0.461,\n",
    "    0.03: 0.548,\n",
    "    0.02: 0.62,\n",
    "    0.01: 0.744,\n",
    "    0.001: 1.168\n",
    "}"
   ]
  },
  {
   "cell_type": "code",
   "execution_count": 26,
   "metadata": {},
   "outputs": [
    {
     "name": "stdout",
     "output_type": "stream",
     "text": [
      "[0.01, 0.03, 0.05, 0.07, 0.09, 0.11, 0.13, 0.15, 0.17, 0.19, 0.21, 0.23, 0.25, 0.27, 0.29, 0.31, 0.33, 0.35, 0.37, 0.39, 0.41, 0.43, 0.45, 0.47, 0.49, 0.51, 0.53, 0.55, 0.57, 0.59, 0.61, 0.63, 0.65, 0.67, 0.69, 0.71, 0.73, 0.75, 0.77, 0.79, 0.81, 0.83, 0.85, 0.87, 0.89, 0.91, 0.93, 0.95, 0.97, 0.99]\n"
     ]
    }
   ],
   "source": [
    "fn = [(i - 0.5) / n for i in range(1, len(x_list) + 1)]\n",
    "print(fn)"
   ]
  },
  {
   "cell_type": "code",
   "execution_count": 27,
   "metadata": {},
   "outputs": [
    {
     "data": {
      "text/plain": [
       "0.10549204314298821"
      ]
     },
     "execution_count": 27,
     "metadata": {},
     "output_type": "execute_result"
    }
   ],
   "source": [
    "n_omega_square = 1 / (12 * n) + sum((G(i) - fn[k])**2 for k, i in enumerate(x_list))\n",
    "n_omega_square"
   ]
  },
  {
   "cell_type": "code",
   "execution_count": 28,
   "metadata": {},
   "outputs": [
    {
     "name": "stdout",
     "output_type": "stream",
     "text": [
      "Нет оснований отклонять гипотезу\n"
     ]
    }
   ],
   "source": [
    "if n_omega_square < mizes_table[alpha]:\n",
    "    print(\"Нет оснований отклонять гипотезу\")\n",
    "else:\n",
    "    print(\"Гипотезу следует оклонить\")"
   ]
  }
 ],
 "metadata": {
  "kernelspec": {
   "display_name": "Python 3",
   "language": "python",
   "name": "python3"
  },
  "language_info": {
   "codemirror_mode": {
    "name": "ipython",
    "version": 3
   },
   "file_extension": ".py",
   "mimetype": "text/x-python",
   "name": "python",
   "nbconvert_exporter": "python",
   "pygments_lexer": "ipython3",
   "version": "3.7.2"
  }
 },
 "nbformat": 4,
 "nbformat_minor": 2
}
