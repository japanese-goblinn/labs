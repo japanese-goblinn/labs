{
 "cells": [
  {
   "cell_type": "markdown",
   "metadata": {},
   "source": [
    "# ЛР №5"
   ]
  },
  {
   "cell_type": "markdown",
   "metadata": {},
   "source": [
    "# Решение систем нелинейных уравнений"
   ]
  },
  {
   "cell_type": "markdown",
   "metadata": {},
   "source": [
    " "
   ]
  },
  {
   "cell_type": "code",
   "execution_count": 8,
   "metadata": {},
   "outputs": [],
   "source": [
    "from scipy.optimize import fsolve\n",
    "import matplotlib\n",
    "import matplotlib.pyplot as plt\n",
    "import matplotlib.patches as mpatches\n",
    "import sympy as sp\n",
    "import numpy as np\n",
    "import math"
   ]
  },
  {
   "cell_type": "markdown",
   "metadata": {},
   "source": [
    "### 1 \n",
    "Отделить корни заданного уравнения графически\n"
   ]
  },
  {
   "cell_type": "markdown",
   "metadata": {},
   "source": [
    "Заданное уравнение"
   ]
  },
  {
   "cell_type": "code",
   "execution_count": 9,
   "metadata": {},
   "outputs": [],
   "source": [
    "f = lambda x: np.cos(x) - np.sqrt(x + 2) + 1\n",
    "df = lambda x: -1 * math.sin(x) - 0.5 * math.pow(x + 2, -0.5)"
   ]
  },
  {
   "cell_type": "markdown",
   "metadata": {},
   "source": [
    "Отделяем корни"
   ]
  },
  {
   "cell_type": "code",
   "execution_count": 10,
   "metadata": {},
   "outputs": [],
   "source": [
    "%matplotlib inline"
   ]
  },
  {
   "cell_type": "code",
   "execution_count": 11,
   "metadata": {},
   "outputs": [
    {
     "data": {
      "image/png": "[encoded data removed]",
      "text/plain": [
       "<Figure size 432x288 with 1 Axes>"
      ]
     },
     "metadata": {
      "needs_background": "light"
     },
     "output_type": "display_data"
    }
   ],
   "source": [
    "roots = fsolve(f, 2)\n",
    "x = np.array(range(-1, 30))\n",
    "y = f(x)\n",
    "plt.plot(x, y)\n",
    "plt.axvline(x=roots, color='r', linestyle='-')\n",
    "red_patch = mpatches.Patch(color='red', label=f'x={roots[0]:.3f}')\n",
    "plt.legend(handles=[red_patch])\n",
    "plt.show()"
   ]
  },
  {
   "cell_type": "markdown",
   "metadata": {},
   "source": [
    "### 2\n",
    "Решить уравнения методом хорд"
   ]
  },
  {
   "cell_type": "code",
   "execution_count": 80,
   "metadata": {},
   "outputs": [
    {
     "name": "stdout",
     "output_type": "stream",
     "text": [
      "\n",
      "Корень уравнения: 0.823\n"
     ]
    }
   ],
   "source": [
    "x0 = 0\n",
    "x1 = 1\n",
    "if f(x0) * f(x1) < 0:\n",
    "    while abs(x1 - x0) > 1e-5:\n",
    "        x = x0 - f(x0) * (x1 - x0) / (f(x1) - f(x0))\n",
    "        x0, x1 = x1, x\n",
    "    print(f\"\\nКорень уравнения: {x:.3}\")"
   ]
  },
  {
   "cell_type": "markdown",
   "metadata": {},
   "source": [
    "### 3\n",
    "Решить уравнение методом касательных"
   ]
  },
  {
   "cell_type": "code",
   "execution_count": 81,
   "metadata": {},
   "outputs": [
    {
     "name": "stdout",
     "output_type": "stream",
     "text": [
      "\n",
      "Корень уравнения: 0.823\n"
     ]
    }
   ],
   "source": [
    "x0 = 100 \n",
    "x1 = x0 - f(x0) / df(x0)\n",
    "while abs(x1 - x0) > 1e-5: \n",
    "    x = x1 - f(x1) / df(x1)\n",
    "    x0, x1 = x1, x\n",
    "print(f\"\\nКорень уравнения: {x:.3}\")"
   ]
  },
  {
   "cell_type": "markdown",
   "metadata": {},
   "source": [
    "### 4\n",
    "Отделить корни заданной системы нелинейных уравнений графически"
   ]
  },
  {
   "cell_type": "code",
   "execution_count": 14,
   "metadata": {},
   "outputs": [],
   "source": [
    "sys_f1 = lambda x, y: sp.tan(x * y) - x**2\n",
    "sys_f2 = lambda x, y: 0.7 * x**2 + 2 * y**2 - 1"
   ]
  },
  {
   "cell_type": "markdown",
   "metadata": {},
   "source": [
    "Отделяем корни"
   ]
  },
  {
   "cell_type": "code",
   "execution_count": 15,
   "metadata": {
    "scrolled": true
   },
   "outputs": [
    {
     "data": {
      "image/png": "[encoded data removed]",
      "text/plain": [
       "<Figure size 432x288 with 1 Axes>"
      ]
     },
     "metadata": {
      "needs_background": "light"
     },
     "output_type": "display_data"
    }
   ],
   "source": [
    "x, y = sp.symbols('x y')\n",
    "p0 = sp.plot_implicit(sys_f2(x, y), (x, -1.5, 1.5), (y, -1.5, 1.5), show=False, line_color='b')\n",
    "p1 = sp.plot_implicit(sys_f1(x, y), (x, -1.5, 1.5), (y, -1.5, 1.5), show=False, line_color='r')\n",
    "p0.extend(p1)\n",
    "p0.show()"
   ]
  },
  {
   "cell_type": "markdown",
   "metadata": {},
   "source": [
    "### 5\n",
    "Решить систему методом простых итераций"
   ]
  },
  {
   "cell_type": "code",
   "execution_count": 61,
   "metadata": {},
   "outputs": [],
   "source": [
    "F = lambda xy: [np.tan(xy[0] * xy[1]) - xy[0]**2, 0.7 * xy[0]**2 + 2 * xy[1]**2 - 1]\n",
    "fi = lambda xy: [math.sqrt(math.tan(xy[0] * xy[1])), math.sqrt((1 - 0.7 * xy[0]**2) / 2)]\n",
    "minus_fi = lambda xy: [-math.sqrt(math.tan(xy[0] * xy[1])), -math.sqrt((1 - 0.7 * xy[0]**2) / 2)]\n",
    "def J(xy):\n",
    "    res = [[0.0, 0.0], [0.0, 0.0]]\n",
    "    res[0][0] = -2 * xy[0] + xy[1] * (np.tan(xy[0]*xy[1])**2 + 1)\n",
    "    res[0][1] = xy[0] * (np.tan(xy[0]*xy[1])**2 + 1)\n",
    "    res[1][0] = 1.4 * xy[0]\n",
    "    res[1][1] = 4 * xy[1]\n",
    "    return np.array(res)"
   ]
  },
  {
   "cell_type": "code",
   "execution_count": 53,
   "metadata": {},
   "outputs": [],
   "source": [
    "def iterr(x0, itrr_func):\n",
    "    x1 = itrr_func(x0)\n",
    "    while abs(x1[0] - x0[0]) > 1e-5 or abs(x1[1] - x0[1]) > 1e-5:\n",
    "        x = itrr_func(x1)\n",
    "        x0, x1 = x1, x\n",
    "    print(\"Корень системы:\", \", \".join(map(str, x)))"
   ]
  },
  {
   "cell_type": "code",
   "execution_count": 54,
   "metadata": {},
   "outputs": [
    {
     "name": "stdout",
     "output_type": "stream",
     "text": [
      "Корень системы: 0.6310229619451228, 0.6005262403306086\n",
      "Корень системы: 0.0, 0.7071067811865476\n",
      "Корень системы: -0.6310288456446511, -0.6005230551716196\n",
      "Корень системы: 0.0, -0.7071067811865476\n"
     ]
    }
   ],
   "source": [
    "iterr([0.83, 1], fi)\n",
    "iterr([0, 0.8], fi)\n",
    "iterr([-0.83, -0.7], minus_fi)\n",
    "iterr([0, -0.8], minus_fi)"
   ]
  },
  {
   "cell_type": "markdown",
   "metadata": {},
   "source": [
    "### 6\n",
    "Решить систему методом Ньютона"
   ]
  },
  {
   "cell_type": "code",
   "execution_count": 55,
   "metadata": {},
   "outputs": [],
   "source": [
    "def newton(x0):\n",
    "    i = 0\n",
    "    x1 = [k - m for (k, m) in zip(x0, np.linalg.inv(J(x0)) @ F(x0))]\n",
    "    while abs(x1[0] - x0[0]) > 1e-5 or abs(x1[1] - x0[1]) > 1e-5:\n",
    "        i += 1\n",
    "        x = [k - m for k, m in zip(x1, np.linalg.inv(J(x1)) @ F(x1))]\n",
    "        x0, x1 = x1, x\n",
    "    print(\"Корень системы:\", \", \".join(map(str, x)))\n",
    "    print(f\"Количество итераций: {i}\\n\")   "
   ]
  },
  {
   "cell_type": "code",
   "execution_count": 77,
   "metadata": {},
   "outputs": [
    {
     "name": "stdout",
     "output_type": "stream",
     "text": [
      "Корень системы: 0.6310253503923949, 0.6005268124953965\n",
      "Количество итераций: 7\n",
      "\n",
      "Корень системы: 0.0, 0.7071067811873449\n",
      "Количество итераций: 3\n",
      "\n",
      "Корень системы: -0.6310253503228611, -0.6005268125070298\n",
      "Количество итераций: 2\n",
      "\n",
      "Корень системы: 0.0, -0.7071067811865502\n",
      "Количество итераций: 3\n",
      "\n"
     ]
    }
   ],
   "source": [
    "newton([0.8, 0.9])\n",
    "newton([0, 0.5])\n",
    "newton([-0.6, -0.6])\n",
    "newton([-0, -0.9])"
   ]
  },
  {
   "cell_type": "markdown",
   "metadata": {},
   "source": [
    "### 7\n",
    "Решить систему модифицированным методом Ньютона. Сравнить скорости сходимости методов"
   ]
  },
  {
   "cell_type": "code",
   "execution_count": 75,
   "metadata": {},
   "outputs": [],
   "source": [
    "def modified_newton(x0):\n",
    "    i = 0\n",
    "    J0 = np.linalg.inv(J(x0))\n",
    "    x1 = [k - m for (k, m) in zip(x0, J0 @ F(x0))]\n",
    "    while abs(x1[0] - x0[0]) > 1e-5 or abs(x1[1] - x0[1]) > 1e-5:\n",
    "        i += 1\n",
    "        x = [k - m for k, m in zip(x1, J0 @ F(x1))]\n",
    "        x0, x1 = x1, x\n",
    "    print(\"Корень системы:\", \", \".join(map(str, x)))\n",
    "    print(f\"Количество итераций: {i}\\n\")"
   ]
  },
  {
   "cell_type": "code",
   "execution_count": 78,
   "metadata": {},
   "outputs": [
    {
     "name": "stdout",
     "output_type": "stream",
     "text": [
      "Корень системы: 0.6310296933645543, 0.6005255939269765\n",
      "Количество итераций: 94\n",
      "\n",
      "Корень системы: 0.0, 0.7071039681017769\n",
      "Количество итераций: 11\n",
      "\n",
      "Корень системы: -0.6310254516477837, -0.6005267964046216\n",
      "Количество итераций: 4\n",
      "\n",
      "Корень системы: 0.0, -0.7071086513254751\n",
      "Количество итераций: 6\n",
      "\n"
     ]
    }
   ],
   "source": [
    "modified_newton([0.8, 0.9])\n",
    "modified_newton([0, 0.5])\n",
    "modified_newton([-0.6, -0.6])\n",
    "modified_newton([0, -0.9])"
   ]
  }
 ],
 "metadata": {
  "kernelspec": {
   "display_name": "math_venv",
   "language": "python",
   "name": "math_venv"
  },
  "language_info": {
   "codemirror_mode": {
    "name": "ipython",
    "version": 3
   },
   "file_extension": ".py",
   "mimetype": "text/x-python",
   "name": "python",
   "nbconvert_exporter": "python",
   "pygments_lexer": "ipython3",
   "version": "3.7.2"
  }
 },
 "nbformat": 4,
 "nbformat_minor": 2
}
