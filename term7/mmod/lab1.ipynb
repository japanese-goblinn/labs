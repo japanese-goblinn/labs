{
 "cells": [
  {
   "cell_type": "markdown",
   "metadata": {},
   "source": [
    "# Лабораторная работа №1 \n",
    "# Построение и исследование характеристик датчиков базовых случайных величин"
   ]
  },
  {
   "cell_type": "code",
   "execution_count": 1,
   "metadata": {},
   "outputs": [],
   "source": [
    "import numpy as np\n",
    "import matplotlib.pyplot as plt"
   ]
  },
  {
   "cell_type": "markdown",
   "metadata": {},
   "source": [
    "## Метод середины квадрата"
   ]
  },
  {
   "cell_type": "code",
   "execution_count": 2,
   "metadata": {},
   "outputs": [],
   "source": [
    "def square_mid_sensor(n=5, z0=90909090, digit_amount=8, is_float=True):\n",
    "    assert n >= 0, \"`n` should not be negative\"\n",
    "    assert len(str(z0)) == digit_amount, f\"`z0` Should be {digit_amount}-digit number\"\n",
    "    \n",
    "    generated_nums = []\n",
    "    next_num = str(z0)\n",
    "    for _ in range(n):\n",
    "        next_num = str(int(next_num) ** 2)\n",
    "        if len(next_num) < 2 * digit_amount:\n",
    "            next_num = next_num.zfill(2*digit_amount)\n",
    "        slice_len = len(next_num) // 2\n",
    "        next_num = next_num[slice_len//2:-slice_len//2]\n",
    "        generated_nums.append(float(\"0.\" + next_num) if is_float else int(next_num))\n",
    "    return generated_nums"
   ]
  },
  {
   "cell_type": "code",
   "execution_count": 3,
   "metadata": {},
   "outputs": [
    {
     "data": {
      "text/plain": [
       "[0.46264462, 0.40044414, 0.5550926, 0.27794574, 0.53834384]"
      ]
     },
     "execution_count": 3,
     "metadata": {},
     "output_type": "execute_result"
    }
   ],
   "source": [
    "square_mid_sensor(n=5)"
   ]
  },
  {
   "cell_type": "markdown",
   "metadata": {},
   "source": [
    "## Мультипликативный конгруэнтный метод"
   ]
  },
  {
   "cell_type": "code",
   "execution_count": 4,
   "metadata": {},
   "outputs": [],
   "source": [
    "def multiplicative_congruent_sensor(n=20, \n",
    "                                    a0=19941994, \n",
    "                                    k=(2**32)-5, \n",
    "                                    m=2**64, \n",
    "                                    float_round=8):\n",
    "    assert a0 >= 0, \"`a0` should not be negative\"\n",
    "    assert m >= 0, \"`m` should not be negative\"\n",
    "    \n",
    "    generated_nums = []\n",
    "    next_a = a0\n",
    "    for _ in range(n):\n",
    "        next_a = (k * next_a) % m\n",
    "        generated_nums.append(round(next_a / m, float_round))\n",
    "    return generated_nums"
   ]
  },
  {
   "cell_type": "code",
   "execution_count": 5,
   "metadata": {},
   "outputs": [
    {
     "data": {
      "text/plain": [
       "[0.00464311, 0.95356893, 0.34823305, 0.67844635, 0.50971031]"
      ]
     },
     "execution_count": 5,
     "metadata": {},
     "output_type": "execute_result"
    }
   ],
   "source": [
    "multiplicative_congruent_sensor(n=5)"
   ]
  },
  {
   "cell_type": "markdown",
   "metadata": {},
   "source": [
    "## Тестирование равномерности"
   ]
  },
  {
   "cell_type": "markdown",
   "metadata": {},
   "source": [
    "### Построение гистограмм"
   ]
  },
  {
   "cell_type": "code",
   "execution_count": 6,
   "metadata": {},
   "outputs": [],
   "source": [
    "def get_frequencies(z, k, n):\n",
    "    step = 1 / k\n",
    "    arange = np.arange(0, 1 + step, step)\n",
    "    z_n = [0 for _ in range(k)]\n",
    "    for index, (i, j) in enumerate(zip(arange, arange[1:])):\n",
    "        for el in z:\n",
    "            if i <= el <= j:\n",
    "                z_n[index] += 1\n",
    "    return arange, [i/n for i in z_n]"
   ]
  },
  {
   "cell_type": "code",
   "execution_count": 7,
   "metadata": {},
   "outputs": [],
   "source": [
    "def draw_plot(x_orig, y_orig, title=\"\", is_plot_show=True):\n",
    "    x = x_orig[:]\n",
    "    y = y_orig[:]\n",
    "    y.insert(0, 0)\n",
    "    plt.step(x, y)\n",
    "    plt.vlines(x, min(y), y, colors='C0')\n",
    "    plt.grid(True)\n",
    "    plt.suptitle(title, fontweight='bold')\n",
    "    if is_plot_show:\n",
    "        plt.show()"
   ]
  },
  {
   "cell_type": "code",
   "execution_count": 23,
   "metadata": {},
   "outputs": [
    {
     "data": {
      "image/png": "[encoded data removed]",
      "text/plain": [
       "<Figure size 432x288 with 1 Axes>"
      ]
     },
     "metadata": {
      "needs_background": "light"
     },
     "output_type": "display_data"
    },
    {
     "data": {
      "image/png": "[encoded data removed]",
      "text/plain": [
       "<Figure size 432x288 with 1 Axes>"
      ]
     },
     "metadata": {
      "needs_background": "light"
     },
     "output_type": "display_data"
    }
   ],
   "source": [
    "k = 50\n",
    "n = 100\n",
    "\n",
    "z0 = square_mid_sensor(n=n)\n",
    "z1 = multiplicative_congruent_sensor(n=n)\n",
    "\n",
    "x0, p0 = get_frequencies(z0, k, n)\n",
    "x1, p1 = get_frequencies(z1, k, n)\n",
    "\n",
    "draw_plot(x0, p0, title=f\"Метод середины квадрата при n={n} и k={k}\")\n",
    "draw_plot(x1, p1, title=f\"Мультипликативный конгруэнтный метод при n={n} и k={k}\")"
   ]
  },
  {
   "cell_type": "code",
   "execution_count": 9,
   "metadata": {
    "scrolled": false
   },
   "outputs": [
    {
     "data": {
      "image/png": "[encoded data removed]",
      "text/plain": [
       "<Figure size 432x288 with 1 Axes>"
      ]
     },
     "metadata": {
      "needs_background": "light"
     },
     "output_type": "display_data"
    },
    {
     "data": {
      "image/png": "[encoded data removed]",
      "text/plain": [
       "<Figure size 432x288 with 1 Axes>"
      ]
     },
     "metadata": {
      "needs_background": "light"
     },
     "output_type": "display_data"
    }
   ],
   "source": [
    "k = 10\n",
    "n = 10000\n",
    "\n",
    "z0 = square_mid_sensor(n=n)\n",
    "z1 = multiplicative_congruent_sensor(n=n)\n",
    "\n",
    "x0, p0 = get_frequencies(z0, k, n)\n",
    "x1, p1 = get_frequencies(z1, k, n)\n",
    "\n",
    "draw_plot(x0, p0, title=f\"Метод середины квадрата при n={n} и k={k}\")\n",
    "draw_plot(x1, p1, title=f\"Мультипликативный конгруэнтный метод при n={n} и k={k}\")"
   ]
  },
  {
   "cell_type": "markdown",
   "metadata": {},
   "source": [
    "По гистограммам видно, что во втором случае столбцы ближе к значению: $$\\frac{1}{k}$$"
   ]
  },
  {
   "cell_type": "code",
   "execution_count": 10,
   "metadata": {},
   "outputs": [
    {
     "data": {
      "image/png": "[encoded data removed]",
      "text/plain": [
       "<Figure size 432x288 with 1 Axes>"
      ]
     },
     "metadata": {
      "needs_background": "light"
     },
     "output_type": "display_data"
    }
   ],
   "source": [
    "k = 10\n",
    "n1 = 100\n",
    "n2 = 10000\n",
    "z0 = square_mid_sensor(n=n1)\n",
    "z1 = square_mid_sensor(n=n2)\n",
    "\n",
    "x0, p0 = get_frequencies(z0, k, n1)\n",
    "x1, p1 = get_frequencies(z1, k, n2)\n",
    "\n",
    "draw_plot(x0, p0, is_plot_show=False)\n",
    "draw_plot(x1, p1, is_plot_show=False)\n",
    "plt.legend((f\"n={n1}\", f\"n={n2}\"))\n",
    "plt.show()"
   ]
  },
  {
   "cell_type": "code",
   "execution_count": 11,
   "metadata": {
    "scrolled": true
   },
   "outputs": [
    {
     "data": {
      "image/png": "[encoded data removed]",
      "text/plain": [
       "<Figure size 432x288 with 1 Axes>"
      ]
     },
     "metadata": {
      "needs_background": "light"
     },
     "output_type": "display_data"
    }
   ],
   "source": [
    "k = 10\n",
    "n1 = 100\n",
    "n2 = 10000\n",
    "z0 = multiplicative_congruent_sensor(n=n1)\n",
    "z1 = multiplicative_congruent_sensor(n=n2)\n",
    "\n",
    "x0, p0 = get_frequencies(z0, k, n1)\n",
    "x1, p1 = get_frequencies(z1, k, n2)\n",
    "\n",
    "draw_plot(x0, p0, is_plot_show=False)\n",
    "draw_plot(x1, p1, is_plot_show=False)\n",
    "plt.legend((f\"n={n1}\", f\"n={n2}\"))\n",
    "plt.show()"
   ]
  },
  {
   "cell_type": "markdown",
   "metadata": {},
   "source": [
    "### Вычисление мат. ожидания и дисперсии"
   ]
  },
  {
   "cell_type": "code",
   "execution_count": 12,
   "metadata": {},
   "outputs": [],
   "source": [
    "def get_mathematical_expectation(func, n):\n",
    "    z = func(n=n)\n",
    "    return sum(z) / n"
   ]
  },
  {
   "cell_type": "code",
   "execution_count": 13,
   "metadata": {},
   "outputs": [],
   "source": [
    "def get_variance(func, n):\n",
    "    m = get_mathematical_expectation(func, n)\n",
    "    z = func(n=n)\n",
    "    return sum(i**2 - m**2 for i in z) / n"
   ]
  },
  {
   "cell_type": "code",
   "execution_count": 14,
   "metadata": {},
   "outputs": [],
   "source": [
    "def print_some(what, func, n):\n",
    "    print(f\"При n={n}:\", what(func, n))"
   ]
  },
  {
   "cell_type": "markdown",
   "metadata": {},
   "source": [
    "Теоритическое мат. ожидание $$ M(z) = 0.5 $$"
   ]
  },
  {
   "cell_type": "code",
   "execution_count": 15,
   "metadata": {},
   "outputs": [
    {
     "name": "stdout",
     "output_type": "stream",
     "text": [
      "Метод середины квадрата\n",
      "При n=100: 0.5116753875\n",
      "При n=10000: 0.4986047677690005\n"
     ]
    }
   ],
   "source": [
    "print(\"Метод середины квадрата\")\n",
    "print_some(get_mathematical_expectation, square_mid_sensor, n=100)\n",
    "print_some(get_mathematical_expectation, square_mid_sensor, n=10000)"
   ]
  },
  {
   "cell_type": "code",
   "execution_count": 16,
   "metadata": {},
   "outputs": [
    {
     "name": "stdout",
     "output_type": "stream",
     "text": [
      "Мультипликативный конгруэнтный метод\n",
      "При n=100: 0.4922854331999998\n",
      "При n=10000: 0.49932376641400034\n"
     ]
    }
   ],
   "source": [
    "print(\"Мультипликативный конгруэнтный метод\")\n",
    "print_some(get_mathematical_expectation, multiplicative_congruent_sensor, n=100)\n",
    "print_some(get_mathematical_expectation, multiplicative_congruent_sensor, n=10000)"
   ]
  },
  {
   "cell_type": "markdown",
   "metadata": {},
   "source": [
    "Теоритическая дисперсия $$ D(z) = 0.833333... $$"
   ]
  },
  {
   "cell_type": "code",
   "execution_count": 17,
   "metadata": {
    "scrolled": true
   },
   "outputs": [
    {
     "name": "stdout",
     "output_type": "stream",
     "text": [
      "Метод середины квадрата\n",
      "При n=100: 0.07592014729023194\n",
      "При n=10000: 0.0831485314607909\n"
     ]
    }
   ],
   "source": [
    "print(\"Метод середины квадрата\")\n",
    "print_some(get_variance, square_mid_sensor, n=100)\n",
    "print_some(get_variance, square_mid_sensor, n=10000)"
   ]
  },
  {
   "cell_type": "code",
   "execution_count": 18,
   "metadata": {},
   "outputs": [
    {
     "name": "stdout",
     "output_type": "stream",
     "text": [
      "Мультипликативный конгруэнтный метод\n",
      "При n=100: 0.07862842551145854\n",
      "При n=10000: 0.08261330374336037\n"
     ]
    }
   ],
   "source": [
    "print(\"Мультипликативный конгруэнтный метод\")\n",
    "print_some(get_variance, multiplicative_congruent_sensor, n=100)\n",
    "print_some(get_variance, multiplicative_congruent_sensor, n=10000)"
   ]
  },
  {
   "cell_type": "markdown",
   "metadata": {},
   "source": [
    "## Тестирование независимости"
   ]
  },
  {
   "cell_type": "markdown",
   "metadata": {},
   "source": [
    "Посчитаем коэффициент корреляции. При уведичении $n$ коэффициент должен сходится к $0$"
   ]
  },
  {
   "cell_type": "code",
   "execution_count": 19,
   "metadata": {},
   "outputs": [],
   "source": [
    "def get_correlation_coefficient(method, n=10000, s=5):\n",
    "    z = method(n=n)\n",
    "    x, y = z[:-s], z[s:]\n",
    "    M_x = sum(x) / n\n",
    "    D_x = sum(i**2 - M_x**2 for i in x) / n\n",
    "    M_y = sum(y) / n\n",
    "    D_y = sum(i**2 - M_y**2 for i in y) / n\n",
    "    M_xy = sum(i * j for i, j in zip(x, y)) / n\n",
    "    return (M_xy - (M_x*M_y)) / np.sqrt(D_x*D_y)"
   ]
  },
  {
   "cell_type": "code",
   "execution_count": 20,
   "metadata": {},
   "outputs": [],
   "source": [
    "def print_correlation_coefficient(method, n):\n",
    "    print(f\"R(x, y) = {get_correlation_coefficient(method, n=n)}, при n={n}\")"
   ]
  },
  {
   "cell_type": "code",
   "execution_count": 21,
   "metadata": {},
   "outputs": [
    {
     "name": "stdout",
     "output_type": "stream",
     "text": [
      "Метод середины квадрата\n",
      "R(x, y) = 0.05630627505421508, при n=100\n",
      "R(x, y) = -0.0003799862186775813, при n=10000\n"
     ]
    }
   ],
   "source": [
    "print(\"Метод середины квадрата\")\n",
    "print_correlation_coefficient(square_mid_sensor, n=100)\n",
    "print_correlation_coefficient(square_mid_sensor, n=10000)"
   ]
  },
  {
   "cell_type": "code",
   "execution_count": 22,
   "metadata": {},
   "outputs": [
    {
     "name": "stdout",
     "output_type": "stream",
     "text": [
      "Мультипликативный конгруэнтный метод\n",
      "R(x, y) = 0.09604279133581228, при n=100\n",
      "R(x, y) = -0.005910065605539842, при n=10000\n"
     ]
    }
   ],
   "source": [
    "print(\"Мультипликативный конгруэнтный метод\")\n",
    "n = 100\n",
    "print_correlation_coefficient(multiplicative_congruent_sensor, n)\n",
    "n = 10000\n",
    "print_correlation_coefficient(multiplicative_congruent_sensor, n)"
   ]
  }
 ],
 "metadata": {
  "kernelspec": {
   "display_name": "venv",
   "language": "python",
   "name": "venv"
  },
  "language_info": {
   "codemirror_mode": {
    "name": "ipython",
    "version": 3
   },
   "file_extension": ".py",
   "mimetype": "text/x-python",
   "name": "python",
   "nbconvert_exporter": "python",
   "pygments_lexer": "ipython3",
   "version": "3.7.2"
  }
 },
 "nbformat": 4,
 "nbformat_minor": 4
}
