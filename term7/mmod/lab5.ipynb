{
 "cells": [
  {
   "cell_type": "markdown",
   "metadata": {},
   "source": [
    "# Лабораторная работа №5\n",
    "# Система массового обслуживания"
   ]
  },
  {
   "cell_type": "code",
   "execution_count": 1,
   "metadata": {},
   "outputs": [],
   "source": [
    "import numpy as np\n",
    "import matplotlib.pyplot as plt\n",
    "from enum import Enum"
   ]
  },
  {
   "cell_type": "code",
   "execution_count": 2,
   "metadata": {},
   "outputs": [],
   "source": [
    "def timed_data(time_and_data, time_period=(0, 100), mark=None):\n",
    "    times = []\n",
    "    data = []\n",
    "    for time, snap in time_and_data:\n",
    "        times.append(time)\n",
    "        data.append(snap)\n",
    "    if mark is None:\n",
    "        plt.plot(times, data)\n",
    "    else:\n",
    "        plt.plot(times, data, 'o')\n",
    "    plt.xlim(time_period)\n",
    "    plt.show()"
   ]
  },
  {
   "cell_type": "code",
   "execution_count": 3,
   "metadata": {},
   "outputs": [],
   "source": [
    "class ServiceDecision(Enum):\n",
    "    ACCEPT = 0\n",
    "    REJECT = 1\n",
    "\n",
    "class Request:\n",
    "    class Status(Enum):\n",
    "        AWAITING = 0\n",
    "        COMPLETED = 1\n",
    "        REJECTED = 2\n",
    "\n",
    "    def __init__(self, status, appearance_time):\n",
    "        self.status = status\n",
    "        self.appearance_time = appearance_time\n",
    "\n",
    "class Service:\n",
    "    def __init__(self, n=None, m=None, lambd=None, mu=None, p=None):\n",
    "        self.amount_of_services = np.infty if n is None else n\n",
    "        self.queue_max_size = np.infty if m is None else m\n",
    "        self.requests_freq = 1 if lambd is None else lambd\n",
    "        self.service_freq = 1 if mu is None else mu\n",
    "        self.acception_prob = 1 if p is None else p\n",
    "        self.rejection_prob = 1 - self.acception_prob\n",
    "        self.init_empty_state()\n",
    "        self.init_stats_items()\n",
    "        self.new_awaiting_request()\n",
    "\n",
    "        \n",
    "    def init_empty_state(self):\n",
    "        self.all_requests = []\n",
    "        self.queue = []\n",
    "        self.current_time = 0.0\n",
    "        self.services_in_work = 0\n",
    "        \n",
    "\n",
    "    def init_stats_items(self):\n",
    "        self.queue_sizes_during_time = []\n",
    "        self.amount_of_working_services_during_time = []\n",
    "        self.completed_requests_amount = 0\n",
    "        self.rejected_requests_amount = 0\n",
    "        self.all_requests_amount = 0\n",
    "\n",
    "        \n",
    "    def request_time_delta(self):\n",
    "        return np.random.exponential(1 / self.requests_freq)\n",
    "\n",
    "    \n",
    "    def service_time_delta(self):\n",
    "        return np.random.exponential(1 / self.service_freq)\n",
    "\n",
    "    \n",
    "    def new_awaiting_request(self):\n",
    "        self.all_requests_amount += 1\n",
    "        request = Request(\n",
    "            status=Request.Status.AWAITING, \n",
    "            appearance_time=self.current_time+self.request_time_delta()\n",
    "        )\n",
    "        self.add_request(request)\n",
    "\n",
    "        \n",
    "    def add_request(self, request):\n",
    "        self.all_requests.append(request)\n",
    "        self.all_requests = sorted(self.all_requests, key=lambda req: req.appearance_time)\n",
    "\n",
    "        \n",
    "    def start_work(self):\n",
    "        self.services_in_work += 1\n",
    "        decision = np.random.choice(\n",
    "            [ServiceDecision.ACCEPT, ServiceDecision.REJECT],\n",
    "            p=[self.acception_prob, self.rejection_prob]\n",
    "        )\n",
    "        if decision is ServiceDecision.ACCEPT:\n",
    "            req = Request(\n",
    "                status=Request.Status.COMPLETED, \n",
    "                appearance_time=self.current_time+self.service_time_delta()\n",
    "            )\n",
    "            self.add_request(req)\n",
    "        elif decision is ServiceDecision.REJECT:\n",
    "            req = Request(\n",
    "                status=Request.Status.REJECTED, \n",
    "                appearance_time=self.current_time+self.service_time_delta()\n",
    "            )\n",
    "            self.add_request(req)\n",
    "\n",
    "            \n",
    "    def process_awaiting_request(self, req):\n",
    "        self.current_time = req.appearance_time\n",
    "        if self.services_in_work < self.amount_of_services:\n",
    "            self.start_work()\n",
    "        elif len(self.queue) < self.queue_max_size:\n",
    "            self.queue.append(req) \n",
    "        else:\n",
    "            self.rejected_requests_amount += 1\n",
    "\n",
    "\n",
    "    def process_completed_request(self, req):\n",
    "        self.current_time = req.appearance_time\n",
    "        self.services_in_work -= 1\n",
    "        if len(self.queue) != 0:\n",
    "            self.queue.pop(0)\n",
    "            self.start_work()\n",
    "\n",
    "\n",
    "    def process_rejected_request(self, req):\n",
    "        self.current_time = req.appearance_time\n",
    "        self.services_in_work -= 1\n",
    "        req.status = Request.Status.AWAITING\n",
    "        self.process_awaiting_request(req)\n",
    "\n",
    "\n",
    "    def start_accepting_requests(self, time_end=None):\n",
    "        assert time_end is not None, \"END TIME IS NOT SET\"\n",
    "        while self.current_time < time_end:\n",
    "            request = self.all_requests.pop(0)\n",
    "            if self.current_time >= time_end:\n",
    "                break\n",
    "            self.queue_sizes_during_time.append((self.current_time, len(self.queue)))\n",
    "            self.amount_of_working_services_during_time.append((self.current_time, self.services_in_work))\n",
    "            if request.status is Request.Status.AWAITING:\n",
    "                self.process_awaiting_request(request)\n",
    "                self.new_awaiting_request()\n",
    "            elif request.status is Request.Status.COMPLETED:\n",
    "                self.process_completed_request(request)\n",
    "                self.completed_requests_amount += 1\n",
    "                self.all_requests_amount += 1\n",
    "            elif request.status is Request.Status.REJECTED:\n",
    "                self.process_rejected_request(request)\n",
    "                self.rejected_requests_amount += 1\n",
    "                self.all_requests_amount += 1\n",
    "\n",
    "                \n",
    "    def get_service_stats(self):\n",
    "        return {\n",
    "            \"queue_sizes_during_time\": self.queue_sizes_during_time,\n",
    "            \"amount_of_working_services_during_time\": self.amount_of_working_services_during_time\n",
    "        }\n",
    "            "
   ]
  },
  {
   "cell_type": "code",
   "execution_count": 4,
   "metadata": {},
   "outputs": [],
   "source": [
    "def final_probs_of_states_practical(stats, total_working_time=None):\n",
    "    assert total_working_time is not None, \"TOTAL WORKING TIME IS NOT SET\"\n",
    "    \n",
    "    time_and_queue_sizes = stats[\"queue_sizes_during_time\"]\n",
    "    time_and_amount_of_working_services = stats[\"amount_of_working_services_during_time\"]\n",
    "    \n",
    "    time_points = [j for j, i in time_and_queue_sizes]\n",
    "    queue_sizes = [i for j, i in time_and_queue_sizes]\n",
    "    working_services_amount = [i for j, i in time_and_amount_of_working_services]\n",
    "    \n",
    "    probs = [0 for _ in range(max(queue_sizes) + max(working_services_amount) + 1)]\n",
    "    time_step = 0\n",
    "    for queue_size, services_working, time in zip(queue_sizes, working_services_amount, time_points):\n",
    "        probs[queue_size + services_working] += time - time_step\n",
    "        time_step = time\n",
    "    return [p / total_working_time for p in probs] \n",
    "\n",
    "def final_probs_of_states_theoretical(s):\n",
    "    time_and_queue_sizes = stats[\"queue_sizes_during_time\"]\n",
    "    time_and_amount_of_working_services = stats[\"amount_of_working_services_during_time\"]\n",
    "    queue_sizes = [i for j, i in time_and_queue_sizes]\n",
    "    working_services_amount = [i for j, i in time_and_amount_of_working_services]\n",
    "    \n",
    "    load_intensity = s.requests_freq / s.service_freq\n",
    "    n = max(working_services_amount)\n",
    "    m = max(queue_sizes)\n",
    "    probs = [1]\n",
    "    for i in range(1, n + 1):\n",
    "        probs.append((load_intensity ** i) / np.math.factorial(i))\n",
    "    for i in range(1, m + 1):\n",
    "        probs.append((load_intensity ** (n+i)) / (n**i * np.math.factorial(n)))\n",
    "    p0 = sum(probs)\n",
    "    return [p * (1/p0) for p in probs]"
   ]
  },
  {
   "cell_type": "code",
   "execution_count": 5,
   "metadata": {},
   "outputs": [],
   "source": [
    "s = Service(n=3, m=4, lambd=10, mu=6, p=0.99)\n",
    "time_end = 10000\n",
    "s.start_accepting_requests(time_end=time_end)\n",
    "stats = s.get_service_stats()"
   ]
  },
  {
   "cell_type": "markdown",
   "metadata": {},
   "source": [
    "## Финальные вероятности состояний"
   ]
  },
  {
   "cell_type": "code",
   "execution_count": 6,
   "metadata": {},
   "outputs": [
    {
     "data": {
      "image/png": "[encoded data removed]",
      "text/plain": [
       "<Figure size 432x288 with 1 Axes>"
      ]
     },
     "metadata": {
      "needs_background": "light"
     },
     "output_type": "display_data"
    }
   ],
   "source": [
    "probs0 = final_probs_of_states_practical(stats, time_end)\n",
    "plt.plot(probs0, 'o', label=\"Практически\")\n",
    "probs1 = final_probs_of_states_theoretical(s)\n",
    "plt.plot(probs1, 'o', label=\"Теоретически\")\n",
    "plt.suptitle(\"Финальные вероятности состояний\", fontweight='bold')\n",
    "plt.legend()\n",
    "plt.show()"
   ]
  },
  {
   "cell_type": "markdown",
   "metadata": {},
   "source": [
    "## Вероятность отклонения заявки"
   ]
  },
  {
   "cell_type": "code",
   "execution_count": 7,
   "metadata": {},
   "outputs": [
    {
     "name": "stdout",
     "output_type": "stream",
     "text": [
      "Практическая: 0.012213946378527433 Теоретическая: 0.012895740353325955\n"
     ]
    }
   ],
   "source": [
    "def reject_prob_practical(s):\n",
    "    return s.rejected_requests_amount / (s.all_requests_amount)\n",
    "\n",
    "def reject_prob_theoretical(s):\n",
    "    return final_probs_of_states_theoretical(s)[-1]\n",
    "\n",
    "print(f\"Практическая: {reject_prob_practical(s)}\", f\"Теоретическая: {reject_prob_theoretical(s)}\")"
   ]
  },
  {
   "cell_type": "markdown",
   "metadata": {},
   "source": [
    "## Абсолютная пропускная способность"
   ]
  },
  {
   "cell_type": "code",
   "execution_count": 8,
   "metadata": {},
   "outputs": [
    {
     "name": "stdout",
     "output_type": "stream",
     "text": [
      "Практическая: 9.877860536214726 Теоретическая: 9.87104259646674\n"
     ]
    }
   ],
   "source": [
    "print(f\"Практическая: {s.requests_freq * (1 - reject_prob_practical(s))}\", f\"Теоретическая: {s.requests_freq * (1 - reject_prob_theoretical(s))}\")"
   ]
  },
  {
   "cell_type": "markdown",
   "metadata": {},
   "source": [
    "## Среднее число заявок"
   ]
  },
  {
   "cell_type": "code",
   "execution_count": 9,
   "metadata": {},
   "outputs": [
    {
     "name": "stdout",
     "output_type": "stream",
     "text": [
      "Практически: 2.0896557048506854 Теоретически: 1.9251660806292032\n"
     ]
    }
   ],
   "source": [
    "print(\n",
    "    f\"Практически: {sum(i * j for i, j in enumerate(final_probs_of_states_practical(stats, time_end)))}\",\n",
    "    f\"Теоретически: {sum(i * j for i, j in enumerate(final_probs_of_states_theoretical(s)))}\",\n",
    ")"
   ]
  },
  {
   "cell_type": "markdown",
   "metadata": {},
   "source": [
    "## Среднее количество работающих каналов"
   ]
  },
  {
   "cell_type": "code",
   "execution_count": 10,
   "metadata": {},
   "outputs": [
    {
     "name": "stdout",
     "output_type": "stream",
     "text": [
      "Практически: 0.8471087547549372 Теоретически: 0.7797561058545093\n"
     ]
    }
   ],
   "source": [
    "time_and_queue_sizes = stats[\"queue_sizes_during_time\"]\n",
    "queue_sizes = [i for j, i in time_and_queue_sizes]\n",
    "m = max(queue_sizes)\n",
    "print(\n",
    "    f\"Практически: {sum(i * j for i, j in enumerate(final_probs_of_states_practical(stats, time_end)[:m-1]))}\",\n",
    "    f\"Теоретически: {sum(i * j for i, j in enumerate(final_probs_of_states_theoretical(s)[:m-1]))}\",\n",
    ")"
   ]
  },
  {
   "cell_type": "markdown",
   "metadata": {},
   "source": [
    "## График работающих каналов"
   ]
  },
  {
   "cell_type": "code",
   "execution_count": 11,
   "metadata": {},
   "outputs": [
    {
     "data": {
      "image/png": "[encoded data removed]",
      "text/plain": [
       "<Figure size 432x288 with 1 Axes>"
      ]
     },
     "metadata": {
      "needs_background": "light"
     },
     "output_type": "display_data"
    }
   ],
   "source": [
    "time_and_amount_of_working_services = stats[\"amount_of_working_services_during_time\"]\n",
    "timed_data(time_and_amount_of_working_services, (0, 10))"
   ]
  },
  {
   "cell_type": "markdown",
   "metadata": {},
   "source": [
    "## Среднее число элементов в очереди"
   ]
  },
  {
   "cell_type": "code",
   "execution_count": 12,
   "metadata": {},
   "outputs": [
    {
     "name": "stdout",
     "output_type": "stream",
     "text": [
      "Практически: 0.28984604052583174 Теоретически: 0.27999231455141316\n"
     ]
    }
   ],
   "source": [
    "time_and_queue_sizes = stats[\"queue_sizes_during_time\"]\n",
    "working_services_amount = [i for j, i in time_and_amount_of_working_services]\n",
    "m = max(working_services_amount)\n",
    "print(\n",
    "    f\"Практически: {sum((i - m if i > m else 0) * j for i, j in enumerate(final_probs_of_states_practical(stats, time_end)))}\",\n",
    "    f\"Теоретически: {sum((i - m if i > m else 0) * j for i, j in enumerate(final_probs_of_states_theoretical(s)))}\",\n",
    ")"
   ]
  },
  {
   "cell_type": "markdown",
   "metadata": {},
   "source": [
    "## График количества элементов в очереди"
   ]
  },
  {
   "cell_type": "code",
   "execution_count": 13,
   "metadata": {},
   "outputs": [
    {
     "data": {
      "image/png": "[encoded data removed]",
      "text/plain": [
       "<Figure size 432x288 with 1 Axes>"
      ]
     },
     "metadata": {
      "needs_background": "light"
     },
     "output_type": "display_data"
    }
   ],
   "source": [
    "time_and_queue_sizes = stats[\"queue_sizes_during_time\"]\n",
    "timed_data(time_and_queue_sizes, (0, 50))"
   ]
  },
  {
   "cell_type": "markdown",
   "metadata": {},
   "source": [
    "## Состояние СМО в единицу времени"
   ]
  },
  {
   "cell_type": "code",
   "execution_count": 14,
   "metadata": {},
   "outputs": [],
   "source": [
    "\n",
    "def kek(stats):\n",
    "    time_and_queue_sizes = stats[\"queue_sizes_during_time\"]\n",
    "    time_and_amount_of_working_services = stats[\"amount_of_working_services_during_time\"]\n",
    "    \n",
    "    time_points = [j for j, i in time_and_queue_sizes]\n",
    "    queue_sizes = [i for j, i in time_and_queue_sizes]\n",
    "    working_services_amount = [i for j, i in time_and_amount_of_working_services]\n",
    "\n",
    "    time_with_state = []\n",
    "    \n",
    "    system_state = [i for i in range(max(queue_sizes) + max(working_services_amount) + 1)]\n",
    "    for queue_size, services_working, time in zip(queue_sizes, working_services_amount, time_points):\n",
    "        time_with_state.append((time, system_state[queue_size + services_working])) \n",
    "    return time_with_state"
   ]
  },
  {
   "cell_type": "code",
   "execution_count": 15,
   "metadata": {},
   "outputs": [
    {
     "data": {
      "image/png": "[encoded data removed]",
      "text/plain": [
       "<Figure size 432x288 with 1 Axes>"
      ]
     },
     "metadata": {
      "needs_background": "light"
     },
     "output_type": "display_data"
    }
   ],
   "source": [
    "timed_data(kek(stats), (0, 10), 'o')"
   ]
  },
  {
   "cell_type": "markdown",
   "metadata": {},
   "source": [
    "## Установление стационарного режима СМО"
   ]
  },
  {
   "cell_type": "code",
   "execution_count": 16,
   "metadata": {},
   "outputs": [
    {
     "data": {
      "text/plain": [
       "[0.10649900230644994,\n",
       " 0.10650329075616241,\n",
       " 0.10652323603208565,\n",
       " 0.10652527760817407,\n",
       " 0.10652722364040142,\n",
       " 0.10654188166365762,\n",
       " 0.10655381751146646,\n",
       " 0.10656059619589864,\n",
       " 0.10657206410276426,\n",
       " 0.10657241184071822,\n",
       " 0.10658426325159394,\n",
       " 0.10659619062998568,\n",
       " 0.10659883855610856,\n",
       " 0.1066008822422354,\n",
       " 0.106616408622878,\n",
       " 0.10662102949489431,\n",
       " 0.10662397100843604,\n",
       " 0.10663067692723993,\n",
       " 0.10663167294836162,\n",
       " 0.10663333364585682,\n",
       " 0.10664419777941361,\n",
       " 0.10664908090186086,\n",
       " 0.10665423650539083,\n",
       " 0.1066675498306056,\n",
       " 0.106674680781525,\n",
       " 0.10667486739564351,\n",
       " 0.10668760687220834,\n",
       " 0.10669077231177193,\n",
       " 0.10669104156367698,\n",
       " 0.10669199187592708]"
      ]
     },
     "execution_count": 16,
     "metadata": {},
     "output_type": "execute_result"
    }
   ],
   "source": [
    "time_and_queue_sizes = stats[\"queue_sizes_during_time\"]\n",
    "time_and_amount_of_working_services = stats[\"amount_of_working_services_during_time\"]\n",
    "    \n",
    "time_points = [j for j, i in time_and_queue_sizes]\n",
    "queue_sizes = [i for j, i in time_and_queue_sizes]\n",
    "working_services_amount = [i for j, i in time_and_amount_of_working_services]\n",
    "   \n",
    "r = []\n",
    "probs = [0 for _ in range(max(queue_sizes) + max(working_services_amount) + 1)]\n",
    "time_step = 0\n",
    "for queue_size, services_working, time in zip(queue_sizes, working_services_amount, time_points):\n",
    "    probs[queue_size + services_working] += time - time_step\n",
    "    if queue_size + services_working == 0:\n",
    "        r.append(probs[queue_size + services_working] / time_end)\n",
    "    time_step = time\n",
    "r[len(r)-30:]"
   ]
  }
 ],
 "metadata": {
  "kernelspec": {
   "display_name": "Python 3",
   "language": "python",
   "name": "python3"
  },
  "language_info": {
   "codemirror_mode": {
    "name": "ipython",
    "version": 3
   },
   "file_extension": ".py",
   "mimetype": "text/x-python",
   "name": "python",
   "nbconvert_exporter": "python",
   "pygments_lexer": "ipython3",
   "version": "3.8.5"
  }
 },
 "nbformat": 4,
 "nbformat_minor": 4
}
