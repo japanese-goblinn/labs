{
 "cells": [
  {
   "cell_type": "markdown",
   "metadata": {},
   "source": [
    "# Лабораторная работа №2 \n",
    "# Генерация систем непрерывных и дискретных случайных величин"
   ]
  },
  {
   "cell_type": "code",
   "execution_count": 1,
   "metadata": {},
   "outputs": [
    {
     "data": {
      "text/plain": [
       "'Вариант 1'"
      ]
     },
     "execution_count": 1,
     "metadata": {},
     "output_type": "execute_result"
    }
   ],
   "source": [
    "f\"Вариант {(75350035 - 1) % 9 + 1}\""
   ]
  },
  {
   "cell_type": "code",
   "execution_count": 2,
   "metadata": {},
   "outputs": [],
   "source": [
    "import numpy as np\n",
    "import matplotlib.pyplot as plt"
   ]
  },
  {
   "cell_type": "code",
   "execution_count": 3,
   "metadata": {},
   "outputs": [],
   "source": [
    "def multiplicative_congruent_sensor(n=20, a0=19941994, k=(2**32)-5, m=2**64, float_round=8):\n",
    "    assert a0 >= 0, \"`a0` should not be negative\"\n",
    "    assert m >= 0, \"`m` should not be negative\"\n",
    "    \n",
    "    generated_nums = []\n",
    "    next_a = a0\n",
    "    for _ in range(n):\n",
    "        next_a = (k * next_a) % m\n",
    "        generated_nums.append(round(next_a / m, float_round))\n",
    "    return generated_nums"
   ]
  },
  {
   "cell_type": "code",
   "execution_count": 4,
   "metadata": {},
   "outputs": [],
   "source": [
    "def get_frequencies(x, k, n):\n",
    "    step = max(x) / k\n",
    "    arange = np.arange(min(x), max(x) + step, step)\n",
    "    x_n = [0 for _ in range(k)]\n",
    "    for index, (i, j) in enumerate(zip(arange, arange[1:])):\n",
    "        for el in x:\n",
    "            if i <= el <= j:\n",
    "                x_n[index] += 1\n",
    "    return arange, [i/n for i in x_n]"
   ]
  },
  {
   "cell_type": "code",
   "execution_count": 5,
   "metadata": {},
   "outputs": [],
   "source": [
    "def draw_hist_plot(x_orig, y_orig, title=\"\", is_plot_show=True):\n",
    "    x = x_orig[:]\n",
    "    y = y_orig[:]\n",
    "    y.insert(0, 0)\n",
    "    plt.step(x, y)\n",
    "    plt.vlines(x, min(y), y, colors='C0')\n",
    "    plt.grid(True)\n",
    "    plt.suptitle(title, fontweight='bold')\n",
    "    if is_plot_show:\n",
    "        plt.show()\n",
    "        \n",
    "def draw_plot(x_orig, y_orig, plot_type=\"\", title=\"\", is_plot_show=True):\n",
    "    x = x_orig[:]\n",
    "    y = y_orig[:]\n",
    "    plt.plot(x, y, plot_type)\n",
    "    plt.grid(True)\n",
    "    plt.suptitle(title, fontweight='bold')\n",
    "    if is_plot_show:\n",
    "        plt.show()"
   ]
  },
  {
   "cell_type": "markdown",
   "metadata": {},
   "source": [
    "## Формирование двумерной НСВ"
   ]
  },
  {
   "cell_type": "markdown",
   "metadata": {},
   "source": [
    "Функция плотности распределения:\n",
    "$$ f(x, y) = e^{-x-y}, \\forall x, y : 0 \\leq x, y \\leq \\infty $$"
   ]
  },
  {
   "cell_type": "code",
   "execution_count": 6,
   "metadata": {},
   "outputs": [],
   "source": [
    "def F(arg):\n",
    "    return 1 - np.e ** (-arg)\n",
    "\n",
    "def F_inv(arg):\n",
    "    return -np.log(1 - arg)\n",
    "\n",
    "def F_x(x):\n",
    "    return F(x)\n",
    "\n",
    "def F_inv_x(x):\n",
    "    return F_inv(x)\n",
    "\n",
    "def F_y(y):\n",
    "    return F(y)\n",
    "\n",
    "def F_inv_y(y):\n",
    "    return F_inv(y)\n",
    "\n",
    "def M_x(l=1):\n",
    "    return l ** -1\n",
    "\n",
    "def M_y(l=1):\n",
    "    return l ** - 1\n",
    "\n",
    "def Var_x(l=1):\n",
    "    return l ** -2\n",
    "\n",
    "def Var_y(l=1):\n",
    "    return l ** -2"
   ]
  },
  {
   "cell_type": "code",
   "execution_count": 24,
   "metadata": {},
   "outputs": [
    {
     "data": {
      "image/png": "[encoded data removed]",
      "text/plain": [
       "<Figure size 432x288 with 1 Axes>"
      ]
     },
     "metadata": {
      "needs_background": "light"
     },
     "output_type": "display_data"
    },
    {
     "data": {
      "image/png": "[encoded data removed]",
      "text/plain": [
       "<Figure size 432x288 with 1 Axes>"
      ]
     },
     "metadata": {
      "needs_background": "light"
     },
     "output_type": "display_data"
    }
   ],
   "source": [
    "n = 100000\n",
    "k = 100\n",
    "p = [i for i in multiplicative_congruent_sensor(n=2*n)]\n",
    "\n",
    "x1 = [F_inv_x(i) for i in p[::2]]\n",
    "x1_0, y1_0 = get_frequencies(x1, k, n)\n",
    "draw_hist_plot(x1_0, y1_0, title=\"Гистограмма для компоненты х\")\n",
    "\n",
    "x2 = [F_inv_y(i) for i in p[1::2]]\n",
    "x2_0, y2_0 = get_frequencies(x2, k, n)\n",
    "draw_hist_plot(x2_0, y2_0, title=\"Гистограмма для компоненты y\")"
   ]
  },
  {
   "cell_type": "code",
   "execution_count": 25,
   "metadata": {},
   "outputs": [
    {
     "name": "stdout",
     "output_type": "stream",
     "text": [
      "Точечная оценка мат. ожидания для x: 0.9999281774035511\n",
      "Интервальная оценка мат. ожидания для x: (0.993716842980185, 1.0061395118269172)\n",
      "Теоретическое мат. ожидание для x: 1.0\n",
      "Точечная оценка дисперсии для x: 1.0042891876492355\n",
      "Интервальная оценка дисперсии для x: (1.004024335768885, 1.0045876216881002)\n",
      "Теоретическая дисперсия для x: 1.0\n",
      "\n",
      "Точечная оценка мат. ожидания для y: 1.0012495974177018\n",
      "Интервальная оценка мат. ожидания для x: (0.9950263157559841, 1.0074728790794196)\n",
      "Теоретическое мат. ожидание для y: 1.0\n",
      "Точечная оценка дисперсии для y: 1.0081563185316482\n",
      "Интервальная оценка дисперсии для x: (1.004024335768885, 1.0045876216881002)\n",
      "Теоретическая дисперсия для y: 1.0\n"
     ]
    }
   ],
   "source": [
    "def mathematical_expectation(x, n):\n",
    "    return sum(x) / n\n",
    "\n",
    "def variance(x, n):\n",
    "    m = mathematical_expectation(x, n)\n",
    "    return sum(i**2 - m for i in x) / (n-1)\n",
    "\n",
    "from scipy.stats import chi2, t\n",
    "\n",
    "def me_interval_estimation(variance, me, n, alpha=0.05):\n",
    "    cof = np.sqrt(variance) * t.ppf(1 - alpha / 2, n - 1) / np.sqrt(n - 1)\n",
    "    return me - cof, me + cof\n",
    "\n",
    "def variance_interval_estimation(variance, n, alpha=0.05):\n",
    "    left = n * variance / chi2.isf((1 - alpha) / 2, n - 1)\n",
    "    right = n * variance / chi2.isf((1 + alpha) / 2, n - 1)\n",
    "    return left, right\n",
    "\n",
    "print(\"Точечная оценка мат. ожидания для x:\", mathematical_expectation(x1, n))\n",
    "print(\"Интервальная оценка мат. ожидания для x:\", me_interval_estimation(variance(x1, n), mathematical_expectation(x1, n), n))\n",
    "print(\"Теоретическое мат. ожидание для x:\", M_x())\n",
    "print(\"Точечная оценка дисперсии для x:\", variance(x1, n))\n",
    "print(\"Интервальная оценка дисперсии для x:\", variance_interval_estimation(variance(x1, n), n))\n",
    "print(\"Теоретическая дисперсия для x:\", Var_x())\n",
    "print(\"\")\n",
    "print(\"Точечная оценка мат. ожидания для y:\", mathematical_expectation(x2, n))\n",
    "print(\"Интервальная оценка мат. ожидания для x:\", me_interval_estimation(variance(x2, n), mathematical_expectation(x2, n), n))\n",
    "print(\"Теоретическое мат. ожидание для y:\", M_y())\n",
    "print(\"Точечная оценка дисперсии для y:\", variance(x2, n))\n",
    "print(\"Интервальная оценка дисперсии для x:\", variance_interval_estimation(variance(x1, n), n))\n",
    "print(\"Теоретическая дисперсия для y:\", Var_y())"
   ]
  },
  {
   "cell_type": "code",
   "execution_count": 9,
   "metadata": {},
   "outputs": [],
   "source": [
    "def correlation_coefficient(x_o, y_o):\n",
    "    x, y = x_o, y_o\n",
    "    me_x = mathematical_expectation(x, len(x))\n",
    "    me_y = mathematical_expectation(y, len(y))\n",
    "    return sum((i-me_x)*(j-me_y) for i, j in zip(x, y)) / np.sqrt(sum((i-me_x)**2 for i in x) * sum((i-me_y)**2 for i in y))"
   ]
  },
  {
   "cell_type": "code",
   "execution_count": 10,
   "metadata": {},
   "outputs": [
    {
     "name": "stdout",
     "output_type": "stream",
     "text": [
      "Состоятельная оценка коэффициента корреляции: -0.003546027858964998\n"
     ]
    }
   ],
   "source": [
    "print(\"Состоятельная оценка коэффициента корреляции:\", correlation_coefficient(x1, x2))"
   ]
  },
  {
   "cell_type": "markdown",
   "metadata": {},
   "source": [
    "## Формирование двумерной ДСВ"
   ]
  },
  {
   "cell_type": "markdown",
   "metadata": {},
   "source": [
    "В качестве закона распределения возьмем одновременное выпадение значений на двух игральных костях"
   ]
  },
  {
   "cell_type": "code",
   "execution_count": 11,
   "metadata": {},
   "outputs": [
    {
     "name": "stdout",
     "output_type": "stream",
     "text": [
      "Теоретический закон распределения:\n",
      " [[0.027778 0.027778 0.027778 0.027778 0.027778 0.027778]\n",
      " [0.027778 0.027778 0.027778 0.027778 0.027778 0.027778]\n",
      " [0.027778 0.027778 0.027778 0.027778 0.027778 0.027778]\n",
      " [0.027778 0.027778 0.027778 0.027778 0.027778 0.027778]\n",
      " [0.027778 0.027778 0.027778 0.027778 0.027778 0.027778]\n",
      " [0.027778 0.027778 0.027778 0.027778 0.027778 0.027778]]\n"
     ]
    }
   ],
   "source": [
    "X = [1, 2, 3, 4, 5, 6]\n",
    "Y = [1, 2, 3, 4, 5, 6]\n",
    "p_x = [1/6 for _ in range(len(X))]\n",
    "p_y = [1/6 for _ in range(len(Y))]\n",
    "P = [[round(i*j, 6) for j in p_y] for i in p_x]\n",
    "print(\"Теоретический закон распределения:\\n\", np.matrix(P))"
   ]
  },
  {
   "cell_type": "code",
   "execution_count": 12,
   "metadata": {},
   "outputs": [
    {
     "data": {
      "text/plain": [
       "1.0"
      ]
     },
     "execution_count": 12,
     "metadata": {},
     "output_type": "execute_result"
    }
   ],
   "source": [
    "round(sum(sum(i) for i in P), 2)"
   ]
  },
  {
   "cell_type": "code",
   "execution_count": 13,
   "metadata": {},
   "outputs": [],
   "source": [
    "def F_x(i):\n",
    "    return sum(sum(P[j][k] for k in range(len(Y))) for j in range(i))\n",
    "\n",
    "def F_y(m, k):\n",
    "    return sum(P[k][j] / sum(P[k]) for j in range(m))"
   ]
  },
  {
   "cell_type": "code",
   "execution_count": 14,
   "metadata": {},
   "outputs": [],
   "source": [
    "from collections import Counter\n",
    "\n",
    "def get_counts(n):\n",
    "    p = multiplicative_congruent_sensor(n=n)\n",
    "    gen_x = []\n",
    "    gen_y = []\n",
    "    indicies_x = []\n",
    "    indicies_y = []\n",
    "    for ((i, _), (j, _)) in zip(enumerate(X), list(enumerate(X))[1:]):\n",
    "        indicies_x.append((i, j))\n",
    "    for ((i, _), (j, _)) in zip(enumerate(Y), list(enumerate(Y))[1:]):\n",
    "        indicies_y.append((i, j))\n",
    "    indicies_x.append((len(X)-1, len(X)))\n",
    "    indicies_y.append((len(Y)-1, len(Y)))\n",
    "    for i, j in indicies_x:\n",
    "        for pv in p:\n",
    "            if F_x(i) < pv <= F_x(j):\n",
    "                gen_x.append(X[i])\n",
    "                for k, m in indicies_y:\n",
    "                    if F_y(k, i) < pv <= F_y(m, i):\n",
    "                        gen_y.append(Y[i])\n",
    "    return sorted(Counter(gen_x).most_common()), sorted(Counter(gen_y).most_common())"
   ]
  },
  {
   "cell_type": "code",
   "execution_count": 23,
   "metadata": {},
   "outputs": [
    {
     "name": "stdout",
     "output_type": "stream",
     "text": [
      "Эмпирическая матрица распределения:\n",
      " [[0.02777778 0.02777778 0.02777778 0.02777778 0.02777778 0.02777778]\n",
      " [0.02777778 0.02777778 0.02777778 0.02777778 0.02777778 0.02777778]\n",
      " [0.02777778 0.02777778 0.02777778 0.02777778 0.02777778 0.02777778]\n",
      " [0.02777778 0.02777778 0.02777778 0.02777778 0.02777778 0.02777778]\n",
      " [0.02777778 0.02777778 0.02777778 0.02777778 0.02777778 0.02777778]\n",
      " [0.02777778 0.02777778 0.02777778 0.02777778 0.02777778 0.02777778]]\n",
      "Образует полную группу: 1.0\n",
      "Maт. ожидание: 3.4964000000000004\n",
      "Интервальная оценка мат. ожидания: (3.4630507802201436, 3.5297492197798572)\n",
      "Теоретическое мaт. ожидание: 3.5\n",
      "Дисперсия: 2.8941870399999967\n",
      "Интервальная оценка дисперсии: (2.8921037847284587, 2.897238216253338)\n",
      "Теоретическая дисперсия: 2.916666666666666\n"
     ]
    },
    {
     "data": {
      "image/png": "[encoded data removed]",
      "text/plain": [
       "<Figure size 432x288 with 1 Axes>"
      ]
     },
     "metadata": {
      "needs_background": "light"
     },
     "output_type": "display_data"
    }
   ],
   "source": [
    "n = 10000\n",
    "x_count, y_count = get_counts(n)\n",
    "pe_x = [i/n for _, i in x_count]\n",
    "pe_y = [i/n for _, i in y_count]\n",
    "P_e = [[i*j for j in p_y] for i in p_x]\n",
    "e_mtx = np.matrix(P_e)\n",
    "print(\"Эмпирическая матрица распределения:\\n\", e_mtx)\n",
    "print(\"Образует полную группу:\", round(sum(sum(i) for i in P_e), 2))\n",
    "print(\"Maт. ожидание:\", sum(i*j for i, j in zip(X, pe_x)))\n",
    "print(\"Интервальная оценка мат. ожидания:\", \n",
    "      me_interval_estimation(\n",
    "        sum(((i)**2 * j for i, j in zip(X, pe_x))) - (sum(i*j for i, j in zip(X, pe_x)))**2,\n",
    "        sum(i*j for i, j in zip(X, pe_x)),\n",
    "        n\n",
    "      )\n",
    ")\n",
    "print(\"Теоретическое мaт. ожидание:\", sum(i*j for i, j in zip(X, p_x)))\n",
    "print(\"Дисперсия:\", sum(((i)**2 * j for i, j in zip(X, pe_x))) - (sum(i*j for i, j in zip(X, pe_x)))**2)\n",
    "print(\"Интервальная оценка дисперсии:\", \n",
    "      variance_interval_estimation(\n",
    "          sum(((i)**2 * j for i, j in zip(X, pe_x))) - (sum(i*j for i, j in zip(X, pe_x)))**2, \n",
    "          n\n",
    "      )\n",
    ")\n",
    "print(\"Теоретическая дисперсия:\", sum(((i)**2 * j for i, j in zip(X, p_x))) - (sum(i*j for i, j in zip(X, p_x)))**2)\n",
    "x = X[:]\n",
    "y = p_x[:]\n",
    "plt.plot(x, y, \"o\")\n",
    "plt.plot(x, y)\n",
    "x = X[:]\n",
    "y = pe_x[:]\n",
    "plt.plot(x, y, \"o\")\n",
    "plt.plot(x, y)\n",
    "plt.grid(True)\n",
    "plt.grid(True)\n",
    "plt.show()"
   ]
  }
 ],
 "metadata": {
  "kernelspec": {
   "display_name": "venv",
   "language": "python",
   "name": "venv"
  },
  "language_info": {
   "codemirror_mode": {
    "name": "ipython",
    "version": 3
   },
   "file_extension": ".py",
   "mimetype": "text/x-python",
   "name": "python",
   "nbconvert_exporter": "python",
   "pygments_lexer": "ipython3",
   "version": "3.7.2"
  }
 },
 "nbformat": 4,
 "nbformat_minor": 4
}
